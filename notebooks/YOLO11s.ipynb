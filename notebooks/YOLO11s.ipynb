{
 "cells": [
  {
   "cell_type": "code",
   "id": "initial_id",
   "metadata": {
    "collapsed": true,
    "ExecuteTime": {
     "end_time": "2025-06-21T16:15:55.241694Z",
     "start_time": "2025-06-21T16:15:51.545395Z"
    }
   },
   "source": [
    "from os.path import split\n",
    "from random import random\n",
    "\n",
    "import numpy as np\n",
    "import torch\n",
    "import pandas as pd\n",
    "import matplotlib.pyplot as plt\n",
    "import cv2\n",
    "import os\n",
    "from pathlib import Path\n",
    "from ultralytics import YOLO\n",
    "import yaml\n",
    "from PIL import Image\n",
    "import zipfile\n",
    "import shutil"
   ],
   "outputs": [],
   "execution_count": 1
  },
  {
   "metadata": {
    "ExecuteTime": {
     "end_time": "2025-06-21T16:15:56.510990Z",
     "start_time": "2025-06-21T16:15:56.473313Z"
    }
   },
   "cell_type": "code",
   "source": [
    "print(f\"Cuda available: {torch.cuda.is_available()}\")\n",
    "print(f\"cuda device count: {torch.cuda.device_count()}\")\n",
    "print(f\"cuda device name: {torch.cuda.get_device_name(torch.cuda.current_device())}\")\n",
    "print(f\"current cuda device:{torch.cuda.current_device()}\")"
   ],
   "id": "476d5c77587bf5ad",
   "outputs": [
    {
     "name": "stdout",
     "output_type": "stream",
     "text": [
      "Cuda available: True\n",
      "cuda device count: 1\n",
      "cuda device name: NVIDIA GeForce RTX 4060\n",
      "current cuda device:0\n"
     ]
    }
   ],
   "execution_count": 2
  },
  {
   "metadata": {
    "ExecuteTime": {
     "end_time": "2025-06-21T16:15:58.175749Z",
     "start_time": "2025-06-21T16:15:58.171634Z"
    }
   },
   "cell_type": "code",
   "source": [
    "device = \"cuda\" if torch.cuda.is_available() else \"cpu\"\n",
    "print(device)"
   ],
   "id": "9b7e8b7b9e8a90c1",
   "outputs": [
    {
     "name": "stdout",
     "output_type": "stream",
     "text": [
      "cuda\n"
     ]
    }
   ],
   "execution_count": 3
  },
  {
   "metadata": {
    "ExecuteTime": {
     "end_time": "2025-06-21T16:16:06.666221Z",
     "start_time": "2025-06-21T16:16:06.661826Z"
    }
   },
   "cell_type": "code",
   "source": [
    "yaml_path = 'F:\\Deep learning\\pytorch\\Dental OPG Image dataset\\Object detection\\data.yaml'\n",
    "\n",
    "with open(yaml_path,'r') as m:\n",
    "  print(m.read())"
   ],
   "id": "afff563ee4918453",
   "outputs": [
    {
     "name": "stdout",
     "output_type": "stream",
     "text": [
      "train: ../train/images\n",
      "val: ../valid/images\n",
      "test: ../test/images\n",
      "\n",
      "nc: 4\n",
      "names: ['Cavities', 'Damage', 'Infection', 'Wisdom']\n",
      "\n",
      "roboflow:\n",
      "  workspace: dental-disease-detection-hpn1d\n",
      "  project: demo-wjml3\n",
      "  version: 8\n",
      "  license: CC BY 4.0\n",
      "  url: https://universe.roboflow.com/dental-disease-detection-hpn1d/demo-wjml3/dataset/8\n"
     ]
    }
   ],
   "execution_count": 4
  },
  {
   "metadata": {
    "ExecuteTime": {
     "end_time": "2025-06-06T03:39:33.951783Z",
     "start_time": "2025-06-06T03:39:33.948770Z"
    }
   },
   "cell_type": "code",
   "source": "print(device)",
   "id": "e00eff6ccc640b71",
   "outputs": [
    {
     "name": "stdout",
     "output_type": "stream",
     "text": [
      "cuda\n"
     ]
    }
   ],
   "execution_count": 6
  },
  {
   "metadata": {
    "ExecuteTime": {
     "end_time": "2025-06-05T19:40:44.236856Z",
     "start_time": "2025-06-05T19:18:20.191112Z"
    }
   },
   "cell_type": "code",
   "source": [
    "from ultralytics import YOLO\n",
    "\n",
    "model = YOLO(r\"F:\\Deep learning\\pytorch\\runs\\detect\\Tooth_fairy2\\weights\\epoch40.pt\")\n",
    "\n",
    "\n",
    "model.train(\n",
    "    data= yaml_path,\n",
    "    epochs=50,\n",
    "    imgsz=640,\n",
    "    batch= 8,\n",
    "    name='Tooth_fairy2',\n",
    "    save_period=10,\n",
    "    save=True,\n",
    "    verbose=True,\n",
    "    resume=True\n",
    ")"
   ],
   "id": "bc046d4762609713",
   "outputs": [
    {
     "name": "stdout",
     "output_type": "stream",
     "text": [
      "New https://pypi.org/project/ultralytics/8.3.150 available  Update with 'pip install -U ultralytics'\n",
      "Ultralytics 8.3.141  Python-3.11.5 torch-2.5.1+cu121 CUDA:0 (NVIDIA GeForce RTX 4060, 8188MiB)\n",
      "\u001B[34m\u001B[1mengine\\trainer: \u001B[0magnostic_nms=False, amp=True, augment=False, auto_augment=randaugment, batch=8, bgr=0.0, box=7.5, cache=False, cfg=None, classes=None, close_mosaic=10, cls=0.5, conf=None, copy_paste=0.0, copy_paste_mode=flip, cos_lr=False, cutmix=0.0, data=F:\\Deep learning\\pytorch\\Dental OPG Image dataset\\Object detection\\data.yaml, degrees=0.0, deterministic=True, device=0, dfl=1.5, dnn=False, dropout=0.0, dynamic=False, embed=None, epochs=50, erasing=0.4, exist_ok=False, fliplr=0.5, flipud=0.0, format=torchscript, fraction=1.0, freeze=None, half=False, hsv_h=0.015, hsv_s=0.7, hsv_v=0.4, imgsz=640, int8=False, iou=0.7, keras=False, kobj=1.0, line_width=None, lr0=0.01, lrf=0.01, mask_ratio=4, max_det=300, mixup=0.0, mode=train, model=F:\\Deep learning\\pytorch\\runs\\detect\\Tooth_fairy2\\weights\\epoch40.pt, momentum=0.937, mosaic=1.0, multi_scale=False, name=Tooth_fairy2, nbs=64, nms=False, opset=None, optimize=False, optimizer=auto, overlap_mask=True, patience=100, perspective=0.0, plots=True, pose=12.0, pretrained=True, profile=False, project=None, rect=False, resume=F:\\Deep learning\\pytorch\\runs\\detect\\Tooth_fairy2\\weights\\epoch40.pt, retina_masks=False, save=True, save_conf=False, save_crop=False, save_dir=runs\\detect\\Tooth_fairy2, save_frames=False, save_json=False, save_period=10, save_txt=False, scale=0.5, seed=0, shear=0.0, show=False, show_boxes=True, show_conf=True, show_labels=True, simplify=True, single_cls=False, source=None, split=val, stream_buffer=False, task=detect, time=None, tracker=botsort.yaml, translate=0.1, val=True, verbose=True, vid_stride=1, visualize=False, warmup_bias_lr=0.0, warmup_epochs=3.0, warmup_momentum=0.8, weight_decay=0.0005, workers=8, workspace=None\n",
      "\n",
      "                   from  n    params  module                                       arguments                     \n",
      "  0                  -1  1       928  ultralytics.nn.modules.conv.Conv             [3, 32, 3, 2]                 \n",
      "  1                  -1  1     18560  ultralytics.nn.modules.conv.Conv             [32, 64, 3, 2]                \n",
      "  2                  -1  1     26080  ultralytics.nn.modules.block.C3k2            [64, 128, 1, False, 0.25]     \n",
      "  3                  -1  1    147712  ultralytics.nn.modules.conv.Conv             [128, 128, 3, 2]              \n",
      "  4                  -1  1    103360  ultralytics.nn.modules.block.C3k2            [128, 256, 1, False, 0.25]    \n",
      "  5                  -1  1    590336  ultralytics.nn.modules.conv.Conv             [256, 256, 3, 2]              \n",
      "  6                  -1  1    346112  ultralytics.nn.modules.block.C3k2            [256, 256, 1, True]           \n",
      "  7                  -1  1   1180672  ultralytics.nn.modules.conv.Conv             [256, 512, 3, 2]              \n",
      "  8                  -1  1   1380352  ultralytics.nn.modules.block.C3k2            [512, 512, 1, True]           \n",
      "  9                  -1  1    656896  ultralytics.nn.modules.block.SPPF            [512, 512, 5]                 \n",
      " 10                  -1  1    990976  ultralytics.nn.modules.block.C2PSA           [512, 512, 1]                 \n",
      " 11                  -1  1         0  torch.nn.modules.upsampling.Upsample         [None, 2, 'nearest']          \n",
      " 12             [-1, 6]  1         0  ultralytics.nn.modules.conv.Concat           [1]                           \n",
      " 13                  -1  1    443776  ultralytics.nn.modules.block.C3k2            [768, 256, 1, False]          \n",
      " 14                  -1  1         0  torch.nn.modules.upsampling.Upsample         [None, 2, 'nearest']          \n",
      " 15             [-1, 4]  1         0  ultralytics.nn.modules.conv.Concat           [1]                           \n",
      " 16                  -1  1    127680  ultralytics.nn.modules.block.C3k2            [512, 128, 1, False]          \n",
      " 17                  -1  1    147712  ultralytics.nn.modules.conv.Conv             [128, 128, 3, 2]              \n",
      " 18            [-1, 13]  1         0  ultralytics.nn.modules.conv.Concat           [1]                           \n",
      " 19                  -1  1    345472  ultralytics.nn.modules.block.C3k2            [384, 256, 1, False]          \n",
      " 20                  -1  1    590336  ultralytics.nn.modules.conv.Conv             [256, 256, 3, 2]              \n",
      " 21            [-1, 10]  1         0  ultralytics.nn.modules.conv.Concat           [1]                           \n",
      " 22                  -1  1   1511424  ultralytics.nn.modules.block.C3k2            [768, 512, 1, True]           \n",
      " 23        [16, 19, 22]  1    820956  ultralytics.nn.modules.head.Detect           [4, [128, 256, 512]]          \n",
      "YOLO11s summary: 181 layers, 9,429,340 parameters, 9,429,324 gradients, 21.6 GFLOPs\n",
      "\n",
      "Transferred 499/499 items from pretrained weights\n",
      "Freezing layer 'model.23.dfl.conv.weight'\n",
      "\u001B[34m\u001B[1mAMP: \u001B[0mrunning Automatic Mixed Precision (AMP) checks...\n",
      "\u001B[34m\u001B[1mAMP: \u001B[0mchecks passed \n",
      "\u001B[34m\u001B[1mtrain: \u001B[0mFast image access  (ping: 26.73.8 ms, read: 1.30.5 MB/s, size: 40.1 KB)\n"
     ]
    },
    {
     "name": "stderr",
     "output_type": "stream",
     "text": [
      "\u001B[34m\u001B[1mtrain: \u001B[0mScanning F:\\Deep learning\\pytorch\\Dental OPG Image dataset\\Object detection\\train\\labels.cache... 7985 images, 139 backgrounds, 0 corrupt: 100%|██████████| 7985/7985 [00:00<?, ?it/s]"
     ]
    },
    {
     "name": "stdout",
     "output_type": "stream",
     "text": [
      "WARNING Box and segment counts should be equal, but got len(segments) = 3831, len(boxes) = 18915. To resolve this only boxes will be used and all segments will be removed. To avoid this please supply either a detect or segment dataset, not a detect-segment mixed dataset.\n"
     ]
    },
    {
     "name": "stderr",
     "output_type": "stream",
     "text": [
      "\n"
     ]
    },
    {
     "name": "stdout",
     "output_type": "stream",
     "text": [
      "\u001B[34m\u001B[1mval: \u001B[0mFast image access  (ping: 259.0187.2 ms, read: 2.21.9 MB/s, size: 36.6 KB)\n"
     ]
    },
    {
     "name": "stderr",
     "output_type": "stream",
     "text": [
      "\u001B[34m\u001B[1mval: \u001B[0mScanning F:\\Deep learning\\pytorch\\Dental OPG Image dataset\\Object detection\\valid\\labels.cache... 1402 images, 33 backgrounds, 0 corrupt: 100%|██████████| 1402/1402 [00:00<?, ?it/s]"
     ]
    },
    {
     "name": "stdout",
     "output_type": "stream",
     "text": [
      "WARNING Box and segment counts should be equal, but got len(segments) = 759, len(boxes) = 3837. To resolve this only boxes will be used and all segments will be removed. To avoid this please supply either a detect or segment dataset, not a detect-segment mixed dataset.\n"
     ]
    },
    {
     "name": "stderr",
     "output_type": "stream",
     "text": [
      "\n"
     ]
    },
    {
     "name": "stdout",
     "output_type": "stream",
     "text": [
      "Plotting labels to runs\\detect\\Tooth_fairy2\\labels.jpg... \n",
      "\u001B[34m\u001B[1moptimizer:\u001B[0m 'optimizer=auto' found, ignoring 'lr0=0.01' and 'momentum=0.937' and determining best 'optimizer', 'lr0' and 'momentum' automatically... \n",
      "\u001B[34m\u001B[1moptimizer:\u001B[0m AdamW(lr=0.00125, momentum=0.9) with parameter groups 81 weight(decay=0.0), 88 weight(decay=0.0005), 87 bias(decay=0.0)\n",
      "Resuming training F:\\Deep learning\\pytorch\\runs\\detect\\Tooth_fairy2\\weights\\epoch40.pt from epoch 42 to 50 total epochs\n",
      "Closing dataloader mosaic\n",
      "Image sizes 640 train, 640 val\n",
      "Using 8 dataloader workers\n",
      "Logging results to \u001B[1mruns\\detect\\Tooth_fairy2\u001B[0m\n",
      "Starting training for 50 epochs...\n",
      "\n",
      "      Epoch    GPU_mem   box_loss   cls_loss   dfl_loss  Instances       Size\n"
     ]
    },
    {
     "name": "stderr",
     "output_type": "stream",
     "text": [
      "      42/50      2.17G      1.816      1.443      1.436          9        640: 100%|██████████| 999/999 [02:15<00:00,  7.38it/s]\n",
      "                 Class     Images  Instances      Box(P          R      mAP50  mAP50-95): 100%|██████████| 88/88 [00:12<00:00,  6.80it/s]\n"
     ]
    },
    {
     "name": "stdout",
     "output_type": "stream",
     "text": [
      "                   all       1402       3837      0.447      0.489      0.394      0.152\n",
      "\n",
      "      Epoch    GPU_mem   box_loss   cls_loss   dfl_loss  Instances       Size\n"
     ]
    },
    {
     "name": "stderr",
     "output_type": "stream",
     "text": [
      "      43/50      2.64G       1.81      1.427      1.426          1        640: 100%|██████████| 999/999 [02:05<00:00,  7.93it/s]\n",
      "                 Class     Images  Instances      Box(P          R      mAP50  mAP50-95): 100%|██████████| 88/88 [00:12<00:00,  6.80it/s]"
     ]
    },
    {
     "name": "stdout",
     "output_type": "stream",
     "text": [
      "                   all       1402       3837       0.44      0.521      0.402      0.156\n"
     ]
    },
    {
     "name": "stderr",
     "output_type": "stream",
     "text": [
      "\n"
     ]
    },
    {
     "name": "stdout",
     "output_type": "stream",
     "text": [
      "\n",
      "      Epoch    GPU_mem   box_loss   cls_loss   dfl_loss  Instances       Size\n"
     ]
    },
    {
     "name": "stderr",
     "output_type": "stream",
     "text": [
      "      44/50      2.64G       1.79       1.41      1.423          0        640: 100%|██████████| 999/999 [02:05<00:00,  7.94it/s]\n",
      "                 Class     Images  Instances      Box(P          R      mAP50  mAP50-95): 100%|██████████| 88/88 [00:13<00:00,  6.76it/s]\n"
     ]
    },
    {
     "name": "stdout",
     "output_type": "stream",
     "text": [
      "                   all       1402       3837      0.446      0.503      0.397      0.155\n",
      "\n",
      "      Epoch    GPU_mem   box_loss   cls_loss   dfl_loss  Instances       Size\n"
     ]
    },
    {
     "name": "stderr",
     "output_type": "stream",
     "text": [
      "      45/50      2.64G       1.79      1.405      1.413          2        640: 100%|██████████| 999/999 [02:06<00:00,  7.92it/s]\n",
      "                 Class     Images  Instances      Box(P          R      mAP50  mAP50-95): 100%|██████████| 88/88 [00:12<00:00,  7.14it/s]"
     ]
    },
    {
     "name": "stdout",
     "output_type": "stream",
     "text": [
      "                   all       1402       3837      0.433      0.514      0.396      0.156\n"
     ]
    },
    {
     "name": "stderr",
     "output_type": "stream",
     "text": [
      "\n"
     ]
    },
    {
     "name": "stdout",
     "output_type": "stream",
     "text": [
      "\n",
      "      Epoch    GPU_mem   box_loss   cls_loss   dfl_loss  Instances       Size\n"
     ]
    },
    {
     "name": "stderr",
     "output_type": "stream",
     "text": [
      "      46/50      2.64G      1.777      1.381       1.41          6        640: 100%|██████████| 999/999 [02:06<00:00,  7.89it/s]\n",
      "                 Class     Images  Instances      Box(P          R      mAP50  mAP50-95): 100%|██████████| 88/88 [00:12<00:00,  7.07it/s]"
     ]
    },
    {
     "name": "stdout",
     "output_type": "stream",
     "text": [
      "                   all       1402       3837      0.414      0.525      0.394      0.155\n"
     ]
    },
    {
     "name": "stderr",
     "output_type": "stream",
     "text": [
      "\n"
     ]
    },
    {
     "name": "stdout",
     "output_type": "stream",
     "text": [
      "\n",
      "      Epoch    GPU_mem   box_loss   cls_loss   dfl_loss  Instances       Size\n"
     ]
    },
    {
     "name": "stderr",
     "output_type": "stream",
     "text": [
      "      47/50      2.64G      1.764      1.375      1.401          0        640: 100%|██████████| 999/999 [02:05<00:00,  7.94it/s]\n",
      "                 Class     Images  Instances      Box(P          R      mAP50  mAP50-95): 100%|██████████| 88/88 [00:11<00:00,  7.58it/s]"
     ]
    },
    {
     "name": "stdout",
     "output_type": "stream",
     "text": [
      "                   all       1402       3837      0.418      0.536      0.393      0.156\n"
     ]
    },
    {
     "name": "stderr",
     "output_type": "stream",
     "text": [
      "\n"
     ]
    },
    {
     "name": "stdout",
     "output_type": "stream",
     "text": [
      "\n",
      "      Epoch    GPU_mem   box_loss   cls_loss   dfl_loss  Instances       Size\n"
     ]
    },
    {
     "name": "stderr",
     "output_type": "stream",
     "text": [
      "      48/50      2.64G      1.774      1.371      1.407          5        640: 100%|██████████| 999/999 [02:04<00:00,  8.04it/s]\n",
      "                 Class     Images  Instances      Box(P          R      mAP50  mAP50-95): 100%|██████████| 88/88 [00:12<00:00,  7.29it/s]"
     ]
    },
    {
     "name": "stdout",
     "output_type": "stream",
     "text": [
      "                   all       1402       3837      0.424      0.531      0.394      0.155\n"
     ]
    },
    {
     "name": "stderr",
     "output_type": "stream",
     "text": [
      "\n"
     ]
    },
    {
     "name": "stdout",
     "output_type": "stream",
     "text": [
      "\n",
      "      Epoch    GPU_mem   box_loss   cls_loss   dfl_loss  Instances       Size\n"
     ]
    },
    {
     "name": "stderr",
     "output_type": "stream",
     "text": [
      "      49/50      2.64G      1.769      1.377      1.403          0        640: 100%|██████████| 999/999 [02:06<00:00,  7.93it/s]\n",
      "                 Class     Images  Instances      Box(P          R      mAP50  mAP50-95): 100%|██████████| 88/88 [00:11<00:00,  7.54it/s]"
     ]
    },
    {
     "name": "stdout",
     "output_type": "stream",
     "text": [
      "                   all       1402       3837      0.428      0.526      0.396      0.157\n"
     ]
    },
    {
     "name": "stderr",
     "output_type": "stream",
     "text": [
      "\n"
     ]
    },
    {
     "name": "stdout",
     "output_type": "stream",
     "text": [
      "\n",
      "      Epoch    GPU_mem   box_loss   cls_loss   dfl_loss  Instances       Size\n"
     ]
    },
    {
     "name": "stderr",
     "output_type": "stream",
     "text": [
      "      50/50      2.64G       1.76      1.349      1.395          4        640: 100%|██████████| 999/999 [02:04<00:00,  8.01it/s]\n",
      "                 Class     Images  Instances      Box(P          R      mAP50  mAP50-95): 100%|██████████| 88/88 [00:12<00:00,  7.21it/s]"
     ]
    },
    {
     "name": "stdout",
     "output_type": "stream",
     "text": [
      "                   all       1402       3837      0.419      0.547      0.392      0.155\n"
     ]
    },
    {
     "name": "stderr",
     "output_type": "stream",
     "text": [
      "\n"
     ]
    },
    {
     "name": "stdout",
     "output_type": "stream",
     "text": [
      "\n",
      "9 epochs completed in 0.351 hours.\n",
      "Optimizer stripped from runs\\detect\\Tooth_fairy2\\weights\\last.pt, 19.2MB\n",
      "Optimizer stripped from runs\\detect\\Tooth_fairy2\\weights\\best.pt, 19.2MB\n",
      "\n",
      "Validating runs\\detect\\Tooth_fairy2\\weights\\best.pt...\n",
      "Ultralytics 8.3.141  Python-3.11.5 torch-2.5.1+cu121 CUDA:0 (NVIDIA GeForce RTX 4060, 8188MiB)\n",
      "YOLO11s summary (fused): 100 layers, 9,414,348 parameters, 0 gradients, 21.3 GFLOPs\n"
     ]
    },
    {
     "name": "stderr",
     "output_type": "stream",
     "text": [
      "                 Class     Images  Instances      Box(P          R      mAP50  mAP50-95): 100%|██████████| 88/88 [00:11<00:00,  7.93it/s]\n"
     ]
    },
    {
     "name": "stdout",
     "output_type": "stream",
     "text": [
      "                   all       1402       3837      0.439      0.493      0.402      0.159\n",
      "              Cavities        636       1370      0.526      0.468      0.469      0.179\n",
      "                Damage        643       1951      0.518      0.469      0.484      0.183\n",
      "             Infection        353        469      0.462      0.397      0.353      0.129\n",
      "                Wisdom         33         47      0.248      0.638        0.3      0.145\n",
      "Speed: 0.2ms preprocess, 3.0ms inference, 0.0ms loss, 1.3ms postprocess per image\n",
      "Results saved to \u001B[1mruns\\detect\\Tooth_fairy2\u001B[0m\n"
     ]
    },
    {
     "data": {
      "text/plain": [
       "ultralytics.utils.metrics.DetMetrics object with attributes:\n",
       "\n",
       "ap_class_index: array([0, 1, 2, 3])\n",
       "box: ultralytics.utils.metrics.Metric object\n",
       "confusion_matrix: <ultralytics.utils.metrics.ConfusionMatrix object at 0x000002040A0BEF10>\n",
       "curves: ['Precision-Recall(B)', 'F1-Confidence(B)', 'Precision-Confidence(B)', 'Recall-Confidence(B)']\n",
       "curves_results: [[array([          0,    0.001001,    0.002002,    0.003003,    0.004004,    0.005005,    0.006006,    0.007007,    0.008008,    0.009009,     0.01001,    0.011011,    0.012012,    0.013013,    0.014014,    0.015015,    0.016016,    0.017017,    0.018018,    0.019019,     0.02002,    0.021021,    0.022022,    0.023023,\n",
       "          0.024024,    0.025025,    0.026026,    0.027027,    0.028028,    0.029029,     0.03003,    0.031031,    0.032032,    0.033033,    0.034034,    0.035035,    0.036036,    0.037037,    0.038038,    0.039039,     0.04004,    0.041041,    0.042042,    0.043043,    0.044044,    0.045045,    0.046046,    0.047047,\n",
       "          0.048048,    0.049049,     0.05005,    0.051051,    0.052052,    0.053053,    0.054054,    0.055055,    0.056056,    0.057057,    0.058058,    0.059059,     0.06006,    0.061061,    0.062062,    0.063063,    0.064064,    0.065065,    0.066066,    0.067067,    0.068068,    0.069069,     0.07007,    0.071071,\n",
       "          0.072072,    0.073073,    0.074074,    0.075075,    0.076076,    0.077077,    0.078078,    0.079079,     0.08008,    0.081081,    0.082082,    0.083083,    0.084084,    0.085085,    0.086086,    0.087087,    0.088088,    0.089089,     0.09009,    0.091091,    0.092092,    0.093093,    0.094094,    0.095095,\n",
       "          0.096096,    0.097097,    0.098098,    0.099099,      0.1001,      0.1011,      0.1021,      0.1031,      0.1041,     0.10511,     0.10611,     0.10711,     0.10811,     0.10911,     0.11011,     0.11111,     0.11211,     0.11311,     0.11411,     0.11512,     0.11612,     0.11712,     0.11812,     0.11912,\n",
       "           0.12012,     0.12112,     0.12212,     0.12312,     0.12412,     0.12513,     0.12613,     0.12713,     0.12813,     0.12913,     0.13013,     0.13113,     0.13213,     0.13313,     0.13413,     0.13514,     0.13614,     0.13714,     0.13814,     0.13914,     0.14014,     0.14114,     0.14214,     0.14314,\n",
       "           0.14414,     0.14515,     0.14615,     0.14715,     0.14815,     0.14915,     0.15015,     0.15115,     0.15215,     0.15315,     0.15415,     0.15516,     0.15616,     0.15716,     0.15816,     0.15916,     0.16016,     0.16116,     0.16216,     0.16316,     0.16416,     0.16517,     0.16617,     0.16717,\n",
       "           0.16817,     0.16917,     0.17017,     0.17117,     0.17217,     0.17317,     0.17417,     0.17518,     0.17618,     0.17718,     0.17818,     0.17918,     0.18018,     0.18118,     0.18218,     0.18318,     0.18418,     0.18519,     0.18619,     0.18719,     0.18819,     0.18919,     0.19019,     0.19119,\n",
       "           0.19219,     0.19319,     0.19419,      0.1952,      0.1962,      0.1972,      0.1982,      0.1992,      0.2002,      0.2012,      0.2022,      0.2032,      0.2042,     0.20521,     0.20621,     0.20721,     0.20821,     0.20921,     0.21021,     0.21121,     0.21221,     0.21321,     0.21421,     0.21522,\n",
       "           0.21622,     0.21722,     0.21822,     0.21922,     0.22022,     0.22122,     0.22222,     0.22322,     0.22422,     0.22523,     0.22623,     0.22723,     0.22823,     0.22923,     0.23023,     0.23123,     0.23223,     0.23323,     0.23423,     0.23524,     0.23624,     0.23724,     0.23824,     0.23924,\n",
       "           0.24024,     0.24124,     0.24224,     0.24324,     0.24424,     0.24525,     0.24625,     0.24725,     0.24825,     0.24925,     0.25025,     0.25125,     0.25225,     0.25325,     0.25425,     0.25526,     0.25626,     0.25726,     0.25826,     0.25926,     0.26026,     0.26126,     0.26226,     0.26326,\n",
       "           0.26426,     0.26527,     0.26627,     0.26727,     0.26827,     0.26927,     0.27027,     0.27127,     0.27227,     0.27327,     0.27427,     0.27528,     0.27628,     0.27728,     0.27828,     0.27928,     0.28028,     0.28128,     0.28228,     0.28328,     0.28428,     0.28529,     0.28629,     0.28729,\n",
       "           0.28829,     0.28929,     0.29029,     0.29129,     0.29229,     0.29329,     0.29429,      0.2953,      0.2963,      0.2973,      0.2983,      0.2993,      0.3003,      0.3013,      0.3023,      0.3033,      0.3043,     0.30531,     0.30631,     0.30731,     0.30831,     0.30931,     0.31031,     0.31131,\n",
       "           0.31231,     0.31331,     0.31431,     0.31532,     0.31632,     0.31732,     0.31832,     0.31932,     0.32032,     0.32132,     0.32232,     0.32332,     0.32432,     0.32533,     0.32633,     0.32733,     0.32833,     0.32933,     0.33033,     0.33133,     0.33233,     0.33333,     0.33433,     0.33534,\n",
       "           0.33634,     0.33734,     0.33834,     0.33934,     0.34034,     0.34134,     0.34234,     0.34334,     0.34434,     0.34535,     0.34635,     0.34735,     0.34835,     0.34935,     0.35035,     0.35135,     0.35235,     0.35335,     0.35435,     0.35536,     0.35636,     0.35736,     0.35836,     0.35936,\n",
       "           0.36036,     0.36136,     0.36236,     0.36336,     0.36436,     0.36537,     0.36637,     0.36737,     0.36837,     0.36937,     0.37037,     0.37137,     0.37237,     0.37337,     0.37437,     0.37538,     0.37638,     0.37738,     0.37838,     0.37938,     0.38038,     0.38138,     0.38238,     0.38338,\n",
       "           0.38438,     0.38539,     0.38639,     0.38739,     0.38839,     0.38939,     0.39039,     0.39139,     0.39239,     0.39339,     0.39439,      0.3954,      0.3964,      0.3974,      0.3984,      0.3994,      0.4004,      0.4014,      0.4024,      0.4034,      0.4044,     0.40541,     0.40641,     0.40741,\n",
       "           0.40841,     0.40941,     0.41041,     0.41141,     0.41241,     0.41341,     0.41441,     0.41542,     0.41642,     0.41742,     0.41842,     0.41942,     0.42042,     0.42142,     0.42242,     0.42342,     0.42442,     0.42543,     0.42643,     0.42743,     0.42843,     0.42943,     0.43043,     0.43143,\n",
       "           0.43243,     0.43343,     0.43443,     0.43544,     0.43644,     0.43744,     0.43844,     0.43944,     0.44044,     0.44144,     0.44244,     0.44344,     0.44444,     0.44545,     0.44645,     0.44745,     0.44845,     0.44945,     0.45045,     0.45145,     0.45245,     0.45345,     0.45445,     0.45546,\n",
       "           0.45646,     0.45746,     0.45846,     0.45946,     0.46046,     0.46146,     0.46246,     0.46346,     0.46446,     0.46547,     0.46647,     0.46747,     0.46847,     0.46947,     0.47047,     0.47147,     0.47247,     0.47347,     0.47447,     0.47548,     0.47648,     0.47748,     0.47848,     0.47948,\n",
       "           0.48048,     0.48148,     0.48248,     0.48348,     0.48448,     0.48549,     0.48649,     0.48749,     0.48849,     0.48949,     0.49049,     0.49149,     0.49249,     0.49349,     0.49449,      0.4955,      0.4965,      0.4975,      0.4985,      0.4995,      0.5005,      0.5015,      0.5025,      0.5035,\n",
       "            0.5045,     0.50551,     0.50651,     0.50751,     0.50851,     0.50951,     0.51051,     0.51151,     0.51251,     0.51351,     0.51451,     0.51552,     0.51652,     0.51752,     0.51852,     0.51952,     0.52052,     0.52152,     0.52252,     0.52352,     0.52452,     0.52553,     0.52653,     0.52753,\n",
       "           0.52853,     0.52953,     0.53053,     0.53153,     0.53253,     0.53353,     0.53453,     0.53554,     0.53654,     0.53754,     0.53854,     0.53954,     0.54054,     0.54154,     0.54254,     0.54354,     0.54454,     0.54555,     0.54655,     0.54755,     0.54855,     0.54955,     0.55055,     0.55155,\n",
       "           0.55255,     0.55355,     0.55455,     0.55556,     0.55656,     0.55756,     0.55856,     0.55956,     0.56056,     0.56156,     0.56256,     0.56356,     0.56456,     0.56557,     0.56657,     0.56757,     0.56857,     0.56957,     0.57057,     0.57157,     0.57257,     0.57357,     0.57457,     0.57558,\n",
       "           0.57658,     0.57758,     0.57858,     0.57958,     0.58058,     0.58158,     0.58258,     0.58358,     0.58458,     0.58559,     0.58659,     0.58759,     0.58859,     0.58959,     0.59059,     0.59159,     0.59259,     0.59359,     0.59459,      0.5956,      0.5966,      0.5976,      0.5986,      0.5996,\n",
       "            0.6006,      0.6016,      0.6026,      0.6036,      0.6046,     0.60561,     0.60661,     0.60761,     0.60861,     0.60961,     0.61061,     0.61161,     0.61261,     0.61361,     0.61461,     0.61562,     0.61662,     0.61762,     0.61862,     0.61962,     0.62062,     0.62162,     0.62262,     0.62362,\n",
       "           0.62462,     0.62563,     0.62663,     0.62763,     0.62863,     0.62963,     0.63063,     0.63163,     0.63263,     0.63363,     0.63463,     0.63564,     0.63664,     0.63764,     0.63864,     0.63964,     0.64064,     0.64164,     0.64264,     0.64364,     0.64464,     0.64565,     0.64665,     0.64765,\n",
       "           0.64865,     0.64965,     0.65065,     0.65165,     0.65265,     0.65365,     0.65465,     0.65566,     0.65666,     0.65766,     0.65866,     0.65966,     0.66066,     0.66166,     0.66266,     0.66366,     0.66466,     0.66567,     0.66667,     0.66767,     0.66867,     0.66967,     0.67067,     0.67167,\n",
       "           0.67267,     0.67367,     0.67467,     0.67568,     0.67668,     0.67768,     0.67868,     0.67968,     0.68068,     0.68168,     0.68268,     0.68368,     0.68468,     0.68569,     0.68669,     0.68769,     0.68869,     0.68969,     0.69069,     0.69169,     0.69269,     0.69369,     0.69469,      0.6957,\n",
       "            0.6967,      0.6977,      0.6987,      0.6997,      0.7007,      0.7017,      0.7027,      0.7037,      0.7047,     0.70571,     0.70671,     0.70771,     0.70871,     0.70971,     0.71071,     0.71171,     0.71271,     0.71371,     0.71471,     0.71572,     0.71672,     0.71772,     0.71872,     0.71972,\n",
       "           0.72072,     0.72172,     0.72272,     0.72372,     0.72472,     0.72573,     0.72673,     0.72773,     0.72873,     0.72973,     0.73073,     0.73173,     0.73273,     0.73373,     0.73473,     0.73574,     0.73674,     0.73774,     0.73874,     0.73974,     0.74074,     0.74174,     0.74274,     0.74374,\n",
       "           0.74474,     0.74575,     0.74675,     0.74775,     0.74875,     0.74975,     0.75075,     0.75175,     0.75275,     0.75375,     0.75475,     0.75576,     0.75676,     0.75776,     0.75876,     0.75976,     0.76076,     0.76176,     0.76276,     0.76376,     0.76476,     0.76577,     0.76677,     0.76777,\n",
       "           0.76877,     0.76977,     0.77077,     0.77177,     0.77277,     0.77377,     0.77477,     0.77578,     0.77678,     0.77778,     0.77878,     0.77978,     0.78078,     0.78178,     0.78278,     0.78378,     0.78478,     0.78579,     0.78679,     0.78779,     0.78879,     0.78979,     0.79079,     0.79179,\n",
       "           0.79279,     0.79379,     0.79479,      0.7958,      0.7968,      0.7978,      0.7988,      0.7998,      0.8008,      0.8018,      0.8028,      0.8038,      0.8048,     0.80581,     0.80681,     0.80781,     0.80881,     0.80981,     0.81081,     0.81181,     0.81281,     0.81381,     0.81481,     0.81582,\n",
       "           0.81682,     0.81782,     0.81882,     0.81982,     0.82082,     0.82182,     0.82282,     0.82382,     0.82482,     0.82583,     0.82683,     0.82783,     0.82883,     0.82983,     0.83083,     0.83183,     0.83283,     0.83383,     0.83483,     0.83584,     0.83684,     0.83784,     0.83884,     0.83984,\n",
       "           0.84084,     0.84184,     0.84284,     0.84384,     0.84484,     0.84585,     0.84685,     0.84785,     0.84885,     0.84985,     0.85085,     0.85185,     0.85285,     0.85385,     0.85485,     0.85586,     0.85686,     0.85786,     0.85886,     0.85986,     0.86086,     0.86186,     0.86286,     0.86386,\n",
       "           0.86486,     0.86587,     0.86687,     0.86787,     0.86887,     0.86987,     0.87087,     0.87187,     0.87287,     0.87387,     0.87487,     0.87588,     0.87688,     0.87788,     0.87888,     0.87988,     0.88088,     0.88188,     0.88288,     0.88388,     0.88488,     0.88589,     0.88689,     0.88789,\n",
       "           0.88889,     0.88989,     0.89089,     0.89189,     0.89289,     0.89389,     0.89489,      0.8959,      0.8969,      0.8979,      0.8989,      0.8999,      0.9009,      0.9019,      0.9029,      0.9039,      0.9049,     0.90591,     0.90691,     0.90791,     0.90891,     0.90991,     0.91091,     0.91191,\n",
       "           0.91291,     0.91391,     0.91491,     0.91592,     0.91692,     0.91792,     0.91892,     0.91992,     0.92092,     0.92192,     0.92292,     0.92392,     0.92492,     0.92593,     0.92693,     0.92793,     0.92893,     0.92993,     0.93093,     0.93193,     0.93293,     0.93393,     0.93493,     0.93594,\n",
       "           0.93694,     0.93794,     0.93894,     0.93994,     0.94094,     0.94194,     0.94294,     0.94394,     0.94494,     0.94595,     0.94695,     0.94795,     0.94895,     0.94995,     0.95095,     0.95195,     0.95295,     0.95395,     0.95495,     0.95596,     0.95696,     0.95796,     0.95896,     0.95996,\n",
       "           0.96096,     0.96196,     0.96296,     0.96396,     0.96496,     0.96597,     0.96697,     0.96797,     0.96897,     0.96997,     0.97097,     0.97197,     0.97297,     0.97397,     0.97497,     0.97598,     0.97698,     0.97798,     0.97898,     0.97998,     0.98098,     0.98198,     0.98298,     0.98398,\n",
       "           0.98498,     0.98599,     0.98699,     0.98799,     0.98899,     0.98999,     0.99099,     0.99199,     0.99299,     0.99399,     0.99499,       0.996,       0.997,       0.998,       0.999,           1]), array([[    0.91176,     0.91176,     0.91176, ...,   0.0004764,   0.0002382,           0],\n",
       "       [          1,           1,           1, ...,   0.0013882,  0.00069412,           0],\n",
       "       [          1,           1,           1, ...,  0.00027271,  0.00013635,           0],\n",
       "       [          1,           1,           1, ...,   0.0016088,  0.00080438,           0]]), 'Recall', 'Precision'], [array([          0,    0.001001,    0.002002,    0.003003,    0.004004,    0.005005,    0.006006,    0.007007,    0.008008,    0.009009,     0.01001,    0.011011,    0.012012,    0.013013,    0.014014,    0.015015,    0.016016,    0.017017,    0.018018,    0.019019,     0.02002,    0.021021,    0.022022,    0.023023,\n",
       "          0.024024,    0.025025,    0.026026,    0.027027,    0.028028,    0.029029,     0.03003,    0.031031,    0.032032,    0.033033,    0.034034,    0.035035,    0.036036,    0.037037,    0.038038,    0.039039,     0.04004,    0.041041,    0.042042,    0.043043,    0.044044,    0.045045,    0.046046,    0.047047,\n",
       "          0.048048,    0.049049,     0.05005,    0.051051,    0.052052,    0.053053,    0.054054,    0.055055,    0.056056,    0.057057,    0.058058,    0.059059,     0.06006,    0.061061,    0.062062,    0.063063,    0.064064,    0.065065,    0.066066,    0.067067,    0.068068,    0.069069,     0.07007,    0.071071,\n",
       "          0.072072,    0.073073,    0.074074,    0.075075,    0.076076,    0.077077,    0.078078,    0.079079,     0.08008,    0.081081,    0.082082,    0.083083,    0.084084,    0.085085,    0.086086,    0.087087,    0.088088,    0.089089,     0.09009,    0.091091,    0.092092,    0.093093,    0.094094,    0.095095,\n",
       "          0.096096,    0.097097,    0.098098,    0.099099,      0.1001,      0.1011,      0.1021,      0.1031,      0.1041,     0.10511,     0.10611,     0.10711,     0.10811,     0.10911,     0.11011,     0.11111,     0.11211,     0.11311,     0.11411,     0.11512,     0.11612,     0.11712,     0.11812,     0.11912,\n",
       "           0.12012,     0.12112,     0.12212,     0.12312,     0.12412,     0.12513,     0.12613,     0.12713,     0.12813,     0.12913,     0.13013,     0.13113,     0.13213,     0.13313,     0.13413,     0.13514,     0.13614,     0.13714,     0.13814,     0.13914,     0.14014,     0.14114,     0.14214,     0.14314,\n",
       "           0.14414,     0.14515,     0.14615,     0.14715,     0.14815,     0.14915,     0.15015,     0.15115,     0.15215,     0.15315,     0.15415,     0.15516,     0.15616,     0.15716,     0.15816,     0.15916,     0.16016,     0.16116,     0.16216,     0.16316,     0.16416,     0.16517,     0.16617,     0.16717,\n",
       "           0.16817,     0.16917,     0.17017,     0.17117,     0.17217,     0.17317,     0.17417,     0.17518,     0.17618,     0.17718,     0.17818,     0.17918,     0.18018,     0.18118,     0.18218,     0.18318,     0.18418,     0.18519,     0.18619,     0.18719,     0.18819,     0.18919,     0.19019,     0.19119,\n",
       "           0.19219,     0.19319,     0.19419,      0.1952,      0.1962,      0.1972,      0.1982,      0.1992,      0.2002,      0.2012,      0.2022,      0.2032,      0.2042,     0.20521,     0.20621,     0.20721,     0.20821,     0.20921,     0.21021,     0.21121,     0.21221,     0.21321,     0.21421,     0.21522,\n",
       "           0.21622,     0.21722,     0.21822,     0.21922,     0.22022,     0.22122,     0.22222,     0.22322,     0.22422,     0.22523,     0.22623,     0.22723,     0.22823,     0.22923,     0.23023,     0.23123,     0.23223,     0.23323,     0.23423,     0.23524,     0.23624,     0.23724,     0.23824,     0.23924,\n",
       "           0.24024,     0.24124,     0.24224,     0.24324,     0.24424,     0.24525,     0.24625,     0.24725,     0.24825,     0.24925,     0.25025,     0.25125,     0.25225,     0.25325,     0.25425,     0.25526,     0.25626,     0.25726,     0.25826,     0.25926,     0.26026,     0.26126,     0.26226,     0.26326,\n",
       "           0.26426,     0.26527,     0.26627,     0.26727,     0.26827,     0.26927,     0.27027,     0.27127,     0.27227,     0.27327,     0.27427,     0.27528,     0.27628,     0.27728,     0.27828,     0.27928,     0.28028,     0.28128,     0.28228,     0.28328,     0.28428,     0.28529,     0.28629,     0.28729,\n",
       "           0.28829,     0.28929,     0.29029,     0.29129,     0.29229,     0.29329,     0.29429,      0.2953,      0.2963,      0.2973,      0.2983,      0.2993,      0.3003,      0.3013,      0.3023,      0.3033,      0.3043,     0.30531,     0.30631,     0.30731,     0.30831,     0.30931,     0.31031,     0.31131,\n",
       "           0.31231,     0.31331,     0.31431,     0.31532,     0.31632,     0.31732,     0.31832,     0.31932,     0.32032,     0.32132,     0.32232,     0.32332,     0.32432,     0.32533,     0.32633,     0.32733,     0.32833,     0.32933,     0.33033,     0.33133,     0.33233,     0.33333,     0.33433,     0.33534,\n",
       "           0.33634,     0.33734,     0.33834,     0.33934,     0.34034,     0.34134,     0.34234,     0.34334,     0.34434,     0.34535,     0.34635,     0.34735,     0.34835,     0.34935,     0.35035,     0.35135,     0.35235,     0.35335,     0.35435,     0.35536,     0.35636,     0.35736,     0.35836,     0.35936,\n",
       "           0.36036,     0.36136,     0.36236,     0.36336,     0.36436,     0.36537,     0.36637,     0.36737,     0.36837,     0.36937,     0.37037,     0.37137,     0.37237,     0.37337,     0.37437,     0.37538,     0.37638,     0.37738,     0.37838,     0.37938,     0.38038,     0.38138,     0.38238,     0.38338,\n",
       "           0.38438,     0.38539,     0.38639,     0.38739,     0.38839,     0.38939,     0.39039,     0.39139,     0.39239,     0.39339,     0.39439,      0.3954,      0.3964,      0.3974,      0.3984,      0.3994,      0.4004,      0.4014,      0.4024,      0.4034,      0.4044,     0.40541,     0.40641,     0.40741,\n",
       "           0.40841,     0.40941,     0.41041,     0.41141,     0.41241,     0.41341,     0.41441,     0.41542,     0.41642,     0.41742,     0.41842,     0.41942,     0.42042,     0.42142,     0.42242,     0.42342,     0.42442,     0.42543,     0.42643,     0.42743,     0.42843,     0.42943,     0.43043,     0.43143,\n",
       "           0.43243,     0.43343,     0.43443,     0.43544,     0.43644,     0.43744,     0.43844,     0.43944,     0.44044,     0.44144,     0.44244,     0.44344,     0.44444,     0.44545,     0.44645,     0.44745,     0.44845,     0.44945,     0.45045,     0.45145,     0.45245,     0.45345,     0.45445,     0.45546,\n",
       "           0.45646,     0.45746,     0.45846,     0.45946,     0.46046,     0.46146,     0.46246,     0.46346,     0.46446,     0.46547,     0.46647,     0.46747,     0.46847,     0.46947,     0.47047,     0.47147,     0.47247,     0.47347,     0.47447,     0.47548,     0.47648,     0.47748,     0.47848,     0.47948,\n",
       "           0.48048,     0.48148,     0.48248,     0.48348,     0.48448,     0.48549,     0.48649,     0.48749,     0.48849,     0.48949,     0.49049,     0.49149,     0.49249,     0.49349,     0.49449,      0.4955,      0.4965,      0.4975,      0.4985,      0.4995,      0.5005,      0.5015,      0.5025,      0.5035,\n",
       "            0.5045,     0.50551,     0.50651,     0.50751,     0.50851,     0.50951,     0.51051,     0.51151,     0.51251,     0.51351,     0.51451,     0.51552,     0.51652,     0.51752,     0.51852,     0.51952,     0.52052,     0.52152,     0.52252,     0.52352,     0.52452,     0.52553,     0.52653,     0.52753,\n",
       "           0.52853,     0.52953,     0.53053,     0.53153,     0.53253,     0.53353,     0.53453,     0.53554,     0.53654,     0.53754,     0.53854,     0.53954,     0.54054,     0.54154,     0.54254,     0.54354,     0.54454,     0.54555,     0.54655,     0.54755,     0.54855,     0.54955,     0.55055,     0.55155,\n",
       "           0.55255,     0.55355,     0.55455,     0.55556,     0.55656,     0.55756,     0.55856,     0.55956,     0.56056,     0.56156,     0.56256,     0.56356,     0.56456,     0.56557,     0.56657,     0.56757,     0.56857,     0.56957,     0.57057,     0.57157,     0.57257,     0.57357,     0.57457,     0.57558,\n",
       "           0.57658,     0.57758,     0.57858,     0.57958,     0.58058,     0.58158,     0.58258,     0.58358,     0.58458,     0.58559,     0.58659,     0.58759,     0.58859,     0.58959,     0.59059,     0.59159,     0.59259,     0.59359,     0.59459,      0.5956,      0.5966,      0.5976,      0.5986,      0.5996,\n",
       "            0.6006,      0.6016,      0.6026,      0.6036,      0.6046,     0.60561,     0.60661,     0.60761,     0.60861,     0.60961,     0.61061,     0.61161,     0.61261,     0.61361,     0.61461,     0.61562,     0.61662,     0.61762,     0.61862,     0.61962,     0.62062,     0.62162,     0.62262,     0.62362,\n",
       "           0.62462,     0.62563,     0.62663,     0.62763,     0.62863,     0.62963,     0.63063,     0.63163,     0.63263,     0.63363,     0.63463,     0.63564,     0.63664,     0.63764,     0.63864,     0.63964,     0.64064,     0.64164,     0.64264,     0.64364,     0.64464,     0.64565,     0.64665,     0.64765,\n",
       "           0.64865,     0.64965,     0.65065,     0.65165,     0.65265,     0.65365,     0.65465,     0.65566,     0.65666,     0.65766,     0.65866,     0.65966,     0.66066,     0.66166,     0.66266,     0.66366,     0.66466,     0.66567,     0.66667,     0.66767,     0.66867,     0.66967,     0.67067,     0.67167,\n",
       "           0.67267,     0.67367,     0.67467,     0.67568,     0.67668,     0.67768,     0.67868,     0.67968,     0.68068,     0.68168,     0.68268,     0.68368,     0.68468,     0.68569,     0.68669,     0.68769,     0.68869,     0.68969,     0.69069,     0.69169,     0.69269,     0.69369,     0.69469,      0.6957,\n",
       "            0.6967,      0.6977,      0.6987,      0.6997,      0.7007,      0.7017,      0.7027,      0.7037,      0.7047,     0.70571,     0.70671,     0.70771,     0.70871,     0.70971,     0.71071,     0.71171,     0.71271,     0.71371,     0.71471,     0.71572,     0.71672,     0.71772,     0.71872,     0.71972,\n",
       "           0.72072,     0.72172,     0.72272,     0.72372,     0.72472,     0.72573,     0.72673,     0.72773,     0.72873,     0.72973,     0.73073,     0.73173,     0.73273,     0.73373,     0.73473,     0.73574,     0.73674,     0.73774,     0.73874,     0.73974,     0.74074,     0.74174,     0.74274,     0.74374,\n",
       "           0.74474,     0.74575,     0.74675,     0.74775,     0.74875,     0.74975,     0.75075,     0.75175,     0.75275,     0.75375,     0.75475,     0.75576,     0.75676,     0.75776,     0.75876,     0.75976,     0.76076,     0.76176,     0.76276,     0.76376,     0.76476,     0.76577,     0.76677,     0.76777,\n",
       "           0.76877,     0.76977,     0.77077,     0.77177,     0.77277,     0.77377,     0.77477,     0.77578,     0.77678,     0.77778,     0.77878,     0.77978,     0.78078,     0.78178,     0.78278,     0.78378,     0.78478,     0.78579,     0.78679,     0.78779,     0.78879,     0.78979,     0.79079,     0.79179,\n",
       "           0.79279,     0.79379,     0.79479,      0.7958,      0.7968,      0.7978,      0.7988,      0.7998,      0.8008,      0.8018,      0.8028,      0.8038,      0.8048,     0.80581,     0.80681,     0.80781,     0.80881,     0.80981,     0.81081,     0.81181,     0.81281,     0.81381,     0.81481,     0.81582,\n",
       "           0.81682,     0.81782,     0.81882,     0.81982,     0.82082,     0.82182,     0.82282,     0.82382,     0.82482,     0.82583,     0.82683,     0.82783,     0.82883,     0.82983,     0.83083,     0.83183,     0.83283,     0.83383,     0.83483,     0.83584,     0.83684,     0.83784,     0.83884,     0.83984,\n",
       "           0.84084,     0.84184,     0.84284,     0.84384,     0.84484,     0.84585,     0.84685,     0.84785,     0.84885,     0.84985,     0.85085,     0.85185,     0.85285,     0.85385,     0.85485,     0.85586,     0.85686,     0.85786,     0.85886,     0.85986,     0.86086,     0.86186,     0.86286,     0.86386,\n",
       "           0.86486,     0.86587,     0.86687,     0.86787,     0.86887,     0.86987,     0.87087,     0.87187,     0.87287,     0.87387,     0.87487,     0.87588,     0.87688,     0.87788,     0.87888,     0.87988,     0.88088,     0.88188,     0.88288,     0.88388,     0.88488,     0.88589,     0.88689,     0.88789,\n",
       "           0.88889,     0.88989,     0.89089,     0.89189,     0.89289,     0.89389,     0.89489,      0.8959,      0.8969,      0.8979,      0.8989,      0.8999,      0.9009,      0.9019,      0.9029,      0.9039,      0.9049,     0.90591,     0.90691,     0.90791,     0.90891,     0.90991,     0.91091,     0.91191,\n",
       "           0.91291,     0.91391,     0.91491,     0.91592,     0.91692,     0.91792,     0.91892,     0.91992,     0.92092,     0.92192,     0.92292,     0.92392,     0.92492,     0.92593,     0.92693,     0.92793,     0.92893,     0.92993,     0.93093,     0.93193,     0.93293,     0.93393,     0.93493,     0.93594,\n",
       "           0.93694,     0.93794,     0.93894,     0.93994,     0.94094,     0.94194,     0.94294,     0.94394,     0.94494,     0.94595,     0.94695,     0.94795,     0.94895,     0.94995,     0.95095,     0.95195,     0.95295,     0.95395,     0.95495,     0.95596,     0.95696,     0.95796,     0.95896,     0.95996,\n",
       "           0.96096,     0.96196,     0.96296,     0.96396,     0.96496,     0.96597,     0.96697,     0.96797,     0.96897,     0.96997,     0.97097,     0.97197,     0.97297,     0.97397,     0.97497,     0.97598,     0.97698,     0.97798,     0.97898,     0.97998,     0.98098,     0.98198,     0.98298,     0.98398,\n",
       "           0.98498,     0.98599,     0.98699,     0.98799,     0.98899,     0.98999,     0.99099,     0.99199,     0.99299,     0.99399,     0.99499,       0.996,       0.997,       0.998,       0.999,           1]), array([[   0.057777,    0.057777,    0.079448, ...,           0,           0,           0],\n",
       "       [   0.072462,    0.072462,    0.095888, ...,           0,           0,           0],\n",
       "       [   0.023509,    0.023509,    0.036122, ...,           0,           0,           0],\n",
       "       [   0.066031,    0.066031,     0.12327, ...,           0,           0,           0]]), 'Confidence', 'F1'], [array([          0,    0.001001,    0.002002,    0.003003,    0.004004,    0.005005,    0.006006,    0.007007,    0.008008,    0.009009,     0.01001,    0.011011,    0.012012,    0.013013,    0.014014,    0.015015,    0.016016,    0.017017,    0.018018,    0.019019,     0.02002,    0.021021,    0.022022,    0.023023,\n",
       "          0.024024,    0.025025,    0.026026,    0.027027,    0.028028,    0.029029,     0.03003,    0.031031,    0.032032,    0.033033,    0.034034,    0.035035,    0.036036,    0.037037,    0.038038,    0.039039,     0.04004,    0.041041,    0.042042,    0.043043,    0.044044,    0.045045,    0.046046,    0.047047,\n",
       "          0.048048,    0.049049,     0.05005,    0.051051,    0.052052,    0.053053,    0.054054,    0.055055,    0.056056,    0.057057,    0.058058,    0.059059,     0.06006,    0.061061,    0.062062,    0.063063,    0.064064,    0.065065,    0.066066,    0.067067,    0.068068,    0.069069,     0.07007,    0.071071,\n",
       "          0.072072,    0.073073,    0.074074,    0.075075,    0.076076,    0.077077,    0.078078,    0.079079,     0.08008,    0.081081,    0.082082,    0.083083,    0.084084,    0.085085,    0.086086,    0.087087,    0.088088,    0.089089,     0.09009,    0.091091,    0.092092,    0.093093,    0.094094,    0.095095,\n",
       "          0.096096,    0.097097,    0.098098,    0.099099,      0.1001,      0.1011,      0.1021,      0.1031,      0.1041,     0.10511,     0.10611,     0.10711,     0.10811,     0.10911,     0.11011,     0.11111,     0.11211,     0.11311,     0.11411,     0.11512,     0.11612,     0.11712,     0.11812,     0.11912,\n",
       "           0.12012,     0.12112,     0.12212,     0.12312,     0.12412,     0.12513,     0.12613,     0.12713,     0.12813,     0.12913,     0.13013,     0.13113,     0.13213,     0.13313,     0.13413,     0.13514,     0.13614,     0.13714,     0.13814,     0.13914,     0.14014,     0.14114,     0.14214,     0.14314,\n",
       "           0.14414,     0.14515,     0.14615,     0.14715,     0.14815,     0.14915,     0.15015,     0.15115,     0.15215,     0.15315,     0.15415,     0.15516,     0.15616,     0.15716,     0.15816,     0.15916,     0.16016,     0.16116,     0.16216,     0.16316,     0.16416,     0.16517,     0.16617,     0.16717,\n",
       "           0.16817,     0.16917,     0.17017,     0.17117,     0.17217,     0.17317,     0.17417,     0.17518,     0.17618,     0.17718,     0.17818,     0.17918,     0.18018,     0.18118,     0.18218,     0.18318,     0.18418,     0.18519,     0.18619,     0.18719,     0.18819,     0.18919,     0.19019,     0.19119,\n",
       "           0.19219,     0.19319,     0.19419,      0.1952,      0.1962,      0.1972,      0.1982,      0.1992,      0.2002,      0.2012,      0.2022,      0.2032,      0.2042,     0.20521,     0.20621,     0.20721,     0.20821,     0.20921,     0.21021,     0.21121,     0.21221,     0.21321,     0.21421,     0.21522,\n",
       "           0.21622,     0.21722,     0.21822,     0.21922,     0.22022,     0.22122,     0.22222,     0.22322,     0.22422,     0.22523,     0.22623,     0.22723,     0.22823,     0.22923,     0.23023,     0.23123,     0.23223,     0.23323,     0.23423,     0.23524,     0.23624,     0.23724,     0.23824,     0.23924,\n",
       "           0.24024,     0.24124,     0.24224,     0.24324,     0.24424,     0.24525,     0.24625,     0.24725,     0.24825,     0.24925,     0.25025,     0.25125,     0.25225,     0.25325,     0.25425,     0.25526,     0.25626,     0.25726,     0.25826,     0.25926,     0.26026,     0.26126,     0.26226,     0.26326,\n",
       "           0.26426,     0.26527,     0.26627,     0.26727,     0.26827,     0.26927,     0.27027,     0.27127,     0.27227,     0.27327,     0.27427,     0.27528,     0.27628,     0.27728,     0.27828,     0.27928,     0.28028,     0.28128,     0.28228,     0.28328,     0.28428,     0.28529,     0.28629,     0.28729,\n",
       "           0.28829,     0.28929,     0.29029,     0.29129,     0.29229,     0.29329,     0.29429,      0.2953,      0.2963,      0.2973,      0.2983,      0.2993,      0.3003,      0.3013,      0.3023,      0.3033,      0.3043,     0.30531,     0.30631,     0.30731,     0.30831,     0.30931,     0.31031,     0.31131,\n",
       "           0.31231,     0.31331,     0.31431,     0.31532,     0.31632,     0.31732,     0.31832,     0.31932,     0.32032,     0.32132,     0.32232,     0.32332,     0.32432,     0.32533,     0.32633,     0.32733,     0.32833,     0.32933,     0.33033,     0.33133,     0.33233,     0.33333,     0.33433,     0.33534,\n",
       "           0.33634,     0.33734,     0.33834,     0.33934,     0.34034,     0.34134,     0.34234,     0.34334,     0.34434,     0.34535,     0.34635,     0.34735,     0.34835,     0.34935,     0.35035,     0.35135,     0.35235,     0.35335,     0.35435,     0.35536,     0.35636,     0.35736,     0.35836,     0.35936,\n",
       "           0.36036,     0.36136,     0.36236,     0.36336,     0.36436,     0.36537,     0.36637,     0.36737,     0.36837,     0.36937,     0.37037,     0.37137,     0.37237,     0.37337,     0.37437,     0.37538,     0.37638,     0.37738,     0.37838,     0.37938,     0.38038,     0.38138,     0.38238,     0.38338,\n",
       "           0.38438,     0.38539,     0.38639,     0.38739,     0.38839,     0.38939,     0.39039,     0.39139,     0.39239,     0.39339,     0.39439,      0.3954,      0.3964,      0.3974,      0.3984,      0.3994,      0.4004,      0.4014,      0.4024,      0.4034,      0.4044,     0.40541,     0.40641,     0.40741,\n",
       "           0.40841,     0.40941,     0.41041,     0.41141,     0.41241,     0.41341,     0.41441,     0.41542,     0.41642,     0.41742,     0.41842,     0.41942,     0.42042,     0.42142,     0.42242,     0.42342,     0.42442,     0.42543,     0.42643,     0.42743,     0.42843,     0.42943,     0.43043,     0.43143,\n",
       "           0.43243,     0.43343,     0.43443,     0.43544,     0.43644,     0.43744,     0.43844,     0.43944,     0.44044,     0.44144,     0.44244,     0.44344,     0.44444,     0.44545,     0.44645,     0.44745,     0.44845,     0.44945,     0.45045,     0.45145,     0.45245,     0.45345,     0.45445,     0.45546,\n",
       "           0.45646,     0.45746,     0.45846,     0.45946,     0.46046,     0.46146,     0.46246,     0.46346,     0.46446,     0.46547,     0.46647,     0.46747,     0.46847,     0.46947,     0.47047,     0.47147,     0.47247,     0.47347,     0.47447,     0.47548,     0.47648,     0.47748,     0.47848,     0.47948,\n",
       "           0.48048,     0.48148,     0.48248,     0.48348,     0.48448,     0.48549,     0.48649,     0.48749,     0.48849,     0.48949,     0.49049,     0.49149,     0.49249,     0.49349,     0.49449,      0.4955,      0.4965,      0.4975,      0.4985,      0.4995,      0.5005,      0.5015,      0.5025,      0.5035,\n",
       "            0.5045,     0.50551,     0.50651,     0.50751,     0.50851,     0.50951,     0.51051,     0.51151,     0.51251,     0.51351,     0.51451,     0.51552,     0.51652,     0.51752,     0.51852,     0.51952,     0.52052,     0.52152,     0.52252,     0.52352,     0.52452,     0.52553,     0.52653,     0.52753,\n",
       "           0.52853,     0.52953,     0.53053,     0.53153,     0.53253,     0.53353,     0.53453,     0.53554,     0.53654,     0.53754,     0.53854,     0.53954,     0.54054,     0.54154,     0.54254,     0.54354,     0.54454,     0.54555,     0.54655,     0.54755,     0.54855,     0.54955,     0.55055,     0.55155,\n",
       "           0.55255,     0.55355,     0.55455,     0.55556,     0.55656,     0.55756,     0.55856,     0.55956,     0.56056,     0.56156,     0.56256,     0.56356,     0.56456,     0.56557,     0.56657,     0.56757,     0.56857,     0.56957,     0.57057,     0.57157,     0.57257,     0.57357,     0.57457,     0.57558,\n",
       "           0.57658,     0.57758,     0.57858,     0.57958,     0.58058,     0.58158,     0.58258,     0.58358,     0.58458,     0.58559,     0.58659,     0.58759,     0.58859,     0.58959,     0.59059,     0.59159,     0.59259,     0.59359,     0.59459,      0.5956,      0.5966,      0.5976,      0.5986,      0.5996,\n",
       "            0.6006,      0.6016,      0.6026,      0.6036,      0.6046,     0.60561,     0.60661,     0.60761,     0.60861,     0.60961,     0.61061,     0.61161,     0.61261,     0.61361,     0.61461,     0.61562,     0.61662,     0.61762,     0.61862,     0.61962,     0.62062,     0.62162,     0.62262,     0.62362,\n",
       "           0.62462,     0.62563,     0.62663,     0.62763,     0.62863,     0.62963,     0.63063,     0.63163,     0.63263,     0.63363,     0.63463,     0.63564,     0.63664,     0.63764,     0.63864,     0.63964,     0.64064,     0.64164,     0.64264,     0.64364,     0.64464,     0.64565,     0.64665,     0.64765,\n",
       "           0.64865,     0.64965,     0.65065,     0.65165,     0.65265,     0.65365,     0.65465,     0.65566,     0.65666,     0.65766,     0.65866,     0.65966,     0.66066,     0.66166,     0.66266,     0.66366,     0.66466,     0.66567,     0.66667,     0.66767,     0.66867,     0.66967,     0.67067,     0.67167,\n",
       "           0.67267,     0.67367,     0.67467,     0.67568,     0.67668,     0.67768,     0.67868,     0.67968,     0.68068,     0.68168,     0.68268,     0.68368,     0.68468,     0.68569,     0.68669,     0.68769,     0.68869,     0.68969,     0.69069,     0.69169,     0.69269,     0.69369,     0.69469,      0.6957,\n",
       "            0.6967,      0.6977,      0.6987,      0.6997,      0.7007,      0.7017,      0.7027,      0.7037,      0.7047,     0.70571,     0.70671,     0.70771,     0.70871,     0.70971,     0.71071,     0.71171,     0.71271,     0.71371,     0.71471,     0.71572,     0.71672,     0.71772,     0.71872,     0.71972,\n",
       "           0.72072,     0.72172,     0.72272,     0.72372,     0.72472,     0.72573,     0.72673,     0.72773,     0.72873,     0.72973,     0.73073,     0.73173,     0.73273,     0.73373,     0.73473,     0.73574,     0.73674,     0.73774,     0.73874,     0.73974,     0.74074,     0.74174,     0.74274,     0.74374,\n",
       "           0.74474,     0.74575,     0.74675,     0.74775,     0.74875,     0.74975,     0.75075,     0.75175,     0.75275,     0.75375,     0.75475,     0.75576,     0.75676,     0.75776,     0.75876,     0.75976,     0.76076,     0.76176,     0.76276,     0.76376,     0.76476,     0.76577,     0.76677,     0.76777,\n",
       "           0.76877,     0.76977,     0.77077,     0.77177,     0.77277,     0.77377,     0.77477,     0.77578,     0.77678,     0.77778,     0.77878,     0.77978,     0.78078,     0.78178,     0.78278,     0.78378,     0.78478,     0.78579,     0.78679,     0.78779,     0.78879,     0.78979,     0.79079,     0.79179,\n",
       "           0.79279,     0.79379,     0.79479,      0.7958,      0.7968,      0.7978,      0.7988,      0.7998,      0.8008,      0.8018,      0.8028,      0.8038,      0.8048,     0.80581,     0.80681,     0.80781,     0.80881,     0.80981,     0.81081,     0.81181,     0.81281,     0.81381,     0.81481,     0.81582,\n",
       "           0.81682,     0.81782,     0.81882,     0.81982,     0.82082,     0.82182,     0.82282,     0.82382,     0.82482,     0.82583,     0.82683,     0.82783,     0.82883,     0.82983,     0.83083,     0.83183,     0.83283,     0.83383,     0.83483,     0.83584,     0.83684,     0.83784,     0.83884,     0.83984,\n",
       "           0.84084,     0.84184,     0.84284,     0.84384,     0.84484,     0.84585,     0.84685,     0.84785,     0.84885,     0.84985,     0.85085,     0.85185,     0.85285,     0.85385,     0.85485,     0.85586,     0.85686,     0.85786,     0.85886,     0.85986,     0.86086,     0.86186,     0.86286,     0.86386,\n",
       "           0.86486,     0.86587,     0.86687,     0.86787,     0.86887,     0.86987,     0.87087,     0.87187,     0.87287,     0.87387,     0.87487,     0.87588,     0.87688,     0.87788,     0.87888,     0.87988,     0.88088,     0.88188,     0.88288,     0.88388,     0.88488,     0.88589,     0.88689,     0.88789,\n",
       "           0.88889,     0.88989,     0.89089,     0.89189,     0.89289,     0.89389,     0.89489,      0.8959,      0.8969,      0.8979,      0.8989,      0.8999,      0.9009,      0.9019,      0.9029,      0.9039,      0.9049,     0.90591,     0.90691,     0.90791,     0.90891,     0.90991,     0.91091,     0.91191,\n",
       "           0.91291,     0.91391,     0.91491,     0.91592,     0.91692,     0.91792,     0.91892,     0.91992,     0.92092,     0.92192,     0.92292,     0.92392,     0.92492,     0.92593,     0.92693,     0.92793,     0.92893,     0.92993,     0.93093,     0.93193,     0.93293,     0.93393,     0.93493,     0.93594,\n",
       "           0.93694,     0.93794,     0.93894,     0.93994,     0.94094,     0.94194,     0.94294,     0.94394,     0.94494,     0.94595,     0.94695,     0.94795,     0.94895,     0.94995,     0.95095,     0.95195,     0.95295,     0.95395,     0.95495,     0.95596,     0.95696,     0.95796,     0.95896,     0.95996,\n",
       "           0.96096,     0.96196,     0.96296,     0.96396,     0.96496,     0.96597,     0.96697,     0.96797,     0.96897,     0.96997,     0.97097,     0.97197,     0.97297,     0.97397,     0.97497,     0.97598,     0.97698,     0.97798,     0.97898,     0.97998,     0.98098,     0.98198,     0.98298,     0.98398,\n",
       "           0.98498,     0.98599,     0.98699,     0.98799,     0.98899,     0.98999,     0.99099,     0.99199,     0.99299,     0.99399,     0.99499,       0.996,       0.997,       0.998,       0.999,           1]), array([[   0.029875,    0.029875,    0.041644, ...,           1,           1,           1],\n",
       "       [   0.037675,    0.037675,    0.050522, ...,           1,           1,           1],\n",
       "       [   0.011908,    0.011908,    0.018429, ...,           1,           1,           1],\n",
       "       [   0.034195,    0.034195,    0.065877, ...,           1,           1,           1]]), 'Confidence', 'Precision'], [array([          0,    0.001001,    0.002002,    0.003003,    0.004004,    0.005005,    0.006006,    0.007007,    0.008008,    0.009009,     0.01001,    0.011011,    0.012012,    0.013013,    0.014014,    0.015015,    0.016016,    0.017017,    0.018018,    0.019019,     0.02002,    0.021021,    0.022022,    0.023023,\n",
       "          0.024024,    0.025025,    0.026026,    0.027027,    0.028028,    0.029029,     0.03003,    0.031031,    0.032032,    0.033033,    0.034034,    0.035035,    0.036036,    0.037037,    0.038038,    0.039039,     0.04004,    0.041041,    0.042042,    0.043043,    0.044044,    0.045045,    0.046046,    0.047047,\n",
       "          0.048048,    0.049049,     0.05005,    0.051051,    0.052052,    0.053053,    0.054054,    0.055055,    0.056056,    0.057057,    0.058058,    0.059059,     0.06006,    0.061061,    0.062062,    0.063063,    0.064064,    0.065065,    0.066066,    0.067067,    0.068068,    0.069069,     0.07007,    0.071071,\n",
       "          0.072072,    0.073073,    0.074074,    0.075075,    0.076076,    0.077077,    0.078078,    0.079079,     0.08008,    0.081081,    0.082082,    0.083083,    0.084084,    0.085085,    0.086086,    0.087087,    0.088088,    0.089089,     0.09009,    0.091091,    0.092092,    0.093093,    0.094094,    0.095095,\n",
       "          0.096096,    0.097097,    0.098098,    0.099099,      0.1001,      0.1011,      0.1021,      0.1031,      0.1041,     0.10511,     0.10611,     0.10711,     0.10811,     0.10911,     0.11011,     0.11111,     0.11211,     0.11311,     0.11411,     0.11512,     0.11612,     0.11712,     0.11812,     0.11912,\n",
       "           0.12012,     0.12112,     0.12212,     0.12312,     0.12412,     0.12513,     0.12613,     0.12713,     0.12813,     0.12913,     0.13013,     0.13113,     0.13213,     0.13313,     0.13413,     0.13514,     0.13614,     0.13714,     0.13814,     0.13914,     0.14014,     0.14114,     0.14214,     0.14314,\n",
       "           0.14414,     0.14515,     0.14615,     0.14715,     0.14815,     0.14915,     0.15015,     0.15115,     0.15215,     0.15315,     0.15415,     0.15516,     0.15616,     0.15716,     0.15816,     0.15916,     0.16016,     0.16116,     0.16216,     0.16316,     0.16416,     0.16517,     0.16617,     0.16717,\n",
       "           0.16817,     0.16917,     0.17017,     0.17117,     0.17217,     0.17317,     0.17417,     0.17518,     0.17618,     0.17718,     0.17818,     0.17918,     0.18018,     0.18118,     0.18218,     0.18318,     0.18418,     0.18519,     0.18619,     0.18719,     0.18819,     0.18919,     0.19019,     0.19119,\n",
       "           0.19219,     0.19319,     0.19419,      0.1952,      0.1962,      0.1972,      0.1982,      0.1992,      0.2002,      0.2012,      0.2022,      0.2032,      0.2042,     0.20521,     0.20621,     0.20721,     0.20821,     0.20921,     0.21021,     0.21121,     0.21221,     0.21321,     0.21421,     0.21522,\n",
       "           0.21622,     0.21722,     0.21822,     0.21922,     0.22022,     0.22122,     0.22222,     0.22322,     0.22422,     0.22523,     0.22623,     0.22723,     0.22823,     0.22923,     0.23023,     0.23123,     0.23223,     0.23323,     0.23423,     0.23524,     0.23624,     0.23724,     0.23824,     0.23924,\n",
       "           0.24024,     0.24124,     0.24224,     0.24324,     0.24424,     0.24525,     0.24625,     0.24725,     0.24825,     0.24925,     0.25025,     0.25125,     0.25225,     0.25325,     0.25425,     0.25526,     0.25626,     0.25726,     0.25826,     0.25926,     0.26026,     0.26126,     0.26226,     0.26326,\n",
       "           0.26426,     0.26527,     0.26627,     0.26727,     0.26827,     0.26927,     0.27027,     0.27127,     0.27227,     0.27327,     0.27427,     0.27528,     0.27628,     0.27728,     0.27828,     0.27928,     0.28028,     0.28128,     0.28228,     0.28328,     0.28428,     0.28529,     0.28629,     0.28729,\n",
       "           0.28829,     0.28929,     0.29029,     0.29129,     0.29229,     0.29329,     0.29429,      0.2953,      0.2963,      0.2973,      0.2983,      0.2993,      0.3003,      0.3013,      0.3023,      0.3033,      0.3043,     0.30531,     0.30631,     0.30731,     0.30831,     0.30931,     0.31031,     0.31131,\n",
       "           0.31231,     0.31331,     0.31431,     0.31532,     0.31632,     0.31732,     0.31832,     0.31932,     0.32032,     0.32132,     0.32232,     0.32332,     0.32432,     0.32533,     0.32633,     0.32733,     0.32833,     0.32933,     0.33033,     0.33133,     0.33233,     0.33333,     0.33433,     0.33534,\n",
       "           0.33634,     0.33734,     0.33834,     0.33934,     0.34034,     0.34134,     0.34234,     0.34334,     0.34434,     0.34535,     0.34635,     0.34735,     0.34835,     0.34935,     0.35035,     0.35135,     0.35235,     0.35335,     0.35435,     0.35536,     0.35636,     0.35736,     0.35836,     0.35936,\n",
       "           0.36036,     0.36136,     0.36236,     0.36336,     0.36436,     0.36537,     0.36637,     0.36737,     0.36837,     0.36937,     0.37037,     0.37137,     0.37237,     0.37337,     0.37437,     0.37538,     0.37638,     0.37738,     0.37838,     0.37938,     0.38038,     0.38138,     0.38238,     0.38338,\n",
       "           0.38438,     0.38539,     0.38639,     0.38739,     0.38839,     0.38939,     0.39039,     0.39139,     0.39239,     0.39339,     0.39439,      0.3954,      0.3964,      0.3974,      0.3984,      0.3994,      0.4004,      0.4014,      0.4024,      0.4034,      0.4044,     0.40541,     0.40641,     0.40741,\n",
       "           0.40841,     0.40941,     0.41041,     0.41141,     0.41241,     0.41341,     0.41441,     0.41542,     0.41642,     0.41742,     0.41842,     0.41942,     0.42042,     0.42142,     0.42242,     0.42342,     0.42442,     0.42543,     0.42643,     0.42743,     0.42843,     0.42943,     0.43043,     0.43143,\n",
       "           0.43243,     0.43343,     0.43443,     0.43544,     0.43644,     0.43744,     0.43844,     0.43944,     0.44044,     0.44144,     0.44244,     0.44344,     0.44444,     0.44545,     0.44645,     0.44745,     0.44845,     0.44945,     0.45045,     0.45145,     0.45245,     0.45345,     0.45445,     0.45546,\n",
       "           0.45646,     0.45746,     0.45846,     0.45946,     0.46046,     0.46146,     0.46246,     0.46346,     0.46446,     0.46547,     0.46647,     0.46747,     0.46847,     0.46947,     0.47047,     0.47147,     0.47247,     0.47347,     0.47447,     0.47548,     0.47648,     0.47748,     0.47848,     0.47948,\n",
       "           0.48048,     0.48148,     0.48248,     0.48348,     0.48448,     0.48549,     0.48649,     0.48749,     0.48849,     0.48949,     0.49049,     0.49149,     0.49249,     0.49349,     0.49449,      0.4955,      0.4965,      0.4975,      0.4985,      0.4995,      0.5005,      0.5015,      0.5025,      0.5035,\n",
       "            0.5045,     0.50551,     0.50651,     0.50751,     0.50851,     0.50951,     0.51051,     0.51151,     0.51251,     0.51351,     0.51451,     0.51552,     0.51652,     0.51752,     0.51852,     0.51952,     0.52052,     0.52152,     0.52252,     0.52352,     0.52452,     0.52553,     0.52653,     0.52753,\n",
       "           0.52853,     0.52953,     0.53053,     0.53153,     0.53253,     0.53353,     0.53453,     0.53554,     0.53654,     0.53754,     0.53854,     0.53954,     0.54054,     0.54154,     0.54254,     0.54354,     0.54454,     0.54555,     0.54655,     0.54755,     0.54855,     0.54955,     0.55055,     0.55155,\n",
       "           0.55255,     0.55355,     0.55455,     0.55556,     0.55656,     0.55756,     0.55856,     0.55956,     0.56056,     0.56156,     0.56256,     0.56356,     0.56456,     0.56557,     0.56657,     0.56757,     0.56857,     0.56957,     0.57057,     0.57157,     0.57257,     0.57357,     0.57457,     0.57558,\n",
       "           0.57658,     0.57758,     0.57858,     0.57958,     0.58058,     0.58158,     0.58258,     0.58358,     0.58458,     0.58559,     0.58659,     0.58759,     0.58859,     0.58959,     0.59059,     0.59159,     0.59259,     0.59359,     0.59459,      0.5956,      0.5966,      0.5976,      0.5986,      0.5996,\n",
       "            0.6006,      0.6016,      0.6026,      0.6036,      0.6046,     0.60561,     0.60661,     0.60761,     0.60861,     0.60961,     0.61061,     0.61161,     0.61261,     0.61361,     0.61461,     0.61562,     0.61662,     0.61762,     0.61862,     0.61962,     0.62062,     0.62162,     0.62262,     0.62362,\n",
       "           0.62462,     0.62563,     0.62663,     0.62763,     0.62863,     0.62963,     0.63063,     0.63163,     0.63263,     0.63363,     0.63463,     0.63564,     0.63664,     0.63764,     0.63864,     0.63964,     0.64064,     0.64164,     0.64264,     0.64364,     0.64464,     0.64565,     0.64665,     0.64765,\n",
       "           0.64865,     0.64965,     0.65065,     0.65165,     0.65265,     0.65365,     0.65465,     0.65566,     0.65666,     0.65766,     0.65866,     0.65966,     0.66066,     0.66166,     0.66266,     0.66366,     0.66466,     0.66567,     0.66667,     0.66767,     0.66867,     0.66967,     0.67067,     0.67167,\n",
       "           0.67267,     0.67367,     0.67467,     0.67568,     0.67668,     0.67768,     0.67868,     0.67968,     0.68068,     0.68168,     0.68268,     0.68368,     0.68468,     0.68569,     0.68669,     0.68769,     0.68869,     0.68969,     0.69069,     0.69169,     0.69269,     0.69369,     0.69469,      0.6957,\n",
       "            0.6967,      0.6977,      0.6987,      0.6997,      0.7007,      0.7017,      0.7027,      0.7037,      0.7047,     0.70571,     0.70671,     0.70771,     0.70871,     0.70971,     0.71071,     0.71171,     0.71271,     0.71371,     0.71471,     0.71572,     0.71672,     0.71772,     0.71872,     0.71972,\n",
       "           0.72072,     0.72172,     0.72272,     0.72372,     0.72472,     0.72573,     0.72673,     0.72773,     0.72873,     0.72973,     0.73073,     0.73173,     0.73273,     0.73373,     0.73473,     0.73574,     0.73674,     0.73774,     0.73874,     0.73974,     0.74074,     0.74174,     0.74274,     0.74374,\n",
       "           0.74474,     0.74575,     0.74675,     0.74775,     0.74875,     0.74975,     0.75075,     0.75175,     0.75275,     0.75375,     0.75475,     0.75576,     0.75676,     0.75776,     0.75876,     0.75976,     0.76076,     0.76176,     0.76276,     0.76376,     0.76476,     0.76577,     0.76677,     0.76777,\n",
       "           0.76877,     0.76977,     0.77077,     0.77177,     0.77277,     0.77377,     0.77477,     0.77578,     0.77678,     0.77778,     0.77878,     0.77978,     0.78078,     0.78178,     0.78278,     0.78378,     0.78478,     0.78579,     0.78679,     0.78779,     0.78879,     0.78979,     0.79079,     0.79179,\n",
       "           0.79279,     0.79379,     0.79479,      0.7958,      0.7968,      0.7978,      0.7988,      0.7998,      0.8008,      0.8018,      0.8028,      0.8038,      0.8048,     0.80581,     0.80681,     0.80781,     0.80881,     0.80981,     0.81081,     0.81181,     0.81281,     0.81381,     0.81481,     0.81582,\n",
       "           0.81682,     0.81782,     0.81882,     0.81982,     0.82082,     0.82182,     0.82282,     0.82382,     0.82482,     0.82583,     0.82683,     0.82783,     0.82883,     0.82983,     0.83083,     0.83183,     0.83283,     0.83383,     0.83483,     0.83584,     0.83684,     0.83784,     0.83884,     0.83984,\n",
       "           0.84084,     0.84184,     0.84284,     0.84384,     0.84484,     0.84585,     0.84685,     0.84785,     0.84885,     0.84985,     0.85085,     0.85185,     0.85285,     0.85385,     0.85485,     0.85586,     0.85686,     0.85786,     0.85886,     0.85986,     0.86086,     0.86186,     0.86286,     0.86386,\n",
       "           0.86486,     0.86587,     0.86687,     0.86787,     0.86887,     0.86987,     0.87087,     0.87187,     0.87287,     0.87387,     0.87487,     0.87588,     0.87688,     0.87788,     0.87888,     0.87988,     0.88088,     0.88188,     0.88288,     0.88388,     0.88488,     0.88589,     0.88689,     0.88789,\n",
       "           0.88889,     0.88989,     0.89089,     0.89189,     0.89289,     0.89389,     0.89489,      0.8959,      0.8969,      0.8979,      0.8989,      0.8999,      0.9009,      0.9019,      0.9029,      0.9039,      0.9049,     0.90591,     0.90691,     0.90791,     0.90891,     0.90991,     0.91091,     0.91191,\n",
       "           0.91291,     0.91391,     0.91491,     0.91592,     0.91692,     0.91792,     0.91892,     0.91992,     0.92092,     0.92192,     0.92292,     0.92392,     0.92492,     0.92593,     0.92693,     0.92793,     0.92893,     0.92993,     0.93093,     0.93193,     0.93293,     0.93393,     0.93493,     0.93594,\n",
       "           0.93694,     0.93794,     0.93894,     0.93994,     0.94094,     0.94194,     0.94294,     0.94394,     0.94494,     0.94595,     0.94695,     0.94795,     0.94895,     0.94995,     0.95095,     0.95195,     0.95295,     0.95395,     0.95495,     0.95596,     0.95696,     0.95796,     0.95896,     0.95996,\n",
       "           0.96096,     0.96196,     0.96296,     0.96396,     0.96496,     0.96597,     0.96697,     0.96797,     0.96897,     0.96997,     0.97097,     0.97197,     0.97297,     0.97397,     0.97497,     0.97598,     0.97698,     0.97798,     0.97898,     0.97998,     0.98098,     0.98198,     0.98298,     0.98398,\n",
       "           0.98498,     0.98599,     0.98699,     0.98799,     0.98899,     0.98999,     0.99099,     0.99199,     0.99299,     0.99399,     0.99499,       0.996,       0.997,       0.998,       0.999,           1]), array([[    0.87445,     0.87445,     0.86131, ...,           0,           0,           0],\n",
       "       [    0.94567,     0.94567,     0.93952, ...,           0,           0,           0],\n",
       "       [    0.91258,     0.91258,     0.90405, ...,           0,           0,           0],\n",
       "       [    0.95745,     0.95745,     0.95745, ...,           0,           0,           0]]), 'Confidence', 'Recall']]\n",
       "fitness: np.float64(0.18340905808398392)\n",
       "keys: ['metrics/precision(B)', 'metrics/recall(B)', 'metrics/mAP50(B)', 'metrics/mAP50-95(B)']\n",
       "maps: array([    0.17931,     0.18306,     0.12898,     0.14535])\n",
       "names: {0: 'Cavities', 1: 'Damage', 2: 'Infection', 3: 'Wisdom'}\n",
       "plot: True\n",
       "results_dict: {'metrics/precision(B)': np.float64(0.438626577767737), 'metrics/recall(B)': np.float64(0.49298226296989905), 'metrics/mAP50(B)': np.float64(0.4015049128793511), 'metrics/mAP50-95(B)': np.float64(0.15917618532894312), 'fitness': np.float64(0.18340905808398392)}\n",
       "save_dir: WindowsPath('runs/detect/Tooth_fairy2')\n",
       "speed: {'preprocess': 0.18206647646054655, 'inference': 3.007927460770525, 'loss': 0.000456990014157595, 'postprocess': 1.2807179029969822}\n",
       "task: 'detect'"
      ]
     },
     "execution_count": 7,
     "metadata": {},
     "output_type": "execute_result"
    }
   ],
   "execution_count": 7
  },
  {
   "metadata": {},
   "cell_type": "markdown",
   "source": "# Now we validate",
   "id": "2e23f7962cb2ef4a"
  },
  {
   "metadata": {
    "ExecuteTime": {
     "end_time": "2025-06-06T04:11:26.399133Z",
     "start_time": "2025-06-06T04:11:26.275078Z"
    }
   },
   "cell_type": "code",
   "source": [
    "model = YOLO(r'F:\\Deep learning\\pytorch\\runs\\detect\\Tooth_fairy2\\weights\\best.pt')\n",
    "model.save('F:/Deep learning/pytorch/detect.pth')"
   ],
   "id": "eb66bb48ecb76216",
   "outputs": [],
   "execution_count": 9
  },
  {
   "metadata": {
    "ExecuteTime": {
     "end_time": "2025-06-06T04:16:29.851572Z",
     "start_time": "2025-06-06T04:15:57.351156Z"
    }
   },
   "cell_type": "code",
   "source": [
    "results_val = model.val(\n",
    "    data= yaml_path,\n",
    "    plots = True,\n",
    "    imgsz = 640,\n",
    "    batch = 32,\n",
    "    split = 'val'\n",
    ")"
   ],
   "id": "c8ad233359766372",
   "outputs": [
    {
     "name": "stdout",
     "output_type": "stream",
     "text": [
      "Ultralytics 8.3.141  Python-3.11.5 torch-2.5.1+cu121 CUDA:0 (NVIDIA GeForce RTX 4060, 8188MiB)\n",
      "YOLO11s summary (fused): 100 layers, 9,414,348 parameters, 0 gradients, 21.3 GFLOPs\n",
      "\u001B[34m\u001B[1mval: \u001B[0mFast image access  (ping: 24.413.7 ms, read: 2.01.6 MB/s, size: 39.4 KB)\n"
     ]
    },
    {
     "name": "stderr",
     "output_type": "stream",
     "text": [
      "\u001B[34m\u001B[1mval: \u001B[0mScanning F:\\Deep learning\\pytorch\\Dental OPG Image dataset\\Object detection\\valid\\labels.cache... 1402 images, 33 backgrounds, 0 corrupt: 100%|██████████| 1402/1402 [00:00<?, ?it/s]"
     ]
    },
    {
     "name": "stdout",
     "output_type": "stream",
     "text": [
      "WARNING Box and segment counts should be equal, but got len(segments) = 759, len(boxes) = 3837. To resolve this only boxes will be used and all segments will be removed. To avoid this please supply either a detect or segment dataset, not a detect-segment mixed dataset.\n"
     ]
    },
    {
     "name": "stderr",
     "output_type": "stream",
     "text": [
      "\n",
      "                 Class     Images  Instances      Box(P          R      mAP50  mAP50-95): 100%|██████████| 44/44 [00:14<00:00,  3.03it/s]\n"
     ]
    },
    {
     "name": "stdout",
     "output_type": "stream",
     "text": [
      "                   all       1402       3837      0.438      0.494      0.402      0.159\n",
      "              Cavities        636       1370      0.524      0.471       0.47      0.179\n",
      "                Damage        643       1951      0.516      0.472      0.484      0.183\n",
      "             Infection        353        469      0.464      0.397      0.353      0.129\n",
      "                Wisdom         33         47      0.247      0.638        0.3      0.145\n",
      "Speed: 0.3ms preprocess, 5.7ms inference, 0.0ms loss, 1.2ms postprocess per image\n",
      "Results saved to \u001B[1mruns\\detect\\val\u001B[0m\n"
     ]
    }
   ],
   "execution_count": 10
  },
  {
   "metadata": {
    "ExecuteTime": {
     "end_time": "2025-06-06T04:20:32.857845Z",
     "start_time": "2025-06-06T04:20:32.854834Z"
    }
   },
   "cell_type": "code",
   "source": "print(results_val.confusion_matrix)",
   "id": "8ce08721925b425d",
   "outputs": [
    {
     "name": "stdout",
     "output_type": "stream",
     "text": [
      "<ultralytics.utils.metrics.ConfusionMatrix object at 0x000001E0D4F7DA50>\n"
     ]
    }
   ],
   "execution_count": 14
  },
  {
   "metadata": {
    "ExecuteTime": {
     "end_time": "2025-06-06T04:23:21.262850Z",
     "start_time": "2025-06-06T04:23:21.258396Z"
    }
   },
   "cell_type": "code",
   "source": [
    "print(results_val.box.map)\n",
    "print(results_val.box.map50)\n",
    "print(results_val.box.map75)\n",
    "print(results_val.box.maps)"
   ],
   "id": "8f22242c932a42e5",
   "outputs": [
    {
     "name": "stdout",
     "output_type": "stream",
     "text": [
      "0.15905061878765875\n",
      "0.40176845862271204\n",
      "0.08439086271645818\n",
      "[     0.1793     0.18299     0.12889     0.14502]\n"
     ]
    }
   ],
   "execution_count": 17
  },
  {
   "metadata": {
    "ExecuteTime": {
     "end_time": "2025-06-06T04:41:18.527354Z",
     "start_time": "2025-06-06T04:40:09.185646Z"
    }
   },
   "cell_type": "code",
   "source": [
    "test_results = model.val(\n",
    "    data= yaml_path,\n",
    "    save = True,\n",
    "    save_txt = True,\n",
    "    imgsz = 640,\n",
    "    batch = 32,\n",
    "    split = 'test',\n",
    "    device = device,\n",
    ")"
   ],
   "id": "eab686ed6dc6748a",
   "outputs": [
    {
     "name": "stdout",
     "output_type": "stream",
     "text": [
      "Ultralytics 8.3.141  Python-3.11.5 torch-2.5.1+cu121 CUDA:0 (NVIDIA GeForce RTX 4060, 8188MiB)\n",
      "\u001B[34m\u001B[1mval: \u001B[0mFast image access  (ping: 13.420.1 ms, read: 15.930.0 MB/s, size: 33.7 KB)\n"
     ]
    },
    {
     "name": "stderr",
     "output_type": "stream",
     "text": [
      "\u001B[34m\u001B[1mval: \u001B[0mScanning F:\\Deep learning\\pytorch\\Dental OPG Image dataset\\Object detection\\test\\labels... 613 images, 5 backgrounds, 0 corrupt: 100%|██████████| 613/613 [00:00<00:00, 828.62it/s]"
     ]
    },
    {
     "name": "stdout",
     "output_type": "stream",
     "text": [
      "\u001B[34m\u001B[1mval: \u001B[0mNew cache created: F:\\Deep learning\\pytorch\\Dental OPG Image dataset\\Object detection\\test\\labels.cache\n",
      "WARNING Box and segment counts should be equal, but got len(segments) = 369, len(boxes) = 2002. To resolve this only boxes will be used and all segments will be removed. To avoid this please supply either a detect or segment dataset, not a detect-segment mixed dataset.\n"
     ]
    },
    {
     "name": "stderr",
     "output_type": "stream",
     "text": [
      "\n",
      "                 Class     Images  Instances      Box(P          R      mAP50  mAP50-95): 100%|██████████| 20/20 [00:52<00:00,  2.64s/it]\n"
     ]
    },
    {
     "name": "stdout",
     "output_type": "stream",
     "text": [
      "                   all        613       2002       0.42      0.492      0.402      0.146\n",
      "              Cavities        334        760      0.482      0.497      0.476      0.183\n",
      "                Damage        328       1003      0.511       0.52      0.493      0.176\n",
      "             Infection        141        209       0.36      0.282       0.23     0.0687\n",
      "                Wisdom         23         30      0.327      0.667      0.408      0.155\n",
      "Speed: 0.4ms preprocess, 5.9ms inference, 0.0ms loss, 1.1ms postprocess per image\n",
      "Results saved to \u001B[1mruns\\detect\\val2\u001B[0m\n"
     ]
    }
   ],
   "execution_count": 21
  },
  {
   "metadata": {
    "ExecuteTime": {
     "end_time": "2025-06-06T04:46:07.270062Z",
     "start_time": "2025-06-06T04:45:55.397778Z"
    }
   },
   "cell_type": "code",
   "source": [
    "predict_results = model.predict(\n",
    "    source = 'F:/Deep Learning/pytorch/Dental OPG Image dataset/Object detection/test/images/',\n",
    "    save = True,\n",
    "    save_txt = True,\n",
    "    imgsz = 640,\n",
    "    batch = 32,\n",
    "    device = device,\n",
    ")"
   ],
   "id": "a6b843bae48b0f0b",
   "outputs": [
    {
     "name": "stdout",
     "output_type": "stream",
     "text": [
      "\n",
      "image 1/613 F:\\Deep Learning\\pytorch\\Dental OPG Image dataset\\Object detection\\test\\images\\Cavities_1028_jpg.rf.502756076425202626fa7a524c898210.jpg: 640x640 2 Damages, 5.3ms\n",
      "image 2/613 F:\\Deep Learning\\pytorch\\Dental OPG Image dataset\\Object detection\\test\\images\\Cavities_1033_jpg.rf.e787d4cc4a098a5cb1affa3681018734.jpg: 640x640 2 Cavitiess, 1 Damage, 5.3ms\n",
      "image 3/613 F:\\Deep Learning\\pytorch\\Dental OPG Image dataset\\Object detection\\test\\images\\Cavities_1045_jpg.rf.0a84e1c8ae35a1d3d011b0cff22c12d0.jpg: 640x640 1 Cavities, 1 Damage, 5.3ms\n",
      "image 4/613 F:\\Deep Learning\\pytorch\\Dental OPG Image dataset\\Object detection\\test\\images\\Cavities_1053_jpg.rf.fccbc2c4564fa8bfb63606ea69e26a5a.jpg: 640x640 2 Cavitiess, 1 Wisdom, 5.3ms\n",
      "image 5/613 F:\\Deep Learning\\pytorch\\Dental OPG Image dataset\\Object detection\\test\\images\\Cavities_1056_jpg.rf.a51370df101bc8837f1e508daabe5aa7.jpg: 640x640 1 Cavities, 1 Damage, 5.3ms\n",
      "image 6/613 F:\\Deep Learning\\pytorch\\Dental OPG Image dataset\\Object detection\\test\\images\\Cavities_1058_jpg.rf.d29a6b83203efa82a5573119c29dbfad.jpg: 640x640 1 Cavities, 2 Damages, 5.3ms\n",
      "image 7/613 F:\\Deep Learning\\pytorch\\Dental OPG Image dataset\\Object detection\\test\\images\\Cavities_1060_jpg.rf.9c15eb003a59ad9592d702f0f16306b8.jpg: 640x640 2 Cavitiess, 1 Infection, 5.3ms\n",
      "image 8/613 F:\\Deep Learning\\pytorch\\Dental OPG Image dataset\\Object detection\\test\\images\\Cavities_1070_jpg.rf.9bf20465aaddd7d30621da355adc962c.jpg: 640x640 2 Cavitiess, 5.3ms\n",
      "image 9/613 F:\\Deep Learning\\pytorch\\Dental OPG Image dataset\\Object detection\\test\\images\\Cavities_1081_jpg.rf.99f7cc72a98535a5c5ea2e4feea8875b.jpg: 640x640 2 Cavitiess, 5.3ms\n",
      "image 10/613 F:\\Deep Learning\\pytorch\\Dental OPG Image dataset\\Object detection\\test\\images\\Cavities_1092_jpg.rf.1563599761f5a0c7a702d9beb271f64d.jpg: 640x640 3 Cavitiess, 5.3ms\n",
      "image 11/613 F:\\Deep Learning\\pytorch\\Dental OPG Image dataset\\Object detection\\test\\images\\Cavities_1096_jpg.rf.9b0258f65bda8389f706c3231a3ed900.jpg: 640x640 3 Cavitiess, 1 Damage, 1 Infection, 5.3ms\n",
      "image 12/613 F:\\Deep Learning\\pytorch\\Dental OPG Image dataset\\Object detection\\test\\images\\Cavities_1097_jpg.rf.4faebb8ed82ed0b5b7b1451c06eb871d.jpg: 640x640 1 Cavities, 1 Damage, 5.3ms\n",
      "image 13/613 F:\\Deep Learning\\pytorch\\Dental OPG Image dataset\\Object detection\\test\\images\\Cavities_1099_jpg.rf.088aec063945ad15a38002af84cadbe8.jpg: 640x640 1 Cavities, 1 Damage, 5.3ms\n",
      "image 14/613 F:\\Deep Learning\\pytorch\\Dental OPG Image dataset\\Object detection\\test\\images\\Cavities_1105_jpg.rf.896bf13a1e0a133059d7272be5788b06.jpg: 640x640 1 Cavities, 5.3ms\n",
      "image 15/613 F:\\Deep Learning\\pytorch\\Dental OPG Image dataset\\Object detection\\test\\images\\Cavities_1138_jpg.rf.a4f3bbfa2922f9796ba6239cec6d92e1.jpg: 640x640 2 Cavitiess, 3 Damages, 5.3ms\n",
      "image 16/613 F:\\Deep Learning\\pytorch\\Dental OPG Image dataset\\Object detection\\test\\images\\Cavities_1140_jpg.rf.6c8899a320d1740ceb22ab2386ee7ba0.jpg: 640x640 3 Cavitiess, 3 Damages, 5.3ms\n",
      "image 17/613 F:\\Deep Learning\\pytorch\\Dental OPG Image dataset\\Object detection\\test\\images\\Cavities_1154_jpg.rf.c0045c19514cea5d111abe4dca3e6ab8.jpg: 640x640 2 Cavitiess, 1 Infection, 5.3ms\n",
      "image 18/613 F:\\Deep Learning\\pytorch\\Dental OPG Image dataset\\Object detection\\test\\images\\Cavities_119_jpg.rf.62ad88b1252c651d73e65ff744c39f60.jpg: 640x640 (no detections), 5.3ms\n",
      "image 19/613 F:\\Deep Learning\\pytorch\\Dental OPG Image dataset\\Object detection\\test\\images\\Cavities_1201_jpg.rf.efdc6621a22aebc6d7d8ea4e68650796.jpg: 640x640 1 Cavities, 1 Damage, 5.3ms\n",
      "image 20/613 F:\\Deep Learning\\pytorch\\Dental OPG Image dataset\\Object detection\\test\\images\\Cavities_1204_jpg.rf.c88c248e6d9ab170927b717d9413fe38.jpg: 640x640 1 Cavities, 1 Damage, 5.3ms\n",
      "image 21/613 F:\\Deep Learning\\pytorch\\Dental OPG Image dataset\\Object detection\\test\\images\\Cavities_1206_jpg.rf.48faa124323736ab6190a53f73a84183.jpg: 640x640 1 Cavities, 1 Damage, 5.3ms\n",
      "image 22/613 F:\\Deep Learning\\pytorch\\Dental OPG Image dataset\\Object detection\\test\\images\\Cavities_1216_jpg.rf.884ec628487ff64f03c028c6f0efa258.jpg: 640x640 1 Cavities, 1 Wisdom, 5.3ms\n",
      "image 23/613 F:\\Deep Learning\\pytorch\\Dental OPG Image dataset\\Object detection\\test\\images\\Cavities_1224_jpg.rf.8eb964db23218852509fba14dfc33cfb.jpg: 640x640 1 Cavities, 1 Wisdom, 5.3ms\n",
      "image 24/613 F:\\Deep Learning\\pytorch\\Dental OPG Image dataset\\Object detection\\test\\images\\Cavities_1236_jpg.rf.05ac2c3ea8455ad86dfeb94e69bcea0e.jpg: 640x640 1 Cavities, 5.3ms\n",
      "image 25/613 F:\\Deep Learning\\pytorch\\Dental OPG Image dataset\\Object detection\\test\\images\\Cavities_1238_jpg.rf.699f971a2768824e7fe0b7922c13ed19.jpg: 640x640 2 Cavitiess, 5.3ms\n",
      "image 26/613 F:\\Deep Learning\\pytorch\\Dental OPG Image dataset\\Object detection\\test\\images\\Cavities_1242_jpg.rf.e57e217f27a33b7f3dec4498874ecd79.jpg: 640x640 2 Cavitiess, 5.3ms\n",
      "image 27/613 F:\\Deep Learning\\pytorch\\Dental OPG Image dataset\\Object detection\\test\\images\\Cavities_1243_jpg.rf.fc1c95bdb060cb49fd7e1780e77c2aaa.jpg: 640x640 1 Cavities, 2 Damages, 5.3ms\n",
      "image 28/613 F:\\Deep Learning\\pytorch\\Dental OPG Image dataset\\Object detection\\test\\images\\Cavities_1271_jpg.rf.4faac133644e446709cf016a3bb54f23.jpg: 640x640 1 Cavities, 1 Damage, 5.3ms\n",
      "image 29/613 F:\\Deep Learning\\pytorch\\Dental OPG Image dataset\\Object detection\\test\\images\\Cavities_1273_jpg.rf.9c7df8895be58948515790b8a31580c6.jpg: 640x640 1 Cavities, 1 Damage, 1 Wisdom, 5.3ms\n",
      "image 30/613 F:\\Deep Learning\\pytorch\\Dental OPG Image dataset\\Object detection\\test\\images\\Cavities_1277_jpg.rf.a39b89c8ae8704616a6bc6b7facb8bc5.jpg: 640x640 2 Cavitiess, 5.3ms\n",
      "image 31/613 F:\\Deep Learning\\pytorch\\Dental OPG Image dataset\\Object detection\\test\\images\\Cavities_1288_jpg.rf.f95afa535603d5dbc37500330a9a30c1.jpg: 640x640 2 Cavitiess, 1 Damage, 5.3ms\n",
      "image 32/613 F:\\Deep Learning\\pytorch\\Dental OPG Image dataset\\Object detection\\test\\images\\Cavities_1300_jpg.rf.5c83a17bb0037c13c0f4f064b4c3178b.jpg: 640x640 1 Cavities, 5.3ms\n",
      "image 33/613 F:\\Deep Learning\\pytorch\\Dental OPG Image dataset\\Object detection\\test\\images\\Cavities_1339_jpg.rf.85059b54ab05640fa00ef811e6d23bf8.jpg: 640x640 5 Damages, 5.1ms\n",
      "image 34/613 F:\\Deep Learning\\pytorch\\Dental OPG Image dataset\\Object detection\\test\\images\\Cavities_1341_jpg.rf.8fbcf2ff5501305710dd8ac6e7a71e27.jpg: 640x640 5 Damages, 5.1ms\n",
      "image 35/613 F:\\Deep Learning\\pytorch\\Dental OPG Image dataset\\Object detection\\test\\images\\Cavities_1342_jpg.rf.67b6bdd313b97f4656395b37bbbf7b10.jpg: 640x640 2 Damages, 5.1ms\n",
      "image 36/613 F:\\Deep Learning\\pytorch\\Dental OPG Image dataset\\Object detection\\test\\images\\Cavities_1349_jpg.rf.78b8914e2056171bf869efc0c5cd9745.jpg: 640x640 (no detections), 5.1ms\n",
      "image 37/613 F:\\Deep Learning\\pytorch\\Dental OPG Image dataset\\Object detection\\test\\images\\Cavities_1360_jpg.rf.9b9eb354787cfb1f0cc75be98d44047f.jpg: 640x640 2 Cavitiess, 1 Infection, 5.1ms\n",
      "image 38/613 F:\\Deep Learning\\pytorch\\Dental OPG Image dataset\\Object detection\\test\\images\\Cavities_1361_jpg.rf.e3a214d703fc35963c748175609ad4a5.jpg: 640x640 2 Cavitiess, 5.1ms\n",
      "image 39/613 F:\\Deep Learning\\pytorch\\Dental OPG Image dataset\\Object detection\\test\\images\\Cavities_1372_jpg.rf.31c57fbe6a81bdc271158d377f9cc68f.jpg: 640x640 2 Cavitiess, 5.1ms\n",
      "image 40/613 F:\\Deep Learning\\pytorch\\Dental OPG Image dataset\\Object detection\\test\\images\\Cavities_1375_jpg.rf.426fd583af7a3c25bb488ffbfabfda1b.jpg: 640x640 3 Cavitiess, 2 Wisdoms, 5.1ms\n",
      "image 41/613 F:\\Deep Learning\\pytorch\\Dental OPG Image dataset\\Object detection\\test\\images\\Cavities_1387_jpg.rf.a372112da7af2cf1784896a6de02f2b5.jpg: 640x640 1 Cavities, 5.1ms\n",
      "image 42/613 F:\\Deep Learning\\pytorch\\Dental OPG Image dataset\\Object detection\\test\\images\\Cavities_1396_jpg.rf.144bfea847d111fafb551c1802397d9d.jpg: 640x640 2 Cavitiess, 5.1ms\n",
      "image 43/613 F:\\Deep Learning\\pytorch\\Dental OPG Image dataset\\Object detection\\test\\images\\Cavities_1405_jpg.rf.23a67fcd48adde130f1c7f634ffd17bd.jpg: 640x640 2 Cavitiess, 1 Damage, 5.1ms\n",
      "image 44/613 F:\\Deep Learning\\pytorch\\Dental OPG Image dataset\\Object detection\\test\\images\\Cavities_1408_jpg.rf.d803ddda00ff82b5c39da789b8ef2570.jpg: 640x640 1 Cavities, 1 Damage, 5.1ms\n",
      "image 45/613 F:\\Deep Learning\\pytorch\\Dental OPG Image dataset\\Object detection\\test\\images\\Cavities_1420_jpg.rf.cb36db0d451df38b843959e58f8e31e3.jpg: 640x640 1 Cavities, 1 Damage, 5.1ms\n",
      "image 46/613 F:\\Deep Learning\\pytorch\\Dental OPG Image dataset\\Object detection\\test\\images\\Cavities_1421_jpg.rf.916282ca19e854a2a96d8280f556b30f.jpg: 640x640 2 Cavitiess, 1 Damage, 5.1ms\n",
      "image 47/613 F:\\Deep Learning\\pytorch\\Dental OPG Image dataset\\Object detection\\test\\images\\Cavities_1433_jpg.rf.c81e6dbad243ab6a251b87b4deabc925.jpg: 640x640 1 Cavities, 5.1ms\n",
      "image 48/613 F:\\Deep Learning\\pytorch\\Dental OPG Image dataset\\Object detection\\test\\images\\Cavities_1446_jpg.rf.652887e12321ebeecadea19de9cd6799.jpg: 640x640 3 Cavitiess, 5.1ms\n",
      "image 49/613 F:\\Deep Learning\\pytorch\\Dental OPG Image dataset\\Object detection\\test\\images\\Cavities_1457_jpg.rf.1ae60df2812dedd1eb29c969ee7a44e6.jpg: 640x640 3 Cavitiess, 1 Damage, 5.1ms\n",
      "image 50/613 F:\\Deep Learning\\pytorch\\Dental OPG Image dataset\\Object detection\\test\\images\\Cavities_1459_jpg.rf.5ca20161699920655137f3773491d8b4.jpg: 640x640 2 Cavitiess, 2 Damages, 5.1ms\n",
      "image 51/613 F:\\Deep Learning\\pytorch\\Dental OPG Image dataset\\Object detection\\test\\images\\Cavities_1485_jpg.rf.70450dd213a1da32d79fdd840003ae84.jpg: 640x640 1 Infection, 5.1ms\n",
      "image 52/613 F:\\Deep Learning\\pytorch\\Dental OPG Image dataset\\Object detection\\test\\images\\Cavities_1491_jpg.rf.8070a723746ace8f8433b8c1dc4b7c1d.jpg: 640x640 (no detections), 5.1ms\n",
      "image 53/613 F:\\Deep Learning\\pytorch\\Dental OPG Image dataset\\Object detection\\test\\images\\Cavities_1492_jpg.rf.3c6dfae0fe3035f4d6c032cf85b5a1a1.jpg: 640x640 1 Damage, 5.1ms\n",
      "image 54/613 F:\\Deep Learning\\pytorch\\Dental OPG Image dataset\\Object detection\\test\\images\\Cavities_1549_jpg.rf.58bcab7a06678f40d731013c5e011b47.jpg: 640x640 2 Cavitiess, 1 Infection, 5.1ms\n",
      "image 55/613 F:\\Deep Learning\\pytorch\\Dental OPG Image dataset\\Object detection\\test\\images\\Cavities_1561_jpg.rf.e6dcdc251ef674855b1907dd5d026b2a.jpg: 640x640 1 Cavities, 3 Wisdoms, 5.1ms\n",
      "image 56/613 F:\\Deep Learning\\pytorch\\Dental OPG Image dataset\\Object detection\\test\\images\\Cavities_1567_jpg.rf.99e3241182c385be4d7af92a91294692.jpg: 640x640 1 Cavities, 5.1ms\n",
      "image 57/613 F:\\Deep Learning\\pytorch\\Dental OPG Image dataset\\Object detection\\test\\images\\Cavities_1571_jpg.rf.42a90c4af4843ce684f6b18b673af6b7.jpg: 640x640 2 Cavitiess, 1 Damage, 5.1ms\n",
      "image 58/613 F:\\Deep Learning\\pytorch\\Dental OPG Image dataset\\Object detection\\test\\images\\Cavities_1590_jpg.rf.90d1e42171a069b506844669db96ec2b.jpg: 640x640 1 Cavities, 1 Damage, 5.1ms\n",
      "image 59/613 F:\\Deep Learning\\pytorch\\Dental OPG Image dataset\\Object detection\\test\\images\\Cavities_1605_jpg.rf.9a9e69907a25ab20b018e0ffe3b0c73b.jpg: 640x640 2 Cavitiess, 5.1ms\n",
      "image 60/613 F:\\Deep Learning\\pytorch\\Dental OPG Image dataset\\Object detection\\test\\images\\Cavities_1617_jpg.rf.dc997a685be23b82c31b5adcf745dd2c.jpg: 640x640 (no detections), 5.1ms\n",
      "image 61/613 F:\\Deep Learning\\pytorch\\Dental OPG Image dataset\\Object detection\\test\\images\\Cavities_1624_jpg.rf.6001167ca8b7b79ba1b6359c07f63228.jpg: 640x640 1 Cavities, 5.1ms\n",
      "image 62/613 F:\\Deep Learning\\pytorch\\Dental OPG Image dataset\\Object detection\\test\\images\\Cavities_1644_jpg.rf.c9694b3cf0625a2dbedefaf266e4073b.jpg: 640x640 (no detections), 5.1ms\n",
      "image 63/613 F:\\Deep Learning\\pytorch\\Dental OPG Image dataset\\Object detection\\test\\images\\Cavities_1661_jpg.rf.56a85b6e7ca9f9686c61dc6e57a3f958.jpg: 640x640 1 Cavities, 5.1ms\n",
      "image 64/613 F:\\Deep Learning\\pytorch\\Dental OPG Image dataset\\Object detection\\test\\images\\Cavities_1664_jpg.rf.079f60d93fc4dadec8b83b4c152cbfdf.jpg: 640x640 1 Cavities, 1 Damage, 5.1ms\n",
      "image 65/613 F:\\Deep Learning\\pytorch\\Dental OPG Image dataset\\Object detection\\test\\images\\Cavities_1673_jpg.rf.c41edef8d87fc748d782e717b5306e3f.jpg: 640x640 2 Cavitiess, 1 Damage, 5.1ms\n",
      "image 66/613 F:\\Deep Learning\\pytorch\\Dental OPG Image dataset\\Object detection\\test\\images\\Cavities_1676_jpg.rf.84a95aeea8d29bdeeb9f98dd6762415c.jpg: 640x640 1 Damage, 5.1ms\n",
      "image 67/613 F:\\Deep Learning\\pytorch\\Dental OPG Image dataset\\Object detection\\test\\images\\Cavities_1693_jpg.rf.6124df9f58d89e27a4ba7e961ab5b32b.jpg: 640x640 (no detections), 5.1ms\n",
      "image 68/613 F:\\Deep Learning\\pytorch\\Dental OPG Image dataset\\Object detection\\test\\images\\Cavities_1696_jpg.rf.8bc08e64f864eb7f390112d0b1ad8632.jpg: 640x640 1 Infection, 5.1ms\n",
      "image 69/613 F:\\Deep Learning\\pytorch\\Dental OPG Image dataset\\Object detection\\test\\images\\Cavities_1710_jpg.rf.00308b4e220ad8ed994d597ee2a44307.jpg: 640x640 (no detections), 5.1ms\n",
      "image 70/613 F:\\Deep Learning\\pytorch\\Dental OPG Image dataset\\Object detection\\test\\images\\Cavities_1712_jpg.rf.c069b77f5c04ccdda7e3b9700581a8cd.jpg: 640x640 1 Cavities, 1 Damage, 5.1ms\n",
      "image 71/613 F:\\Deep Learning\\pytorch\\Dental OPG Image dataset\\Object detection\\test\\images\\Cavities_1714_jpg.rf.f3ea88ec2c8b397a1cc4c3b505e39382.jpg: 640x640 2 Cavitiess, 5.1ms\n",
      "image 72/613 F:\\Deep Learning\\pytorch\\Dental OPG Image dataset\\Object detection\\test\\images\\Cavities_1719_jpg.rf.0f75bbcdedbcae60d9499fdeb4668269.jpg: 640x640 1 Cavities, 1 Infection, 5.1ms\n",
      "image 73/613 F:\\Deep Learning\\pytorch\\Dental OPG Image dataset\\Object detection\\test\\images\\Cavities_1720_jpg.rf.fb50526328af7be0c0b52920acd02908.jpg: 640x640 2 Cavitiess, 5.1ms\n",
      "image 74/613 F:\\Deep Learning\\pytorch\\Dental OPG Image dataset\\Object detection\\test\\images\\Cavities_1722_jpg.rf.e6aeaac64434cb6d559bb3492ee0d0fd.jpg: 640x640 1 Damage, 5.1ms\n",
      "image 75/613 F:\\Deep Learning\\pytorch\\Dental OPG Image dataset\\Object detection\\test\\images\\Cavities_1723_jpg.rf.1392123ebd2e7923f47a1169ce62b73c.jpg: 640x640 1 Infection, 5.1ms\n",
      "image 76/613 F:\\Deep Learning\\pytorch\\Dental OPG Image dataset\\Object detection\\test\\images\\Cavities_1726_jpg.rf.48743aa0d51457a1ff72441deac82fa3.jpg: 640x640 2 Cavitiess, 5.1ms\n",
      "image 77/613 F:\\Deep Learning\\pytorch\\Dental OPG Image dataset\\Object detection\\test\\images\\Cavities_1750_jpg.rf.dd0c11cf2d485080ba6281823a9d16a5.jpg: 640x640 3 Cavitiess, 2 Damages, 5.1ms\n",
      "image 78/613 F:\\Deep Learning\\pytorch\\Dental OPG Image dataset\\Object detection\\test\\images\\Cavities_1756_jpg.rf.73051da7c598034ba998774323d1f631.jpg: 640x640 3 Cavitiess, 2 Damages, 5.1ms\n",
      "image 79/613 F:\\Deep Learning\\pytorch\\Dental OPG Image dataset\\Object detection\\test\\images\\Cavities_1758_jpg.rf.a6a097ed04e6f3d19638e869c825fc60.jpg: 640x640 1 Damage, 1 Infection, 5.1ms\n",
      "image 80/613 F:\\Deep Learning\\pytorch\\Dental OPG Image dataset\\Object detection\\test\\images\\Cavities_1765_jpg.rf.bf49d2630e9716fec718db0eeccce4b5.jpg: 640x640 2 Cavitiess, 2 Damages, 5.1ms\n",
      "image 81/613 F:\\Deep Learning\\pytorch\\Dental OPG Image dataset\\Object detection\\test\\images\\Cavities_1771_jpg.rf.29147d1b66179962044c040a9c4161d2.jpg: 640x640 2 Damages, 5.1ms\n",
      "image 82/613 F:\\Deep Learning\\pytorch\\Dental OPG Image dataset\\Object detection\\test\\images\\Cavities_1775_jpg.rf.6d44be79a70951fd37d488ef04738aee.jpg: 640x640 (no detections), 5.1ms\n",
      "image 83/613 F:\\Deep Learning\\pytorch\\Dental OPG Image dataset\\Object detection\\test\\images\\Cavities_1789_jpg.rf.a7fbefcfe67a68264c09256193b0f3b5.jpg: 640x640 1 Damage, 5.1ms\n",
      "image 84/613 F:\\Deep Learning\\pytorch\\Dental OPG Image dataset\\Object detection\\test\\images\\Cavities_1799_jpg.rf.0987e59f79e450da9ec00d45e1878d43.jpg: 640x640 1 Cavities, 1 Damage, 5.1ms\n",
      "image 85/613 F:\\Deep Learning\\pytorch\\Dental OPG Image dataset\\Object detection\\test\\images\\Cavities_1817_jpg.rf.36c55d167cada4c7814f3e88d9b511d1.jpg: 640x640 2 Cavitiess, 1 Wisdom, 5.1ms\n",
      "image 86/613 F:\\Deep Learning\\pytorch\\Dental OPG Image dataset\\Object detection\\test\\images\\Cavities_1820_jpg.rf.a88d9b03112b792ebb52ee3efb032b79.jpg: 640x640 1 Infection, 2 Wisdoms, 5.1ms\n",
      "image 87/613 F:\\Deep Learning\\pytorch\\Dental OPG Image dataset\\Object detection\\test\\images\\Cavities_1833_jpg.rf.f8a85512e831470d88aa95a71562a6c1.jpg: 640x640 (no detections), 5.1ms\n",
      "image 88/613 F:\\Deep Learning\\pytorch\\Dental OPG Image dataset\\Object detection\\test\\images\\Cavities_1835_jpg.rf.0051d8b419c43a622bc4f186264c11d6.jpg: 640x640 1 Wisdom, 5.1ms\n",
      "image 89/613 F:\\Deep Learning\\pytorch\\Dental OPG Image dataset\\Object detection\\test\\images\\Cavities_1839_jpg.rf.3544846b745b576962f382c7750aae3c.jpg: 640x640 (no detections), 5.1ms\n",
      "image 90/613 F:\\Deep Learning\\pytorch\\Dental OPG Image dataset\\Object detection\\test\\images\\Cavities_1847_jpg.rf.fda6c396dd33e54c5682762cdd485eed.jpg: 640x640 2 Cavitiess, 1 Wisdom, 5.1ms\n",
      "image 91/613 F:\\Deep Learning\\pytorch\\Dental OPG Image dataset\\Object detection\\test\\images\\Cavities_1856_jpg.rf.56a1abbd1ebbe64dd4bd7afcce54ae1b.jpg: 640x640 (no detections), 5.1ms\n",
      "image 92/613 F:\\Deep Learning\\pytorch\\Dental OPG Image dataset\\Object detection\\test\\images\\Cavities_1880_jpg.rf.2d82d5949e8288bdc8a38000c52cd78b.jpg: 640x640 2 Cavitiess, 5.1ms\n",
      "image 93/613 F:\\Deep Learning\\pytorch\\Dental OPG Image dataset\\Object detection\\test\\images\\Cavities_1883_jpg.rf.c1b6ecbc649aafee7dc417e93d9e110b.jpg: 640x640 2 Cavitiess, 1 Wisdom, 5.1ms\n",
      "image 94/613 F:\\Deep Learning\\pytorch\\Dental OPG Image dataset\\Object detection\\test\\images\\Cavities_1884_jpg.rf.c6b7c87b5b8e759f099981076fb5d33b.jpg: 640x640 1 Cavities, 5.1ms\n",
      "image 95/613 F:\\Deep Learning\\pytorch\\Dental OPG Image dataset\\Object detection\\test\\images\\Cavities_1893_jpg.rf.1db26428ff991018e0197f9c32269ef6.jpg: 640x640 2 Cavitiess, 1 Wisdom, 5.1ms\n",
      "image 96/613 F:\\Deep Learning\\pytorch\\Dental OPG Image dataset\\Object detection\\test\\images\\Cavities_1914_jpg.rf.639f714e5bf0cf54778afe0c8176f42a.jpg: 640x640 1 Wisdom, 5.1ms\n",
      "image 97/613 F:\\Deep Learning\\pytorch\\Dental OPG Image dataset\\Object detection\\test\\images\\Cavities_1921_jpg.rf.dacb682674a20cd9203c788e8cf639d0.jpg: 640x640 2 Cavitiess, 1 Damage, 5.1ms\n",
      "image 98/613 F:\\Deep Learning\\pytorch\\Dental OPG Image dataset\\Object detection\\test\\images\\Cavities_1927_jpg.rf.50c64f2885627e449a36285a7e70f321.jpg: 640x640 4 Cavitiess, 5.1ms\n",
      "image 99/613 F:\\Deep Learning\\pytorch\\Dental OPG Image dataset\\Object detection\\test\\images\\Cavities_1954_jpg.rf.e07f2726597974ea870177e48404b031.jpg: 640x640 (no detections), 5.1ms\n",
      "image 100/613 F:\\Deep Learning\\pytorch\\Dental OPG Image dataset\\Object detection\\test\\images\\Cavities_1956_jpg.rf.b816e0e1dfa0ab742af52ecb28b959b2.jpg: 640x640 (no detections), 5.1ms\n",
      "image 101/613 F:\\Deep Learning\\pytorch\\Dental OPG Image dataset\\Object detection\\test\\images\\Cavities_1957_jpg.rf.04f0df875a5c6fb9b2a3a4e92312776d.jpg: 640x640 2 Damages, 5.1ms\n",
      "image 102/613 F:\\Deep Learning\\pytorch\\Dental OPG Image dataset\\Object detection\\test\\images\\Cavities_1968_jpg.rf.9297bb460ac368859e9ad70f1b129b8a.jpg: 640x640 1 Cavities, 1 Damage, 5.1ms\n",
      "image 103/613 F:\\Deep Learning\\pytorch\\Dental OPG Image dataset\\Object detection\\test\\images\\Cavities_1971_jpg.rf.f6359dc0de4711a590702a2371d13967.jpg: 640x640 1 Damage, 5.1ms\n",
      "image 104/613 F:\\Deep Learning\\pytorch\\Dental OPG Image dataset\\Object detection\\test\\images\\Cavities_1987_jpg.rf.c5b4cee8aceaf9fafd927c6bc4a3b356.jpg: 640x640 1 Cavities, 5.1ms\n",
      "image 105/613 F:\\Deep Learning\\pytorch\\Dental OPG Image dataset\\Object detection\\test\\images\\Cavities_1993_jpg.rf.01792a7fa7e0ec5bf40b34b69b75b975.jpg: 640x640 3 Cavitiess, 3 Damages, 5.1ms\n",
      "image 106/613 F:\\Deep Learning\\pytorch\\Dental OPG Image dataset\\Object detection\\test\\images\\Cavities_1998_jpg.rf.8b49bf577181b0bcf9c823b2c0ab1b82.jpg: 640x640 1 Damage, 5.1ms\n",
      "image 107/613 F:\\Deep Learning\\pytorch\\Dental OPG Image dataset\\Object detection\\test\\images\\Cavities_1_jpg.rf.fd416b527e8ac0ed681470bf15a10191.jpg: 640x640 3 Cavitiess, 1 Wisdom, 5.1ms\n",
      "image 108/613 F:\\Deep Learning\\pytorch\\Dental OPG Image dataset\\Object detection\\test\\images\\Cavities_2005_jpg.rf.5782feea48ea1ad9c1a5e5a87dbff01a.jpg: 640x640 2 Cavitiess, 4 Damages, 5.1ms\n",
      "image 109/613 F:\\Deep Learning\\pytorch\\Dental OPG Image dataset\\Object detection\\test\\images\\Cavities_2009_jpg.rf.3cc70eec455fd04d81098b7ca5ac745a.jpg: 640x640 1 Cavities, 1 Damage, 5.1ms\n",
      "image 110/613 F:\\Deep Learning\\pytorch\\Dental OPG Image dataset\\Object detection\\test\\images\\Cavities_2014_jpg.rf.7ad3ae8554b61e37b811e8e44bf2be76.jpg: 640x640 1 Cavities, 1 Damage, 5.1ms\n",
      "image 111/613 F:\\Deep Learning\\pytorch\\Dental OPG Image dataset\\Object detection\\test\\images\\Cavities_2044_jpg.rf.7e2b2cb7893260251f06c7d721821c43.jpg: 640x640 1 Cavities, 5.1ms\n",
      "image 112/613 F:\\Deep Learning\\pytorch\\Dental OPG Image dataset\\Object detection\\test\\images\\Cavities_2061_jpg.rf.48a7c8a7a2468065d856c8940eab876a.jpg: 640x640 1 Cavities, 1 Damage, 5.1ms\n",
      "image 113/613 F:\\Deep Learning\\pytorch\\Dental OPG Image dataset\\Object detection\\test\\images\\Cavities_2081_jpg.rf.b8c220c56374c8de3cee8f102b727fe3.jpg: 640x640 1 Cavities, 5.1ms\n",
      "image 114/613 F:\\Deep Learning\\pytorch\\Dental OPG Image dataset\\Object detection\\test\\images\\Cavities_2093_jpg.rf.dff8226e36214708d3f53fb85277ebdd.jpg: 640x640 1 Cavities, 1 Damage, 5.1ms\n",
      "image 115/613 F:\\Deep Learning\\pytorch\\Dental OPG Image dataset\\Object detection\\test\\images\\Cavities_2103_jpg.rf.6ab8273f71c39cfee635aab0db38c128.jpg: 640x640 2 Cavitiess, 5.1ms\n",
      "image 116/613 F:\\Deep Learning\\pytorch\\Dental OPG Image dataset\\Object detection\\test\\images\\Cavities_2111_jpg.rf.bf1e500071ca2e276739e9b08e107ee8.jpg: 640x640 1 Cavities, 1 Infection, 5.1ms\n",
      "image 117/613 F:\\Deep Learning\\pytorch\\Dental OPG Image dataset\\Object detection\\test\\images\\Cavities_2119_jpg.rf.89d7a9c1fbd616aa9f5b1e5d48280ea7.jpg: 640x640 2 Cavitiess, 1 Damage, 5.1ms\n",
      "image 118/613 F:\\Deep Learning\\pytorch\\Dental OPG Image dataset\\Object detection\\test\\images\\Cavities_2130_jpg.rf.19fd43cdf3d07ebca299886e4f49da2f.jpg: 640x640 1 Cavities, 5.1ms\n",
      "image 119/613 F:\\Deep Learning\\pytorch\\Dental OPG Image dataset\\Object detection\\test\\images\\Cavities_2134_jpg.rf.ea738860514103b38f0672c3688e7784.jpg: 640x640 (no detections), 5.1ms\n",
      "image 120/613 F:\\Deep Learning\\pytorch\\Dental OPG Image dataset\\Object detection\\test\\images\\Cavities_2138_jpg.rf.d579a69488bcda858bc528d6e4ea7046.jpg: 640x640 1 Cavities, 1 Damage, 5.1ms\n",
      "image 121/613 F:\\Deep Learning\\pytorch\\Dental OPG Image dataset\\Object detection\\test\\images\\Cavities_2141_jpg.rf.ff45ca7179085dd6c062c50a3626172c.jpg: 640x640 1 Cavities, 4 Damages, 5.1ms\n",
      "image 122/613 F:\\Deep Learning\\pytorch\\Dental OPG Image dataset\\Object detection\\test\\images\\Cavities_2146_jpg.rf.296ef78fe1bc695f823c31ea1848b693.jpg: 640x640 2 Damages, 5.1ms\n",
      "image 123/613 F:\\Deep Learning\\pytorch\\Dental OPG Image dataset\\Object detection\\test\\images\\Cavities_2171_jpg.rf.c02a686b73cf46872f899e0e5fe75843.jpg: 640x640 1 Cavities, 2 Damages, 5.1ms\n",
      "image 124/613 F:\\Deep Learning\\pytorch\\Dental OPG Image dataset\\Object detection\\test\\images\\Cavities_2174_jpg.rf.a1252b78b91d624b09dc0bb6f9c5eb8c.jpg: 640x640 3 Cavitiess, 5.1ms\n",
      "image 125/613 F:\\Deep Learning\\pytorch\\Dental OPG Image dataset\\Object detection\\test\\images\\Cavities_2179_jpg.rf.8a6fab006f5bb851d1b1fb0876ac5858.jpg: 640x640 1 Cavities, 1 Damage, 5.1ms\n",
      "image 126/613 F:\\Deep Learning\\pytorch\\Dental OPG Image dataset\\Object detection\\test\\images\\Cavities_2180_jpg.rf.804c76788bd44d1ad31b1909f450311a.jpg: 640x640 (no detections), 5.1ms\n",
      "image 127/613 F:\\Deep Learning\\pytorch\\Dental OPG Image dataset\\Object detection\\test\\images\\Cavities_2182_jpg.rf.4a0b1694f2d4c03437189aba0974dc98.jpg: 640x640 2 Cavitiess, 5.1ms\n",
      "image 128/613 F:\\Deep Learning\\pytorch\\Dental OPG Image dataset\\Object detection\\test\\images\\Cavities_2184_jpg.rf.3c0db77807bb48424f3714f9b0bfc3f7.jpg: 640x640 2 Cavitiess, 5.1ms\n",
      "image 129/613 F:\\Deep Learning\\pytorch\\Dental OPG Image dataset\\Object detection\\test\\images\\Cavities_2206_jpg.rf.3c9cd54228447639cd5855a62511f222.jpg: 640x640 (no detections), 5.1ms\n",
      "image 130/613 F:\\Deep Learning\\pytorch\\Dental OPG Image dataset\\Object detection\\test\\images\\Cavities_2208_jpg.rf.42732e76e5562c46b256ea4c448a363b.jpg: 640x640 3 Damages, 5.1ms\n",
      "image 131/613 F:\\Deep Learning\\pytorch\\Dental OPG Image dataset\\Object detection\\test\\images\\Cavities_2214_jpg.rf.f6dee2afe6eb56f06a2f33ec63722274.jpg: 640x640 7 Cavitiess, 5.1ms\n",
      "image 132/613 F:\\Deep Learning\\pytorch\\Dental OPG Image dataset\\Object detection\\test\\images\\Cavities_2235_jpg.rf.2f858607a11a0e99c0eaadcc20f1c56e.jpg: 640x640 6 Cavitiess, 2 Damages, 5.1ms\n",
      "image 133/613 F:\\Deep Learning\\pytorch\\Dental OPG Image dataset\\Object detection\\test\\images\\Cavities_2242_jpg.rf.f1eb8819071d786b317baa2702e5fa36.jpg: 640x640 (no detections), 5.1ms\n",
      "image 134/613 F:\\Deep Learning\\pytorch\\Dental OPG Image dataset\\Object detection\\test\\images\\Cavities_2260_jpg.rf.7a062af2961d0fc4d5049d44ccdcff7f.jpg: 640x640 2 Cavitiess, 5.1ms\n",
      "image 135/613 F:\\Deep Learning\\pytorch\\Dental OPG Image dataset\\Object detection\\test\\images\\Cavities_2274_jpg.rf.695a45a4d2f5224c7a12aa610c210da5.jpg: 640x640 (no detections), 5.1ms\n",
      "image 136/613 F:\\Deep Learning\\pytorch\\Dental OPG Image dataset\\Object detection\\test\\images\\Cavities_2283_jpg.rf.6ec445cf06f72931d275ad3baae36c76.jpg: 640x640 1 Damage, 5.1ms\n",
      "image 137/613 F:\\Deep Learning\\pytorch\\Dental OPG Image dataset\\Object detection\\test\\images\\Cavities_2287_jpg.rf.86a7ccf936ec15c2806d957feaf9b233.jpg: 640x640 1 Cavities, 1 Damage, 5.1ms\n",
      "image 138/613 F:\\Deep Learning\\pytorch\\Dental OPG Image dataset\\Object detection\\test\\images\\Cavities_2302_jpg.rf.c67c02bd4062c71be41fbb6937bc8299.jpg: 640x640 1 Cavities, 5.1ms\n",
      "image 139/613 F:\\Deep Learning\\pytorch\\Dental OPG Image dataset\\Object detection\\test\\images\\Cavities_2316_jpg.rf.3f3161c6dc2830bb4f38621c53f1d7f9.jpg: 640x640 1 Cavities, 5.1ms\n",
      "image 140/613 F:\\Deep Learning\\pytorch\\Dental OPG Image dataset\\Object detection\\test\\images\\Cavities_2323_jpg.rf.24ce8c629e869fedd87782be50b3981b.jpg: 640x640 (no detections), 5.1ms\n",
      "image 141/613 F:\\Deep Learning\\pytorch\\Dental OPG Image dataset\\Object detection\\test\\images\\Cavities_2334_jpg.rf.9a185abb92e6531f88f1cd263613ddaf.jpg: 640x640 1 Cavities, 1 Damage, 5.1ms\n",
      "image 142/613 F:\\Deep Learning\\pytorch\\Dental OPG Image dataset\\Object detection\\test\\images\\Cavities_2344_jpg.rf.45701e53e963e360366006cc6b721c15.jpg: 640x640 4 Cavitiess, 1 Damage, 5.1ms\n",
      "image 143/613 F:\\Deep Learning\\pytorch\\Dental OPG Image dataset\\Object detection\\test\\images\\Cavities_2361_jpg.rf.a6bf4dafe2418cd6128abbba198a4d14.jpg: 640x640 1 Cavities, 1 Damage, 5.1ms\n",
      "image 144/613 F:\\Deep Learning\\pytorch\\Dental OPG Image dataset\\Object detection\\test\\images\\Cavities_2371_jpg.rf.29adce043ca90056ec7fbe6456f84508.jpg: 640x640 1 Cavities, 5.1ms\n",
      "image 145/613 F:\\Deep Learning\\pytorch\\Dental OPG Image dataset\\Object detection\\test\\images\\Cavities_2392_jpg.rf.46a954d0420436b041da58932cfb6644.jpg: 640x640 (no detections), 5.1ms\n",
      "image 146/613 F:\\Deep Learning\\pytorch\\Dental OPG Image dataset\\Object detection\\test\\images\\Cavities_2400_jpg.rf.cad0cfe2fb92043310e0515e4c898f7a.jpg: 640x640 1 Cavities, 5.1ms\n",
      "image 147/613 F:\\Deep Learning\\pytorch\\Dental OPG Image dataset\\Object detection\\test\\images\\Cavities_2402_jpg.rf.b7330170415fa57824afeee5a911a10a.jpg: 640x640 1 Damage, 5.1ms\n",
      "image 148/613 F:\\Deep Learning\\pytorch\\Dental OPG Image dataset\\Object detection\\test\\images\\Cavities_2405_jpg.rf.dc8f8e9ac1d060cad93c93bb77efc687.jpg: 640x640 (no detections), 5.1ms\n",
      "image 149/613 F:\\Deep Learning\\pytorch\\Dental OPG Image dataset\\Object detection\\test\\images\\Cavities_2406_jpg.rf.ec39f80042404e418752bbe385b7330c.jpg: 640x640 1 Cavities, 5.1ms\n",
      "image 150/613 F:\\Deep Learning\\pytorch\\Dental OPG Image dataset\\Object detection\\test\\images\\Cavities_2411_jpg.rf.3a88a7b754ea319bf7e40f22fcb3b717.jpg: 640x640 (no detections), 5.1ms\n",
      "image 151/613 F:\\Deep Learning\\pytorch\\Dental OPG Image dataset\\Object detection\\test\\images\\Cavities_2414_jpg.rf.5ccde92fb72ac4a14490c2a9de6385ff.jpg: 640x640 1 Cavities, 5.1ms\n",
      "image 152/613 F:\\Deep Learning\\pytorch\\Dental OPG Image dataset\\Object detection\\test\\images\\Cavities_2415_jpg.rf.b0a96c76823e5e810ef0fda48ed29c03.jpg: 640x640 1 Cavities, 5.1ms\n",
      "image 153/613 F:\\Deep Learning\\pytorch\\Dental OPG Image dataset\\Object detection\\test\\images\\Cavities_2432_jpg.rf.2985e1b7a932df8098886d9635b606c3.jpg: 640x640 3 Cavitiess, 5.1ms\n",
      "image 154/613 F:\\Deep Learning\\pytorch\\Dental OPG Image dataset\\Object detection\\test\\images\\Cavities_2438_jpg.rf.f2c6472a73ed9f1c1fbcf697bec7852c.jpg: 640x640 2 Cavitiess, 5.1ms\n",
      "image 155/613 F:\\Deep Learning\\pytorch\\Dental OPG Image dataset\\Object detection\\test\\images\\Cavities_2453_jpg.rf.a0e978a82f3c9b42fdbb5b1c1b79d896.jpg: 640x640 2 Cavitiess, 1 Damage, 5.1ms\n",
      "image 156/613 F:\\Deep Learning\\pytorch\\Dental OPG Image dataset\\Object detection\\test\\images\\Cavities_2457_jpg.rf.39d1f53ed7799a404f07bb1758fd0101.jpg: 640x640 1 Cavities, 3 Damages, 5.1ms\n",
      "image 157/613 F:\\Deep Learning\\pytorch\\Dental OPG Image dataset\\Object detection\\test\\images\\Cavities_2461_jpg.rf.e6a714802116813f2e9a726c9bb302b2.jpg: 640x640 (no detections), 5.1ms\n",
      "image 158/613 F:\\Deep Learning\\pytorch\\Dental OPG Image dataset\\Object detection\\test\\images\\Cavities_2468_jpg.rf.adff48ce8404c43b2ac5b46ea4cb0c05.jpg: 640x640 2 Cavitiess, 1 Damage, 5.1ms\n",
      "image 159/613 F:\\Deep Learning\\pytorch\\Dental OPG Image dataset\\Object detection\\test\\images\\Cavities_2480_jpg.rf.80ce7f4794ca3e2f230651581d6387af.jpg: 640x640 1 Cavities, 5.1ms\n",
      "image 160/613 F:\\Deep Learning\\pytorch\\Dental OPG Image dataset\\Object detection\\test\\images\\Cavities_2481_jpg.rf.c056c1c16847996309c72ee1b0d6f3f5.jpg: 640x640 1 Cavities, 5.1ms\n",
      "image 161/613 F:\\Deep Learning\\pytorch\\Dental OPG Image dataset\\Object detection\\test\\images\\Cavities_2484_jpg.rf.0ee1159d3e24ef335bd80468dfcaa65a.jpg: 640x640 (no detections), 5.0ms\n",
      "image 162/613 F:\\Deep Learning\\pytorch\\Dental OPG Image dataset\\Object detection\\test\\images\\Cavities_2490_jpg.rf.d23f3939e1698166ab401f1bf288dd3e.jpg: 640x640 (no detections), 5.0ms\n",
      "image 163/613 F:\\Deep Learning\\pytorch\\Dental OPG Image dataset\\Object detection\\test\\images\\Cavities_2494_jpg.rf.7c3690cc14c40be2796a43ebbca3a635.jpg: 640x640 1 Cavities, 5.0ms\n",
      "image 164/613 F:\\Deep Learning\\pytorch\\Dental OPG Image dataset\\Object detection\\test\\images\\Cavities_2496_jpg.rf.f9c0c5a0a35a94c83afdcbbb46f3c984.jpg: 640x640 2 Cavitiess, 5.0ms\n",
      "image 165/613 F:\\Deep Learning\\pytorch\\Dental OPG Image dataset\\Object detection\\test\\images\\Cavities_2499_jpg.rf.7221bd5073dd3fa5e6d2dfb51cada723.jpg: 640x640 1 Damage, 5.0ms\n",
      "image 166/613 F:\\Deep Learning\\pytorch\\Dental OPG Image dataset\\Object detection\\test\\images\\Cavities_24_jpg.rf.8e40ce881b39ddee01db56f9e1bd53c5.jpg: 640x640 (no detections), 5.0ms\n",
      "image 167/613 F:\\Deep Learning\\pytorch\\Dental OPG Image dataset\\Object detection\\test\\images\\Cavities_2509-Copy_jpg.rf.5936284a4809aead2a85c330ccdfb22e.jpg: 640x640 1 Cavities, 5.0ms\n",
      "image 168/613 F:\\Deep Learning\\pytorch\\Dental OPG Image dataset\\Object detection\\test\\images\\Cavities_2512_jpg.rf.0d9d42fc5beeac051a5b3611c0a5a234.jpg: 640x640 1 Cavities, 1 Damage, 5.0ms\n",
      "image 169/613 F:\\Deep Learning\\pytorch\\Dental OPG Image dataset\\Object detection\\test\\images\\Cavities_2514_jpg.rf.9911b37bc6d6ecdd7d414d6d6b0e9880.jpg: 640x640 (no detections), 5.0ms\n",
      "image 170/613 F:\\Deep Learning\\pytorch\\Dental OPG Image dataset\\Object detection\\test\\images\\Cavities_2522_jpg.rf.5cf25edbb6c7e206b036834c87fc35a8.jpg: 640x640 (no detections), 5.0ms\n",
      "image 171/613 F:\\Deep Learning\\pytorch\\Dental OPG Image dataset\\Object detection\\test\\images\\Cavities_2528_jpg.rf.f21b6bf30ea44b73f5185eb46362fdd5.jpg: 640x640 2 Cavitiess, 5.0ms\n",
      "image 172/613 F:\\Deep Learning\\pytorch\\Dental OPG Image dataset\\Object detection\\test\\images\\Cavities_2531_jpg.rf.fca10bdb6e3bfc88c5ad4845666c94cb.jpg: 640x640 (no detections), 5.0ms\n",
      "image 173/613 F:\\Deep Learning\\pytorch\\Dental OPG Image dataset\\Object detection\\test\\images\\Cavities_2534_jpg.rf.866770d7970141d3376a4e3f4f68b747.jpg: 640x640 2 Cavitiess, 1 Damage, 5.0ms\n",
      "image 174/613 F:\\Deep Learning\\pytorch\\Dental OPG Image dataset\\Object detection\\test\\images\\Cavities_2538_jpg.rf.94ceb43cec9730307fd10a2b6416d8f9.jpg: 640x640 1 Cavities, 5.0ms\n",
      "image 175/613 F:\\Deep Learning\\pytorch\\Dental OPG Image dataset\\Object detection\\test\\images\\Cavities_2572_jpg.rf.1d2ccab5490416f53221514413c87e49.jpg: 640x640 1 Cavities, 5.0ms\n",
      "image 176/613 F:\\Deep Learning\\pytorch\\Dental OPG Image dataset\\Object detection\\test\\images\\Cavities_2577_jpg.rf.a76fc2dcd144cdc5a0430cbd515f901f.jpg: 640x640 (no detections), 5.0ms\n",
      "image 177/613 F:\\Deep Learning\\pytorch\\Dental OPG Image dataset\\Object detection\\test\\images\\Cavities_2582_jpg.rf.777f86ac5a54a9d55359f2f2e2805d54.jpg: 640x640 1 Cavities, 5.0ms\n",
      "image 178/613 F:\\Deep Learning\\pytorch\\Dental OPG Image dataset\\Object detection\\test\\images\\Cavities_2583_jpg.rf.4b5419107e4f11aeb94a4d9e8cb80dce.jpg: 640x640 (no detections), 5.0ms\n",
      "image 179/613 F:\\Deep Learning\\pytorch\\Dental OPG Image dataset\\Object detection\\test\\images\\Cavities_2596_jpg.rf.752f3d381570e30146850cf3d43b242a.jpg: 640x640 2 Damages, 5.0ms\n",
      "image 180/613 F:\\Deep Learning\\pytorch\\Dental OPG Image dataset\\Object detection\\test\\images\\Cavities_2597_jpg.rf.cea92351375d642107fbebad52c31790.jpg: 640x640 2 Damages, 5.0ms\n",
      "image 181/613 F:\\Deep Learning\\pytorch\\Dental OPG Image dataset\\Object detection\\test\\images\\Cavities_2606_jpg.rf.abbf30963c9ff7557502605fd88a1085.jpg: 640x640 2 Damages, 5.0ms\n",
      "image 182/613 F:\\Deep Learning\\pytorch\\Dental OPG Image dataset\\Object detection\\test\\images\\Cavities_2614_jpg.rf.d537fb703f7d6d1beccb5bb7566241f0.jpg: 640x640 1 Cavities, 5.0ms\n",
      "image 183/613 F:\\Deep Learning\\pytorch\\Dental OPG Image dataset\\Object detection\\test\\images\\Cavities_2666_jpg.rf.8119926999be698d44fd83528a41ef96.jpg: 640x640 9 Cavitiess, 1 Damage, 5.0ms\n",
      "image 184/613 F:\\Deep Learning\\pytorch\\Dental OPG Image dataset\\Object detection\\test\\images\\Cavities_2681_jpg.rf.2776114a13cd47378d42eaae8a141af6.jpg: 640x640 (no detections), 5.0ms\n",
      "image 185/613 F:\\Deep Learning\\pytorch\\Dental OPG Image dataset\\Object detection\\test\\images\\Cavities_2684_jpg.rf.82caa71c11f047e89230e95cc406cdd0.jpg: 640x640 3 Cavitiess, 5.0ms\n",
      "image 186/613 F:\\Deep Learning\\pytorch\\Dental OPG Image dataset\\Object detection\\test\\images\\Cavities_2689_jpg.rf.786f4d47f3b9753ae258b9b8a46ee534.jpg: 640x640 3 Cavitiess, 5.0ms\n",
      "image 187/613 F:\\Deep Learning\\pytorch\\Dental OPG Image dataset\\Object detection\\test\\images\\Cavities_2691_jpg.rf.1c19d3f5fe717516524e1a1ede16a325.jpg: 640x640 5 Cavitiess, 5.0ms\n",
      "image 188/613 F:\\Deep Learning\\pytorch\\Dental OPG Image dataset\\Object detection\\test\\images\\Cavities_2700_jpg.rf.d0c83766877b61d2bf319c9246a1b715.jpg: 640x640 1 Wisdom, 5.0ms\n",
      "image 189/613 F:\\Deep Learning\\pytorch\\Dental OPG Image dataset\\Object detection\\test\\images\\Cavities_2706_jpg.rf.3defd746b8eb7ff62263f97cce5f0c22.jpg: 640x640 1 Cavities, 5.0ms\n",
      "image 190/613 F:\\Deep Learning\\pytorch\\Dental OPG Image dataset\\Object detection\\test\\images\\Cavities_2708_jpg.rf.b3bd988d397107f82165e78b0aed0614.jpg: 640x640 2 Cavitiess, 5.0ms\n",
      "image 191/613 F:\\Deep Learning\\pytorch\\Dental OPG Image dataset\\Object detection\\test\\images\\Cavities_2732_jpg.rf.09f3c252728ec49e783e87d4db28b708.jpg: 640x640 1 Cavities, 5.0ms\n",
      "image 192/613 F:\\Deep Learning\\pytorch\\Dental OPG Image dataset\\Object detection\\test\\images\\Cavities_2736_jpg.rf.042cae1dab8b1f7dcfe2686784b28a0c.jpg: 640x640 2 Cavitiess, 5.0ms\n",
      "image 193/613 F:\\Deep Learning\\pytorch\\Dental OPG Image dataset\\Object detection\\test\\images\\Cavities_2742_jpg.rf.d4728b5eb148ce9c65ef809f558425bc.jpg: 640x640 1 Cavities, 5.1ms\n",
      "image 194/613 F:\\Deep Learning\\pytorch\\Dental OPG Image dataset\\Object detection\\test\\images\\Cavities_2777_jpg.rf.c3ead4e0b8da9190c4fce208169726c4.jpg: 640x640 1 Cavities, 5.1ms\n",
      "image 195/613 F:\\Deep Learning\\pytorch\\Dental OPG Image dataset\\Object detection\\test\\images\\Cavities_2783_jpg.rf.5d003f126ca9a6c9d0f2ad7f64276532.jpg: 640x640 1 Cavities, 1 Damage, 5.1ms\n",
      "image 196/613 F:\\Deep Learning\\pytorch\\Dental OPG Image dataset\\Object detection\\test\\images\\Cavities_2784_jpg.rf.a87cb51b7e48d8affd36167b3ff52ef7.jpg: 640x640 2 Cavitiess, 5.1ms\n",
      "image 197/613 F:\\Deep Learning\\pytorch\\Dental OPG Image dataset\\Object detection\\test\\images\\Cavities_2793_jpg.rf.6397e55d87ae24e315e15cd888520e59.jpg: 640x640 1 Cavities, 5.1ms\n",
      "image 198/613 F:\\Deep Learning\\pytorch\\Dental OPG Image dataset\\Object detection\\test\\images\\Cavities_2797_jpg.rf.3867a9018c0afdea3fbdff65af9791f8.jpg: 640x640 2 Cavitiess, 5.1ms\n",
      "image 199/613 F:\\Deep Learning\\pytorch\\Dental OPG Image dataset\\Object detection\\test\\images\\Cavities_2800_jpg.rf.801eadf3ae05bedff92762bf18345070.jpg: 640x640 1 Cavities, 2 Damages, 5.1ms\n",
      "image 200/613 F:\\Deep Learning\\pytorch\\Dental OPG Image dataset\\Object detection\\test\\images\\Cavities_2812_jpg.rf.62ccd36f7d56afefedfa1fb9ff4701dd.jpg: 640x640 1 Cavities, 5.1ms\n",
      "image 201/613 F:\\Deep Learning\\pytorch\\Dental OPG Image dataset\\Object detection\\test\\images\\Cavities_2816_jpg.rf.84d10766d9840f12e9361a6d35b337ae.jpg: 640x640 1 Cavities, 5.1ms\n",
      "image 202/613 F:\\Deep Learning\\pytorch\\Dental OPG Image dataset\\Object detection\\test\\images\\Cavities_2826_jpg.rf.02cbff34a0e973469ee803d6d3add805.jpg: 640x640 1 Cavities, 5.1ms\n",
      "image 203/613 F:\\Deep Learning\\pytorch\\Dental OPG Image dataset\\Object detection\\test\\images\\Cavities_2843_jpg.rf.e801d93b043e4274e32869ad6547bd14.jpg: 640x640 3 Cavitiess, 5.1ms\n",
      "image 204/613 F:\\Deep Learning\\pytorch\\Dental OPG Image dataset\\Object detection\\test\\images\\Cavities_2852_jpg.rf.6b7bfc03cc612e403fd4f1e8dfa21542.jpg: 640x640 1 Cavities, 1 Damage, 5.1ms\n",
      "image 205/613 F:\\Deep Learning\\pytorch\\Dental OPG Image dataset\\Object detection\\test\\images\\Cavities_2865_jpg.rf.4718c3399ffb187860f0662b8e543990.jpg: 640x640 2 Cavitiess, 5.1ms\n",
      "image 206/613 F:\\Deep Learning\\pytorch\\Dental OPG Image dataset\\Object detection\\test\\images\\Cavities_2868_jpg.rf.c0bb65cfe98d7ab659c11d160504bba0.jpg: 640x640 1 Cavities, 5.1ms\n",
      "image 207/613 F:\\Deep Learning\\pytorch\\Dental OPG Image dataset\\Object detection\\test\\images\\Cavities_2881_jpg.rf.e6e1ed1ea6afede71c75f11fccd944d0.jpg: 640x640 1 Infection, 5.1ms\n",
      "image 208/613 F:\\Deep Learning\\pytorch\\Dental OPG Image dataset\\Object detection\\test\\images\\Cavities_2887_jpg.rf.4b5d839a5507b82bac9f92035333d41c.jpg: 640x640 2 Cavitiess, 3 Damages, 1 Infection, 5.1ms\n",
      "image 209/613 F:\\Deep Learning\\pytorch\\Dental OPG Image dataset\\Object detection\\test\\images\\Cavities_2893_jpg.rf.ce6ecee59cefd160645a37d8c9c440c7.jpg: 640x640 2 Cavitiess, 1 Damage, 5.1ms\n",
      "image 210/613 F:\\Deep Learning\\pytorch\\Dental OPG Image dataset\\Object detection\\test\\images\\Cavities_2912_jpg.rf.32a0cee60cb5fc13be03d58e9e1550df.jpg: 640x640 1 Cavities, 5.1ms\n",
      "image 211/613 F:\\Deep Learning\\pytorch\\Dental OPG Image dataset\\Object detection\\test\\images\\Cavities_2917_jpg.rf.a66d20036c54d35a55b11f66a5a48180.jpg: 640x640 (no detections), 5.1ms\n",
      "image 212/613 F:\\Deep Learning\\pytorch\\Dental OPG Image dataset\\Object detection\\test\\images\\Cavities_2918_jpg.rf.e5ac2529f493aa64a97c9787a01b975b.jpg: 640x640 (no detections), 5.1ms\n",
      "image 213/613 F:\\Deep Learning\\pytorch\\Dental OPG Image dataset\\Object detection\\test\\images\\Cavities_293_jpg.rf.7b073394d2dc2f72b0262608bdd400d5.jpg: 640x640 2 Cavitiess, 5.1ms\n",
      "image 214/613 F:\\Deep Learning\\pytorch\\Dental OPG Image dataset\\Object detection\\test\\images\\Cavities_2941_jpg.rf.df570602bb9747a2dbbf47dba8f0f5bf.jpg: 640x640 1 Cavities, 5.1ms\n",
      "image 215/613 F:\\Deep Learning\\pytorch\\Dental OPG Image dataset\\Object detection\\test\\images\\Cavities_2947_jpg.rf.af1fadeb5636853506d9473ac2abedd4.jpg: 640x640 1 Cavities, 1 Damage, 1 Wisdom, 5.1ms\n",
      "image 216/613 F:\\Deep Learning\\pytorch\\Dental OPG Image dataset\\Object detection\\test\\images\\Cavities_2961109_jpg.rf.85f28cb74d9bb72b5e02ebe19aa6c236.jpg: 640x640 4 Cavitiess, 1 Damage, 5.1ms\n",
      "image 217/613 F:\\Deep Learning\\pytorch\\Dental OPG Image dataset\\Object detection\\test\\images\\Cavities_2961114_jpg.rf.05f5b8187c0971a346389d7d36137d68.jpg: 640x640 4 Cavitiess, 1 Wisdom, 5.1ms\n",
      "image 218/613 F:\\Deep Learning\\pytorch\\Dental OPG Image dataset\\Object detection\\test\\images\\Cavities_2961117_jpg.rf.44eb3769fdba3a5aa525ead7649b45d1.jpg: 640x640 5 Cavitiess, 2 Damages, 5.1ms\n",
      "image 219/613 F:\\Deep Learning\\pytorch\\Dental OPG Image dataset\\Object detection\\test\\images\\Cavities_2961120_jpg.rf.aa3f6b103c494cc45c5510c2ebfc378c.jpg: 640x640 5 Cavitiess, 2 Damages, 5.1ms\n",
      "image 220/613 F:\\Deep Learning\\pytorch\\Dental OPG Image dataset\\Object detection\\test\\images\\Cavities_2961169_jpg.rf.1cbc9384950987ff99b14254186eb42a.jpg: 640x640 2 Cavitiess, 3 Damages, 5.1ms\n",
      "image 221/613 F:\\Deep Learning\\pytorch\\Dental OPG Image dataset\\Object detection\\test\\images\\Cavities_296116_jpg.rf.792d2fa3d4d06bdf0e30175ffacda906.jpg: 640x640 1 Cavities, 1 Wisdom, 5.1ms\n",
      "image 222/613 F:\\Deep Learning\\pytorch\\Dental OPG Image dataset\\Object detection\\test\\images\\Cavities_2961170_jpg.rf.f60b800881ad1d83ba5d05d0079d284f.jpg: 640x640 2 Cavitiess, 5.1ms\n",
      "image 223/613 F:\\Deep Learning\\pytorch\\Dental OPG Image dataset\\Object detection\\test\\images\\Cavities_2961180_jpg.rf.548ebe4f8be825a6eda45ac8254cccff.jpg: 640x640 2 Cavitiess, 1 Wisdom, 5.1ms\n",
      "image 224/613 F:\\Deep Learning\\pytorch\\Dental OPG Image dataset\\Object detection\\test\\images\\Cavities_2961185_jpg.rf.df0b174564cac5cb304cabc9c93dd60a.jpg: 640x640 1 Cavities, 5.1ms\n",
      "image 225/613 F:\\Deep Learning\\pytorch\\Dental OPG Image dataset\\Object detection\\test\\images\\Cavities_2961192_jpg.rf.c346eb170683ba3b2fb19d689b9daaf6.jpg: 640x640 1 Cavities, 5.1ms\n",
      "image 226/613 F:\\Deep Learning\\pytorch\\Dental OPG Image dataset\\Object detection\\test\\images\\Cavities_2961203_jpg.rf.e15cec3479d2f76c8b8b6921e9a17815.jpg: 640x640 5 Cavitiess, 5.1ms\n",
      "image 227/613 F:\\Deep Learning\\pytorch\\Dental OPG Image dataset\\Object detection\\test\\images\\Cavities_2961205_jpg.rf.2403dbf62a2e135bc79bc272ea687bbb.jpg: 640x640 5 Cavitiess, 5.1ms\n",
      "image 228/613 F:\\Deep Learning\\pytorch\\Dental OPG Image dataset\\Object detection\\test\\images\\Cavities_2961208_jpg.rf.5b5340f3e6d9363be3dc84711683aaad.jpg: 640x640 6 Cavitiess, 5.1ms\n",
      "image 229/613 F:\\Deep Learning\\pytorch\\Dental OPG Image dataset\\Object detection\\test\\images\\Cavities_2961209_jpg.rf.c91eb566f4e46a0d08d253ed9056a5ec.jpg: 640x640 5 Cavitiess, 5.1ms\n",
      "image 230/613 F:\\Deep Learning\\pytorch\\Dental OPG Image dataset\\Object detection\\test\\images\\Cavities_2961219_jpg.rf.73586d3c7d612b30f2ef7fecca117039.jpg: 640x640 2 Cavitiess, 5.1ms\n",
      "image 231/613 F:\\Deep Learning\\pytorch\\Dental OPG Image dataset\\Object detection\\test\\images\\Cavities_296121_jpg.rf.29377e241ee37e0f325f7ed585a6bc35.jpg: 640x640 (no detections), 5.1ms\n",
      "image 232/613 F:\\Deep Learning\\pytorch\\Dental OPG Image dataset\\Object detection\\test\\images\\Cavities_2961223_jpg.rf.e4229bfaee955a8ee364949434c3a99b.jpg: 640x640 2 Cavitiess, 5.1ms\n",
      "image 233/613 F:\\Deep Learning\\pytorch\\Dental OPG Image dataset\\Object detection\\test\\images\\Cavities_2961230_jpg.rf.be738ca88e18a88b416ddeb76cb592dc.jpg: 640x640 1 Damage, 5.1ms\n",
      "image 234/613 F:\\Deep Learning\\pytorch\\Dental OPG Image dataset\\Object detection\\test\\images\\Cavities_2961240_jpg.rf.3ae85440ddfc428daed79957d17aab8e.jpg: 640x640 1 Cavities, 1 Damage, 5.1ms\n",
      "image 235/613 F:\\Deep Learning\\pytorch\\Dental OPG Image dataset\\Object detection\\test\\images\\Cavities_296149_jpg.rf.93130d120d33d46e4678fcfa22fec823.jpg: 640x640 1 Cavities, 1 Damage, 5.1ms\n",
      "image 236/613 F:\\Deep Learning\\pytorch\\Dental OPG Image dataset\\Object detection\\test\\images\\Cavities_296167_jpg.rf.e02d9fc852e388d3180d69a0187b2984.jpg: 640x640 3 Cavitiess, 5.1ms\n",
      "image 237/613 F:\\Deep Learning\\pytorch\\Dental OPG Image dataset\\Object detection\\test\\images\\Cavities_296172_jpg.rf.1cd61ae99e4519e41daeca39a9a9470d.jpg: 640x640 2 Wisdoms, 5.1ms\n",
      "image 238/613 F:\\Deep Learning\\pytorch\\Dental OPG Image dataset\\Object detection\\test\\images\\Cavities_296199_jpg.rf.0552bd56649542ca5439df6fb60b2faa.jpg: 640x640 3 Cavitiess, 2 Damages, 5.1ms\n",
      "image 239/613 F:\\Deep Learning\\pytorch\\Dental OPG Image dataset\\Object detection\\test\\images\\Cavities_300_jpg.rf.1168a1a9aa53dfe1df97c9108eb9be3d.jpg: 640x640 1 Cavities, 2 Damages, 5.1ms\n",
      "image 240/613 F:\\Deep Learning\\pytorch\\Dental OPG Image dataset\\Object detection\\test\\images\\Cavities_301_jpg.rf.9556152def226e510d4787c6584f7442.jpg: 640x640 2 Cavitiess, 5.1ms\n",
      "image 241/613 F:\\Deep Learning\\pytorch\\Dental OPG Image dataset\\Object detection\\test\\images\\Cavities_306_jpg.rf.510e2b04696640812f7afc68acf5db3f.jpg: 640x640 2 Cavitiess, 5.1ms\n",
      "image 242/613 F:\\Deep Learning\\pytorch\\Dental OPG Image dataset\\Object detection\\test\\images\\Cavities_311_jpg.rf.c8956c774cb755fa8546662eaed895eb.jpg: 640x640 4 Cavitiess, 5.1ms\n",
      "image 243/613 F:\\Deep Learning\\pytorch\\Dental OPG Image dataset\\Object detection\\test\\images\\Cavities_318_jpg.rf.22caacaf62ffb2d44fcfd893b23fb1d9.jpg: 640x640 3 Cavitiess, 1 Damage, 5.1ms\n",
      "image 244/613 F:\\Deep Learning\\pytorch\\Dental OPG Image dataset\\Object detection\\test\\images\\Cavities_332_jpg.rf.8166eca7b32060221a711f7659f0d68d.jpg: 640x640 2 Cavitiess, 1 Damage, 5.1ms\n",
      "image 245/613 F:\\Deep Learning\\pytorch\\Dental OPG Image dataset\\Object detection\\test\\images\\Cavities_35_jpg.rf.66e6d78b40a1b5de0389a785e0014a3c.jpg: 640x640 (no detections), 5.1ms\n",
      "image 246/613 F:\\Deep Learning\\pytorch\\Dental OPG Image dataset\\Object detection\\test\\images\\Cavities_366_jpg.rf.86b290b375d4a3d750601f0112710e63.jpg: 640x640 1 Cavities, 1 Damage, 5.1ms\n",
      "image 247/613 F:\\Deep Learning\\pytorch\\Dental OPG Image dataset\\Object detection\\test\\images\\Cavities_372_jpg.rf.f91b7922b2a9d66c6fd9b0ab0b3f4a7b.jpg: 640x640 1 Damage, 5.1ms\n",
      "image 248/613 F:\\Deep Learning\\pytorch\\Dental OPG Image dataset\\Object detection\\test\\images\\Cavities_37_jpg.rf.5cdd8a45f7a5dcd2e3773c7c0e33242b.jpg: 640x640 (no detections), 5.1ms\n",
      "image 249/613 F:\\Deep Learning\\pytorch\\Dental OPG Image dataset\\Object detection\\test\\images\\Cavities_385_jpg.rf.bb510360d9ca19930cc2a54e89d23dac.jpg: 640x640 4 Cavitiess, 5.1ms\n",
      "image 250/613 F:\\Deep Learning\\pytorch\\Dental OPG Image dataset\\Object detection\\test\\images\\Cavities_388_jpg.rf.38065425b979476fdfa1ac8ba840609e.jpg: 640x640 4 Cavitiess, 5.1ms\n",
      "image 251/613 F:\\Deep Learning\\pytorch\\Dental OPG Image dataset\\Object detection\\test\\images\\Cavities_392_jpg.rf.3a27ee3a4ca7dc2abf923c67aecb52b2.jpg: 640x640 1 Damage, 5.1ms\n",
      "image 252/613 F:\\Deep Learning\\pytorch\\Dental OPG Image dataset\\Object detection\\test\\images\\Cavities_394_jpg.rf.3a1bc3276d908eb56b0d0325573b1942.jpg: 640x640 1 Damage, 5.1ms\n",
      "image 253/613 F:\\Deep Learning\\pytorch\\Dental OPG Image dataset\\Object detection\\test\\images\\Cavities_400_jpg.rf.39b19fa820cd4ade8cf7213f9edefa53.jpg: 640x640 3 Cavitiess, 1 Damage, 5.1ms\n",
      "image 254/613 F:\\Deep Learning\\pytorch\\Dental OPG Image dataset\\Object detection\\test\\images\\Cavities_406_jpg.rf.fc3581928cf22dd87092dba8276a468b.jpg: 640x640 3 Cavitiess, 5.1ms\n",
      "image 255/613 F:\\Deep Learning\\pytorch\\Dental OPG Image dataset\\Object detection\\test\\images\\Cavities_412_jpg.rf.1ce6c00535e8e2a01e228d158585fc2f.jpg: 640x640 1 Cavities, 5.1ms\n",
      "image 256/613 F:\\Deep Learning\\pytorch\\Dental OPG Image dataset\\Object detection\\test\\images\\Cavities_413_jpg.rf.374b69a029f1639b4819b5850b773520.jpg: 640x640 1 Cavities, 5.1ms\n",
      "image 257/613 F:\\Deep Learning\\pytorch\\Dental OPG Image dataset\\Object detection\\test\\images\\Cavities_418_jpg.rf.6e1dbad4e3706499a8918b73424a52d4.jpg: 640x640 3 Cavitiess, 5.1ms\n",
      "image 258/613 F:\\Deep Learning\\pytorch\\Dental OPG Image dataset\\Object detection\\test\\images\\Cavities_423_jpg.rf.d6f8a5bbaf902f42fde9d1b575fc8385.jpg: 640x640 3 Cavitiess, 5.1ms\n",
      "image 259/613 F:\\Deep Learning\\pytorch\\Dental OPG Image dataset\\Object detection\\test\\images\\Cavities_433_jpg.rf.c66192debe49e1e8764e0cd01e634056.jpg: 640x640 2 Cavitiess, 5.1ms\n",
      "image 260/613 F:\\Deep Learning\\pytorch\\Dental OPG Image dataset\\Object detection\\test\\images\\Cavities_443_jpg.rf.128ede3abce64e2778aa03a0aa862deb.jpg: 640x640 2 Cavitiess, 5.1ms\n",
      "image 261/613 F:\\Deep Learning\\pytorch\\Dental OPG Image dataset\\Object detection\\test\\images\\Cavities_445_jpg.rf.75ff6ea859c680e5f8ff9b8f92776b4a.jpg: 640x640 1 Cavities, 3 Damages, 5.1ms\n",
      "image 262/613 F:\\Deep Learning\\pytorch\\Dental OPG Image dataset\\Object detection\\test\\images\\Cavities_446_jpg.rf.46ca5675020d7ad482caa4c2767ec62a.jpg: 640x640 1 Cavities, 3 Damages, 5.1ms\n",
      "image 263/613 F:\\Deep Learning\\pytorch\\Dental OPG Image dataset\\Object detection\\test\\images\\Cavities_451_jpg.rf.8fbd0c81ac3a6953b1b16035ff2a57fc.jpg: 640x640 1 Cavities, 5.1ms\n",
      "image 264/613 F:\\Deep Learning\\pytorch\\Dental OPG Image dataset\\Object detection\\test\\images\\Cavities_457_jpg.rf.fe26ded41a6c310d10e9ce2148607233.jpg: 640x640 1 Cavities, 2 Damages, 5.1ms\n",
      "image 265/613 F:\\Deep Learning\\pytorch\\Dental OPG Image dataset\\Object detection\\test\\images\\Cavities_463_jpg.rf.b047f4a80fa1cad5689e38a4c9c8c54e.jpg: 640x640 2 Cavitiess, 5.1ms\n",
      "image 266/613 F:\\Deep Learning\\pytorch\\Dental OPG Image dataset\\Object detection\\test\\images\\Cavities_466_jpg.rf.36d78900b0790938e01c7c6e2fcb1f33.jpg: 640x640 3 Cavitiess, 5.1ms\n",
      "image 267/613 F:\\Deep Learning\\pytorch\\Dental OPG Image dataset\\Object detection\\test\\images\\Cavities_471_jpg.rf.5bd1c70a80575d1e66108c084fd95d09.jpg: 640x640 1 Cavities, 1 Damage, 5.1ms\n",
      "image 268/613 F:\\Deep Learning\\pytorch\\Dental OPG Image dataset\\Object detection\\test\\images\\Cavities_473_jpg.rf.9f819a66eeecf3cb4c39bce92c4c2dca.jpg: 640x640 1 Cavities, 3 Damages, 5.1ms\n",
      "image 269/613 F:\\Deep Learning\\pytorch\\Dental OPG Image dataset\\Object detection\\test\\images\\Cavities_475_jpg.rf.bc514d6a5e801ce5ca79fac19ff1c65d.jpg: 640x640 1 Wisdom, 5.1ms\n",
      "image 270/613 F:\\Deep Learning\\pytorch\\Dental OPG Image dataset\\Object detection\\test\\images\\Cavities_476_jpg.rf.deeb854acb7bef733412d7c5663fc68c.jpg: 640x640 1 Wisdom, 5.1ms\n",
      "image 271/613 F:\\Deep Learning\\pytorch\\Dental OPG Image dataset\\Object detection\\test\\images\\Cavities_493_jpg.rf.5cffee7c2f4183cb8f6043abeb8301f1.jpg: 640x640 3 Damages, 5.1ms\n",
      "image 272/613 F:\\Deep Learning\\pytorch\\Dental OPG Image dataset\\Object detection\\test\\images\\Cavities_508_jpg.rf.98e9d25f0bbee7208b006a14ff2b7c46.jpg: 640x640 2 Cavitiess, 1 Wisdom, 5.1ms\n",
      "image 273/613 F:\\Deep Learning\\pytorch\\Dental OPG Image dataset\\Object detection\\test\\images\\Cavities_516_jpg.rf.c9f94014ba1f0dd1c71479cf8b643ec8.jpg: 640x640 2 Cavitiess, 1 Wisdom, 5.1ms\n",
      "image 274/613 F:\\Deep Learning\\pytorch\\Dental OPG Image dataset\\Object detection\\test\\images\\Cavities_520_jpg.rf.92522a790f479cfb69207b71926cbb6e.jpg: 640x640 2 Cavitiess, 1 Damage, 5.1ms\n",
      "image 275/613 F:\\Deep Learning\\pytorch\\Dental OPG Image dataset\\Object detection\\test\\images\\Cavities_526_jpg.rf.135bca787b01d731c2e36eff7357621b.jpg: 640x640 1 Cavities, 5.1ms\n",
      "image 276/613 F:\\Deep Learning\\pytorch\\Dental OPG Image dataset\\Object detection\\test\\images\\Cavities_535_jpg.rf.d8b76b510594184681de157edcb9cf8b.jpg: 640x640 2 Cavitiess, 1 Damage, 5.1ms\n",
      "image 277/613 F:\\Deep Learning\\pytorch\\Dental OPG Image dataset\\Object detection\\test\\images\\Cavities_536_jpg.rf.700443a808e4099f509fb8bb9a69253f.jpg: 640x640 2 Cavitiess, 1 Damage, 5.1ms\n",
      "image 278/613 F:\\Deep Learning\\pytorch\\Dental OPG Image dataset\\Object detection\\test\\images\\Cavities_580_jpg.rf.b971f38469a500bf653b9212cc4e03c2.jpg: 640x640 2 Cavitiess, 5.1ms\n",
      "image 279/613 F:\\Deep Learning\\pytorch\\Dental OPG Image dataset\\Object detection\\test\\images\\Cavities_605_jpg.rf.a21ebe994cf131bc915d616aaaabaf5d.jpg: 640x640 1 Damage, 5.1ms\n",
      "image 280/613 F:\\Deep Learning\\pytorch\\Dental OPG Image dataset\\Object detection\\test\\images\\Cavities_617_jpg.rf.67a6d2c47122fe8e0b217ceab95168cd.jpg: 640x640 1 Cavities, 5.1ms\n",
      "image 281/613 F:\\Deep Learning\\pytorch\\Dental OPG Image dataset\\Object detection\\test\\images\\Cavities_633_jpg.rf.99afef526c9211af67b12b9db4121145.jpg: 640x640 5 Cavitiess, 5.1ms\n",
      "image 282/613 F:\\Deep Learning\\pytorch\\Dental OPG Image dataset\\Object detection\\test\\images\\Cavities_636_jpg.rf.29edf2c9416af6660db45f0ce4b07b21.jpg: 640x640 1 Cavities, 5.1ms\n",
      "image 283/613 F:\\Deep Learning\\pytorch\\Dental OPG Image dataset\\Object detection\\test\\images\\Cavities_649_jpg.rf.8d680cce3b07882b55a58d77f98198cf.jpg: 640x640 2 Cavitiess, 1 Damage, 5.1ms\n",
      "image 284/613 F:\\Deep Learning\\pytorch\\Dental OPG Image dataset\\Object detection\\test\\images\\Cavities_659_jpg.rf.e4b49c45a3088894beaa301b1c14414b.jpg: 640x640 2 Cavitiess, 1 Damage, 5.1ms\n",
      "image 285/613 F:\\Deep Learning\\pytorch\\Dental OPG Image dataset\\Object detection\\test\\images\\Cavities_691_jpg.rf.40dd8845dc6c2472e162f3da582651ba.jpg: 640x640 2 Cavitiess, 5.1ms\n",
      "image 286/613 F:\\Deep Learning\\pytorch\\Dental OPG Image dataset\\Object detection\\test\\images\\Cavities_692_jpg.rf.2e11daeaabfae31e4cff62ac69baf24e.jpg: 640x640 2 Cavitiess, 5.1ms\n",
      "image 287/613 F:\\Deep Learning\\pytorch\\Dental OPG Image dataset\\Object detection\\test\\images\\Cavities_704_jpg.rf.aaeb09c331e679928b9ac693e1f150c9.jpg: 640x640 1 Cavities, 5.1ms\n",
      "image 288/613 F:\\Deep Learning\\pytorch\\Dental OPG Image dataset\\Object detection\\test\\images\\Cavities_706-Copy_jpg.rf.9031a299ad5c0e3979fb9a23a75f403c.jpg: 640x640 3 Cavitiess, 5.1ms\n",
      "image 289/613 F:\\Deep Learning\\pytorch\\Dental OPG Image dataset\\Object detection\\test\\images\\Cavities_723_jpg.rf.ecce4b45f980ef56a5f1ff43e90d9585.jpg: 640x640 2 Cavitiess, 5.1ms\n",
      "image 290/613 F:\\Deep Learning\\pytorch\\Dental OPG Image dataset\\Object detection\\test\\images\\Cavities_733_jpg.rf.aa38772a8461515823c4e6e0fe7d4685.jpg: 640x640 3 Cavitiess, 1 Damage, 5.1ms\n",
      "image 291/613 F:\\Deep Learning\\pytorch\\Dental OPG Image dataset\\Object detection\\test\\images\\Cavities_748_jpg.rf.a9e39df24cca2243f2c145aecefde956.jpg: 640x640 1 Cavities, 1 Wisdom, 5.1ms\n",
      "image 292/613 F:\\Deep Learning\\pytorch\\Dental OPG Image dataset\\Object detection\\test\\images\\Cavities_767_jpg.rf.e20da5f719fc1c7e5db7a17088b1b898.jpg: 640x640 3 Cavitiess, 5.1ms\n",
      "image 293/613 F:\\Deep Learning\\pytorch\\Dental OPG Image dataset\\Object detection\\test\\images\\Cavities_779_jpg.rf.a13d7366ef4274bca1b12c41b4354cb3.jpg: 640x640 1 Cavities, 2 Damages, 1 Wisdom, 5.1ms\n",
      "image 294/613 F:\\Deep Learning\\pytorch\\Dental OPG Image dataset\\Object detection\\test\\images\\Cavities_795_jpg.rf.4c5a853c956597c60194c0a205b96bd4.jpg: 640x640 1 Cavities, 1 Damage, 5.1ms\n",
      "image 295/613 F:\\Deep Learning\\pytorch\\Dental OPG Image dataset\\Object detection\\test\\images\\Cavities_797_jpg.rf.f8bc511c7fe87a24f82ec6ceb1065f91.jpg: 640x640 1 Cavities, 1 Damage, 5.1ms\n",
      "image 296/613 F:\\Deep Learning\\pytorch\\Dental OPG Image dataset\\Object detection\\test\\images\\Cavities_807_jpg.rf.7730786e5df206846e631fca64ae007b.jpg: 640x640 1 Cavities, 5.1ms\n",
      "image 297/613 F:\\Deep Learning\\pytorch\\Dental OPG Image dataset\\Object detection\\test\\images\\Cavities_816_jpg.rf.735a5736664422fea69723b7e68d9634.jpg: 640x640 1 Cavities, 2 Damages, 5.1ms\n",
      "image 298/613 F:\\Deep Learning\\pytorch\\Dental OPG Image dataset\\Object detection\\test\\images\\Cavities_819_jpg.rf.7abb12a93a80a4af01705e8e72c0709a.jpg: 640x640 1 Cavities, 1 Damage, 5.1ms\n",
      "image 299/613 F:\\Deep Learning\\pytorch\\Dental OPG Image dataset\\Object detection\\test\\images\\Cavities_824_jpg.rf.b4f43d8e83a3f71d55acd30bf8d087b8.jpg: 640x640 2 Wisdoms, 5.1ms\n",
      "image 300/613 F:\\Deep Learning\\pytorch\\Dental OPG Image dataset\\Object detection\\test\\images\\Cavities_842_jpg.rf.979ee26947a832e5d8c9769abac5e33d.jpg: 640x640 2 Cavitiess, 5.1ms\n",
      "image 301/613 F:\\Deep Learning\\pytorch\\Dental OPG Image dataset\\Object detection\\test\\images\\Cavities_847_jpg.rf.fcd348acef12c3c727182d4f939de8c1.jpg: 640x640 3 Cavitiess, 5.1ms\n",
      "image 302/613 F:\\Deep Learning\\pytorch\\Dental OPG Image dataset\\Object detection\\test\\images\\Cavities_852_jpg.rf.1416b7792d62c64f9f46f52e168790e5.jpg: 640x640 2 Cavitiess, 3 Damages, 5.1ms\n",
      "image 303/613 F:\\Deep Learning\\pytorch\\Dental OPG Image dataset\\Object detection\\test\\images\\Cavities_858_jpg.rf.720888b466e2c696bbe19d454fc96fd3.jpg: 640x640 1 Cavities, 1 Damage, 5.1ms\n",
      "image 304/613 F:\\Deep Learning\\pytorch\\Dental OPG Image dataset\\Object detection\\test\\images\\Cavities_860_jpg.rf.30e78496f643ff1b38b25e6bc2b312b3.jpg: 640x640 (no detections), 5.1ms\n",
      "image 305/613 F:\\Deep Learning\\pytorch\\Dental OPG Image dataset\\Object detection\\test\\images\\Cavities_864_jpg.rf.00153c8ac3b97500fa2aff474f032f70.jpg: 640x640 3 Cavitiess, 1 Damage, 5.1ms\n",
      "image 306/613 F:\\Deep Learning\\pytorch\\Dental OPG Image dataset\\Object detection\\test\\images\\Cavities_881_jpg.rf.8e450dbda1d44cc05b45fd536196be1f.jpg: 640x640 3 Cavitiess, 1 Damage, 5.1ms\n",
      "image 307/613 F:\\Deep Learning\\pytorch\\Dental OPG Image dataset\\Object detection\\test\\images\\Cavities_886_jpg.rf.dc343bd807474a899e1c5189b202ade1.jpg: 640x640 1 Cavities, 5.1ms\n",
      "image 308/613 F:\\Deep Learning\\pytorch\\Dental OPG Image dataset\\Object detection\\test\\images\\Cavities_896_jpg.rf.8273e624cb54ee48cc2d6c2b5ee070b8.jpg: 640x640 3 Cavitiess, 2 Damages, 5.1ms\n",
      "image 309/613 F:\\Deep Learning\\pytorch\\Dental OPG Image dataset\\Object detection\\test\\images\\Cavities_909_jpg.rf.e3482d10f8ab16b1acf436eba2818e62.jpg: 640x640 1 Cavities, 1 Damage, 1 Wisdom, 5.1ms\n",
      "image 310/613 F:\\Deep Learning\\pytorch\\Dental OPG Image dataset\\Object detection\\test\\images\\Cavities_920_jpg.rf.f30217bab0c8973b74ff5c219f20f0c2.jpg: 640x640 1 Cavities, 5.1ms\n",
      "image 311/613 F:\\Deep Learning\\pytorch\\Dental OPG Image dataset\\Object detection\\test\\images\\Cavities_940_jpg.rf.4b06ec235daed2f3ac0016af911a6dfe.jpg: 640x640 1 Cavities, 1 Damage, 5.1ms\n",
      "image 312/613 F:\\Deep Learning\\pytorch\\Dental OPG Image dataset\\Object detection\\test\\images\\Cavities_953_jpg.rf.144ede3fb2c2f1147257bcb72f5fcb98.jpg: 640x640 1 Cavities, 1 Damage, 5.1ms\n",
      "image 313/613 F:\\Deep Learning\\pytorch\\Dental OPG Image dataset\\Object detection\\test\\images\\Cavities_966_jpg.rf.31f8ae19007cd0f7a1473311f313a8fc.jpg: 640x640 1 Cavities, 1 Damage, 2 Wisdoms, 5.1ms\n",
      "image 314/613 F:\\Deep Learning\\pytorch\\Dental OPG Image dataset\\Object detection\\test\\images\\Cavities_971_jpg.rf.e8ded4e522ddc6268873576b12a7f975.jpg: 640x640 1 Cavities, 1 Damage, 5.1ms\n",
      "image 315/613 F:\\Deep Learning\\pytorch\\Dental OPG Image dataset\\Object detection\\test\\images\\Cavities_974_jpg.rf.b501e71f94afd9bae6bea3601d8d99e0.jpg: 640x640 1 Cavities, 1 Infection, 5.1ms\n",
      "image 316/613 F:\\Deep Learning\\pytorch\\Dental OPG Image dataset\\Object detection\\test\\images\\Cavities_975_jpg.rf.3b85b93830221be8074f177df33e7ee0.jpg: 640x640 1 Cavities, 1 Damage, 5.1ms\n",
      "image 317/613 F:\\Deep Learning\\pytorch\\Dental OPG Image dataset\\Object detection\\test\\images\\Cavities_979_jpg.rf.d8a9828dc3a1c57aa90304b187c54300.jpg: 640x640 2 Cavitiess, 5.1ms\n",
      "image 318/613 F:\\Deep Learning\\pytorch\\Dental OPG Image dataset\\Object detection\\test\\images\\Cavities_985_jpg.rf.03f92c8015f89c6b8e729c975fa86cb7.jpg: 640x640 3 Damages, 5.1ms\n",
      "image 319/613 F:\\Deep Learning\\pytorch\\Dental OPG Image dataset\\Object detection\\test\\images\\Cavities_992_jpg.rf.95209d83ea257aa5a00cda11b0e07927.jpg: 640x640 2 Cavitiess, 2 Damages, 5.1ms\n",
      "image 320/613 F:\\Deep Learning\\pytorch\\Dental OPG Image dataset\\Object detection\\test\\images\\Damage_1023_jpg.rf.85e9286678a94585a9286f40619e3768.jpg: 640x640 4 Damages, 5.1ms\n",
      "image 321/613 F:\\Deep Learning\\pytorch\\Dental OPG Image dataset\\Object detection\\test\\images\\Damage_1025_jpg.rf.728c49483f43fd8fa6c054fc698e5ede.jpg: 640x640 4 Damages, 5.1ms\n",
      "image 322/613 F:\\Deep Learning\\pytorch\\Dental OPG Image dataset\\Object detection\\test\\images\\Damage_1035_jpg.rf.c98b4ae6459882273e5009bc36104a46.jpg: 640x640 1 Damage, 5.1ms\n",
      "image 323/613 F:\\Deep Learning\\pytorch\\Dental OPG Image dataset\\Object detection\\test\\images\\Damage_1040_jpg.rf.e7808d9068a6641ad4838d666c1caf57.jpg: 640x640 3 Damages, 5.1ms\n",
      "image 324/613 F:\\Deep Learning\\pytorch\\Dental OPG Image dataset\\Object detection\\test\\images\\Damage_1041_jpg.rf.cac22cabd83c7609cc97c7a49162c73b.jpg: 640x640 2 Damages, 1 Wisdom, 5.1ms\n",
      "image 325/613 F:\\Deep Learning\\pytorch\\Dental OPG Image dataset\\Object detection\\test\\images\\Damage_1060_jpg.rf.73b012f2b504c1146fb7c24dce121162.jpg: 640x640 5 Damages, 5.1ms\n",
      "image 326/613 F:\\Deep Learning\\pytorch\\Dental OPG Image dataset\\Object detection\\test\\images\\Damage_1095_jpg.rf.b180c69071efb9c0248519fdfd0e6dce.jpg: 640x640 2 Cavitiess, 2 Damages, 5.1ms\n",
      "image 327/613 F:\\Deep Learning\\pytorch\\Dental OPG Image dataset\\Object detection\\test\\images\\Damage_109_jpg.rf.bd708761c9254dbed6513fa9eafd230a.jpg: 640x640 1 Damage, 1 Infection, 5.1ms\n",
      "image 328/613 F:\\Deep Learning\\pytorch\\Dental OPG Image dataset\\Object detection\\test\\images\\Damage_1105_jpg.rf.51fbbb14c64f7a2e7f886bf9035c308f.jpg: 640x640 1 Damage, 1 Infection, 5.1ms\n",
      "image 329/613 F:\\Deep Learning\\pytorch\\Dental OPG Image dataset\\Object detection\\test\\images\\Damage_1112_jpg.rf.d0065b77b97a4e7da54e7aee59d89bbf.jpg: 640x640 2 Damages, 5.1ms\n",
      "image 330/613 F:\\Deep Learning\\pytorch\\Dental OPG Image dataset\\Object detection\\test\\images\\Damage_1134_jpg.rf.de3e65d7559accbed7d6f5d8ff9e2f33.jpg: 640x640 8 Damages, 5.1ms\n",
      "image 331/613 F:\\Deep Learning\\pytorch\\Dental OPG Image dataset\\Object detection\\test\\images\\Damage_1136_jpg.rf.37be016ae7f0815f6d014138823232dd.jpg: 640x640 1 Cavities, 1 Damage, 5.1ms\n",
      "image 332/613 F:\\Deep Learning\\pytorch\\Dental OPG Image dataset\\Object detection\\test\\images\\Damage_1144_jpg.rf.9c0c990375df3952255f1a4c24dfdbaf.jpg: 640x640 2 Damages, 5.1ms\n",
      "image 333/613 F:\\Deep Learning\\pytorch\\Dental OPG Image dataset\\Object detection\\test\\images\\Damage_1171_jpg.rf.f59a6b072b320b7daf36881499bff413.jpg: 640x640 1 Damage, 1 Wisdom, 5.1ms\n",
      "image 334/613 F:\\Deep Learning\\pytorch\\Dental OPG Image dataset\\Object detection\\test\\images\\Damage_1172_jpg.rf.6cafa7339e46abe81625da25c519850e.jpg: 640x640 4 Damages, 5.1ms\n",
      "image 335/613 F:\\Deep Learning\\pytorch\\Dental OPG Image dataset\\Object detection\\test\\images\\Damage_1182_jpg.rf.03fae6433def4e495115f84729d3e882.jpg: 640x640 1 Cavities, 5.1ms\n",
      "image 336/613 F:\\Deep Learning\\pytorch\\Dental OPG Image dataset\\Object detection\\test\\images\\Damage_1196_jpg.rf.473b27280b01209729f8cf404a4fa050.jpg: 640x640 1 Damage, 5.1ms\n",
      "image 337/613 F:\\Deep Learning\\pytorch\\Dental OPG Image dataset\\Object detection\\test\\images\\Damage_1200_jpg.rf.fbb327fb328333657797c4891d25e750.jpg: 640x640 1 Cavities, 2 Damages, 5.1ms\n",
      "image 338/613 F:\\Deep Learning\\pytorch\\Dental OPG Image dataset\\Object detection\\test\\images\\Damage_1204_jpg.rf.07a326b37f09c375424bb030cd1fcc73.jpg: 640x640 1 Damage, 5.1ms\n",
      "image 339/613 F:\\Deep Learning\\pytorch\\Dental OPG Image dataset\\Object detection\\test\\images\\Damage_1223_jpg.rf.244d0ed39188c297f6d8df6f90cf1fc7.jpg: 640x640 2 Damages, 5.1ms\n",
      "image 340/613 F:\\Deep Learning\\pytorch\\Dental OPG Image dataset\\Object detection\\test\\images\\Damage_1226_jpg.rf.af5bace9ef6db76f48b60141ed0be445.jpg: 640x640 2 Damages, 5.1ms\n",
      "image 341/613 F:\\Deep Learning\\pytorch\\Dental OPG Image dataset\\Object detection\\test\\images\\Damage_1235_jpg.rf.239b80a0753465e09456d23d2d97755a.jpg: 640x640 3 Damages, 5.1ms\n",
      "image 342/613 F:\\Deep Learning\\pytorch\\Dental OPG Image dataset\\Object detection\\test\\images\\Damage_1236_jpg.rf.a0936419d5cfc055f9251a7b247bb27f.jpg: 640x640 2 Damages, 5.1ms\n",
      "image 343/613 F:\\Deep Learning\\pytorch\\Dental OPG Image dataset\\Object detection\\test\\images\\Damage_1237_jpg.rf.136134164bdb7ed2866c2ba85974f17c.jpg: 640x640 2 Damages, 5.1ms\n",
      "image 344/613 F:\\Deep Learning\\pytorch\\Dental OPG Image dataset\\Object detection\\test\\images\\Damage_1245_jpg.rf.51bff83acc429f2e6e0af11d363d6ae4.jpg: 640x640 3 Damages, 5.1ms\n",
      "image 345/613 F:\\Deep Learning\\pytorch\\Dental OPG Image dataset\\Object detection\\test\\images\\Damage_1246_jpg.rf.141539147d20c153f627737f86af4ecd.jpg: 640x640 3 Damages, 5.1ms\n",
      "image 346/613 F:\\Deep Learning\\pytorch\\Dental OPG Image dataset\\Object detection\\test\\images\\Damage_1248_jpg.rf.76a37b131c8c96a6a01741d46a925688.jpg: 640x640 1 Cavities, 5.1ms\n",
      "image 347/613 F:\\Deep Learning\\pytorch\\Dental OPG Image dataset\\Object detection\\test\\images\\Damage_1272_jpg.rf.530393af56e3ef73877cdd4c4316f668.jpg: 640x640 3 Damages, 5.1ms\n",
      "image 348/613 F:\\Deep Learning\\pytorch\\Dental OPG Image dataset\\Object detection\\test\\images\\Damage_1275_jpg.rf.9549970ca118e227f08b9f703675f0e0.jpg: 640x640 2 Damages, 5.1ms\n",
      "image 349/613 F:\\Deep Learning\\pytorch\\Dental OPG Image dataset\\Object detection\\test\\images\\Damage_134_jpg.rf.d0697961497f202832b2728e8d7c2b15.jpg: 640x640 1 Damage, 5.1ms\n",
      "image 350/613 F:\\Deep Learning\\pytorch\\Dental OPG Image dataset\\Object detection\\test\\images\\Damage_1352_jpg.rf.3ae56fd2c9bf74b32be3a8974bddba06.jpg: 640x640 1 Damage, 5.1ms\n",
      "image 351/613 F:\\Deep Learning\\pytorch\\Dental OPG Image dataset\\Object detection\\test\\images\\Damage_1413_jpg.rf.051ba9bca43db46fc1185dd4d932d01c.jpg: 640x640 1 Damage, 1 Infection, 5.1ms\n",
      "image 352/613 F:\\Deep Learning\\pytorch\\Dental OPG Image dataset\\Object detection\\test\\images\\Damage_141_jpg.rf.bf1c6af22fb7b10a16fe33e2cc3ef905.jpg: 640x640 2 Damages, 5.1ms\n",
      "image 353/613 F:\\Deep Learning\\pytorch\\Dental OPG Image dataset\\Object detection\\test\\images\\Damage_1444_jpg.rf.446f08687159613cb4019e0233b6b303.jpg: 640x640 1 Cavities, 5.4ms\n",
      "image 354/613 F:\\Deep Learning\\pytorch\\Dental OPG Image dataset\\Object detection\\test\\images\\Damage_1457_jpg.rf.3c0120611cfe2722f83360619f2b7efe.jpg: 640x640 2 Damages, 5.4ms\n",
      "image 355/613 F:\\Deep Learning\\pytorch\\Dental OPG Image dataset\\Object detection\\test\\images\\Damage_1473_jpg.rf.9d4a6fa9e208d321302ab3b348e2e92d.jpg: 640x640 2 Damages, 5.4ms\n",
      "image 356/613 F:\\Deep Learning\\pytorch\\Dental OPG Image dataset\\Object detection\\test\\images\\Damage_148_jpg.rf.b0c4193a6fef244c257cb9b07b53d64e.jpg: 640x640 1 Damage, 5.4ms\n",
      "image 357/613 F:\\Deep Learning\\pytorch\\Dental OPG Image dataset\\Object detection\\test\\images\\Damage_1504_jpg.rf.4e410f267ada95e36ce8f653f6ffa0d9.jpg: 640x640 2 Damages, 5.4ms\n",
      "image 358/613 F:\\Deep Learning\\pytorch\\Dental OPG Image dataset\\Object detection\\test\\images\\Damage_1507_jpg.rf.e59a3058acaaff76f9a871014a9614de.jpg: 640x640 2 Damages, 5.4ms\n",
      "image 359/613 F:\\Deep Learning\\pytorch\\Dental OPG Image dataset\\Object detection\\test\\images\\Damage_1547_jpg.rf.53a94e3b76c95ac95b260142de2fe6e9.jpg: 640x640 1 Cavities, 1 Wisdom, 5.4ms\n",
      "image 360/613 F:\\Deep Learning\\pytorch\\Dental OPG Image dataset\\Object detection\\test\\images\\Damage_1549_jpg.rf.ae6731c6bae0a4b5705f08daa405a865.jpg: 640x640 3 Damages, 5.4ms\n",
      "image 361/613 F:\\Deep Learning\\pytorch\\Dental OPG Image dataset\\Object detection\\test\\images\\Damage_1550_jpg.rf.8521ba03fe75d9762b4925bb2fd7222d.jpg: 640x640 3 Damages, 5.4ms\n",
      "image 362/613 F:\\Deep Learning\\pytorch\\Dental OPG Image dataset\\Object detection\\test\\images\\Damage_159_jpg.rf.6e58bf1683a8cbad91d2c0ae4c13b5bb.jpg: 640x640 4 Damages, 5.4ms\n",
      "image 363/613 F:\\Deep Learning\\pytorch\\Dental OPG Image dataset\\Object detection\\test\\images\\Damage_1618_jpg.rf.166c4acebd2d450d7b7b632a0e36487f.jpg: 640x640 2 Damages, 5.4ms\n",
      "image 364/613 F:\\Deep Learning\\pytorch\\Dental OPG Image dataset\\Object detection\\test\\images\\Damage_1619_jpg.rf.af7975c5d24cb5a0d8b29212e2fbf69a.jpg: 640x640 3 Damages, 5.4ms\n",
      "image 365/613 F:\\Deep Learning\\pytorch\\Dental OPG Image dataset\\Object detection\\test\\images\\Damage_1621_jpg.rf.b0434bc644dd3088749f30b9a4f36f61.jpg: 640x640 3 Damages, 5.4ms\n",
      "image 366/613 F:\\Deep Learning\\pytorch\\Dental OPG Image dataset\\Object detection\\test\\images\\Damage_1625_jpg.rf.e5fb085a45bc689c98a29d7c1c2b5d64.jpg: 640x640 3 Damages, 5.4ms\n",
      "image 367/613 F:\\Deep Learning\\pytorch\\Dental OPG Image dataset\\Object detection\\test\\images\\Damage_1626_jpg.rf.9da6e4a6beb85ebcbddae822d6f42a9b.jpg: 640x640 1 Damage, 1 Wisdom, 5.4ms\n",
      "image 368/613 F:\\Deep Learning\\pytorch\\Dental OPG Image dataset\\Object detection\\test\\images\\Damage_164_jpg.rf.537995e3d5b5a61f19ca3d20e9a6bb67.jpg: 640x640 (no detections), 5.4ms\n",
      "image 369/613 F:\\Deep Learning\\pytorch\\Dental OPG Image dataset\\Object detection\\test\\images\\Damage_1667_jpg.rf.e5eafadac69e8556cfc171173be3bebe.jpg: 640x640 4 Damages, 5.4ms\n",
      "image 370/613 F:\\Deep Learning\\pytorch\\Dental OPG Image dataset\\Object detection\\test\\images\\Damage_1682_jpg.rf.175e9ce699765923cdb12bf58f86eb70.jpg: 640x640 1 Cavities, 3 Damages, 5.4ms\n",
      "image 371/613 F:\\Deep Learning\\pytorch\\Dental OPG Image dataset\\Object detection\\test\\images\\Damage_168_jpg.rf.e56552cfaf435f2c81368defcbf4baf9.jpg: 640x640 4 Damages, 5.4ms\n",
      "image 372/613 F:\\Deep Learning\\pytorch\\Dental OPG Image dataset\\Object detection\\test\\images\\Damage_1708_jpg.rf.bc6f6be4c026676d92686627374eff1d.jpg: 640x640 (no detections), 5.4ms\n",
      "image 373/613 F:\\Deep Learning\\pytorch\\Dental OPG Image dataset\\Object detection\\test\\images\\Damage_170_jpg.rf.849db4a509db5576dd496f0c30efe6ee.jpg: 640x640 2 Damages, 5.4ms\n",
      "image 374/613 F:\\Deep Learning\\pytorch\\Dental OPG Image dataset\\Object detection\\test\\images\\Damage_1716_jpg.rf.ec5aaac2b71ecc45e19afced5d042a92.jpg: 640x640 (no detections), 5.4ms\n",
      "image 375/613 F:\\Deep Learning\\pytorch\\Dental OPG Image dataset\\Object detection\\test\\images\\Damage_1733_jpg.rf.0180ea1585352a9eabc2c169b4f2e279.jpg: 640x640 1 Damage, 5.4ms\n",
      "image 376/613 F:\\Deep Learning\\pytorch\\Dental OPG Image dataset\\Object detection\\test\\images\\Damage_1746_jpg.rf.571e7d0d6b62ea494380a3d5fba98b94.jpg: 640x640 1 Cavities, 3 Damages, 5.4ms\n",
      "image 377/613 F:\\Deep Learning\\pytorch\\Dental OPG Image dataset\\Object detection\\test\\images\\Damage_1749_jpg.rf.64e958e189402483ef5fe865821f18f9.jpg: 640x640 2 Damages, 5.4ms\n",
      "image 378/613 F:\\Deep Learning\\pytorch\\Dental OPG Image dataset\\Object detection\\test\\images\\Damage_1751_jpg.rf.d8a1500b947dd620531bfc14606d2f57.jpg: 640x640 2 Damages, 5.4ms\n",
      "image 379/613 F:\\Deep Learning\\pytorch\\Dental OPG Image dataset\\Object detection\\test\\images\\Damage_1759_jpg.rf.92bcd0ed44b892967fe1095501616932.jpg: 640x640 2 Damages, 5.4ms\n",
      "image 380/613 F:\\Deep Learning\\pytorch\\Dental OPG Image dataset\\Object detection\\test\\images\\Damage_175_jpg.rf.15fc91592e2920d988a9b52a9827fd23.jpg: 640x640 1 Damage, 5.4ms\n",
      "image 381/613 F:\\Deep Learning\\pytorch\\Dental OPG Image dataset\\Object detection\\test\\images\\Damage_1793_jpg.rf.fe21778ca02143b41292356bd8265647.jpg: 640x640 4 Damages, 5.4ms\n",
      "image 382/613 F:\\Deep Learning\\pytorch\\Dental OPG Image dataset\\Object detection\\test\\images\\Damage_1802_jpg.rf.09d7e874c4438940db937a54a1da633a.jpg: 640x640 1 Cavities, 2 Damages, 5.4ms\n",
      "image 383/613 F:\\Deep Learning\\pytorch\\Dental OPG Image dataset\\Object detection\\test\\images\\Damage_1824_jpg.rf.a3ed82edbc640c5e5b2a7ce9845b343c.jpg: 640x640 1 Cavities, 3 Damages, 5.4ms\n",
      "image 384/613 F:\\Deep Learning\\pytorch\\Dental OPG Image dataset\\Object detection\\test\\images\\Damage_1906_jpg.rf.22d88dc52b6d9af148e72838ff7ba93b.jpg: 640x640 1 Cavities, 2 Damages, 5.4ms\n",
      "image 385/613 F:\\Deep Learning\\pytorch\\Dental OPG Image dataset\\Object detection\\test\\images\\Damage_1931_jpg.rf.8af8b491501411bbebdfa0d5b11d9ef8.jpg: 640x640 3 Damages, 5.1ms\n",
      "image 386/613 F:\\Deep Learning\\pytorch\\Dental OPG Image dataset\\Object detection\\test\\images\\Damage_1932_jpg.rf.910ca9aa8dc3a2ddb3692510d46c0d82.jpg: 640x640 3 Damages, 5.1ms\n",
      "image 387/613 F:\\Deep Learning\\pytorch\\Dental OPG Image dataset\\Object detection\\test\\images\\Damage_1973_jpg.rf.0620773c37ee993d63cd77b9de8f0d83.jpg: 640x640 1 Cavities, 3 Damages, 5.1ms\n",
      "image 388/613 F:\\Deep Learning\\pytorch\\Dental OPG Image dataset\\Object detection\\test\\images\\Damage_197_jpg.rf.f5776dbd2233d9c7917f5b16cc16f001.jpg: 640x640 1 Damage, 5.1ms\n",
      "image 389/613 F:\\Deep Learning\\pytorch\\Dental OPG Image dataset\\Object detection\\test\\images\\Damage_2044_jpg.rf.2795a5563249aef9a86d7a6da7a37829.jpg: 640x640 (no detections), 5.1ms\n",
      "image 390/613 F:\\Deep Learning\\pytorch\\Dental OPG Image dataset\\Object detection\\test\\images\\Damage_2079_jpg.rf.a40ee4c608d64acffa0c44efcc72ab12.jpg: 640x640 3 Damages, 5.1ms\n",
      "image 391/613 F:\\Deep Learning\\pytorch\\Dental OPG Image dataset\\Object detection\\test\\images\\Damage_207_jpg.rf.873abcd361f3a7cd668c704b4d00ae02.jpg: 640x640 (no detections), 5.1ms\n",
      "image 392/613 F:\\Deep Learning\\pytorch\\Dental OPG Image dataset\\Object detection\\test\\images\\Damage_2130_jpg.rf.fdb51427a4a49f890e14d446dfa73b42.jpg: 640x640 3 Cavitiess, 1 Damage, 5.1ms\n",
      "image 393/613 F:\\Deep Learning\\pytorch\\Dental OPG Image dataset\\Object detection\\test\\images\\Damage_2239_jpg.rf.b895e276a6a874cee6c6ed0e2ae1e87b.jpg: 640x640 1 Cavities, 1 Damage, 5.1ms\n",
      "image 394/613 F:\\Deep Learning\\pytorch\\Dental OPG Image dataset\\Object detection\\test\\images\\Damage_2259_jpg.rf.48f6031008b4e463758452603a50cd7f.jpg: 640x640 3 Cavitiess, 3 Damages, 5.1ms\n",
      "image 395/613 F:\\Deep Learning\\pytorch\\Dental OPG Image dataset\\Object detection\\test\\images\\Damage_225_jpg.rf.4c587ea4f7c63c77a1c7cbe77a79712b.jpg: 640x640 3 Damages, 5.1ms\n",
      "image 396/613 F:\\Deep Learning\\pytorch\\Dental OPG Image dataset\\Object detection\\test\\images\\Damage_2297_jpg.rf.bf61ff1422835e784a554bb99999ce59.jpg: 640x640 4 Damages, 5.1ms\n",
      "image 397/613 F:\\Deep Learning\\pytorch\\Dental OPG Image dataset\\Object detection\\test\\images\\Damage_2304_jpg.rf.bb5d519fe01252c3c4f93ee25bafed38.jpg: 640x640 3 Damages, 5.1ms\n",
      "image 398/613 F:\\Deep Learning\\pytorch\\Dental OPG Image dataset\\Object detection\\test\\images\\Damage_2310_jpg.rf.b143d8f02d48e8a3113982a274198ab7.jpg: 640x640 1 Damage, 5.1ms\n",
      "image 399/613 F:\\Deep Learning\\pytorch\\Dental OPG Image dataset\\Object detection\\test\\images\\Damage_2312_jpg.rf.4b8969787e496ad14d8714d39d4b7e5f.jpg: 640x640 1 Damage, 5.1ms\n",
      "image 400/613 F:\\Deep Learning\\pytorch\\Dental OPG Image dataset\\Object detection\\test\\images\\Damage_2326_jpg.rf.85ed2c3cbeb0e26835f8af2d1ca4cc22.jpg: 640x640 1 Cavities, 5.1ms\n",
      "image 401/613 F:\\Deep Learning\\pytorch\\Dental OPG Image dataset\\Object detection\\test\\images\\Damage_2341_jpg.rf.a04dc40c8cecf469dc298413c403ee94.jpg: 640x640 1 Damage, 5.1ms\n",
      "image 402/613 F:\\Deep Learning\\pytorch\\Dental OPG Image dataset\\Object detection\\test\\images\\Damage_2344_jpg.rf.8d953e069873e96818e40a3610b0d652.jpg: 640x640 1 Cavities, 2 Damages, 5.1ms\n",
      "image 403/613 F:\\Deep Learning\\pytorch\\Dental OPG Image dataset\\Object detection\\test\\images\\Damage_2359_jpg.rf.2507266b39b005847fbcb32b9d9a38ca.jpg: 640x640 2 Damages, 5.1ms\n",
      "image 404/613 F:\\Deep Learning\\pytorch\\Dental OPG Image dataset\\Object detection\\test\\images\\Damage_2379_jpg.rf.1efd272196f5cc470b30cc8787425282.jpg: 640x640 1 Damage, 5.1ms\n",
      "image 405/613 F:\\Deep Learning\\pytorch\\Dental OPG Image dataset\\Object detection\\test\\images\\Damage_2398_jpg.rf.5bc6394c5ec16850ed297f07cce0b40f.jpg: 640x640 2 Damages, 5.1ms\n",
      "image 406/613 F:\\Deep Learning\\pytorch\\Dental OPG Image dataset\\Object detection\\test\\images\\Damage_2415_jpg.rf.b611203723bfb5a7f90f6b272987b086.jpg: 640x640 1 Cavities, 5.1ms\n",
      "image 407/613 F:\\Deep Learning\\pytorch\\Dental OPG Image dataset\\Object detection\\test\\images\\Damage_2419_jpg.rf.450ccbe4390d601c908fca2b02455579.jpg: 640x640 1 Cavities, 2 Damages, 5.1ms\n",
      "image 408/613 F:\\Deep Learning\\pytorch\\Dental OPG Image dataset\\Object detection\\test\\images\\Damage_2428_jpg.rf.8dfa950fac14cd9de7d16bbb7850f564.jpg: 640x640 4 Damages, 5.1ms\n",
      "image 409/613 F:\\Deep Learning\\pytorch\\Dental OPG Image dataset\\Object detection\\test\\images\\Damage_242_jpg.rf.c74da1c0d0c8d4d4621272af932dbb5e.jpg: 640x640 1 Damage, 5.1ms\n",
      "image 410/613 F:\\Deep Learning\\pytorch\\Dental OPG Image dataset\\Object detection\\test\\images\\Damage_2443_jpg.rf.fbc4e18867b66f532ef8880f31e2c1c8.jpg: 640x640 2 Cavitiess, 2 Damages, 5.1ms\n",
      "image 411/613 F:\\Deep Learning\\pytorch\\Dental OPG Image dataset\\Object detection\\test\\images\\Damage_2444_jpg.rf.5504904333c6c61bcef4bc1b04b13aa5.jpg: 640x640 2 Cavitiess, 2 Damages, 5.1ms\n",
      "image 412/613 F:\\Deep Learning\\pytorch\\Dental OPG Image dataset\\Object detection\\test\\images\\Damage_2445_jpg.rf.8d294b851cad467f9a585e555ce38f55.jpg: 640x640 1 Damage, 1 Infection, 5.1ms\n",
      "image 413/613 F:\\Deep Learning\\pytorch\\Dental OPG Image dataset\\Object detection\\test\\images\\Damage_2461_jpg.rf.82a978ad568e445834d615fa2091b513.jpg: 640x640 1 Cavities, 3 Damages, 5.1ms\n",
      "image 414/613 F:\\Deep Learning\\pytorch\\Dental OPG Image dataset\\Object detection\\test\\images\\Damage_2465_jpg.rf.818f53420eb18330f7f02758e2d6d615.jpg: 640x640 5 Damages, 5.1ms\n",
      "image 415/613 F:\\Deep Learning\\pytorch\\Dental OPG Image dataset\\Object detection\\test\\images\\Damage_2488_jpg.rf.dc658f1afb535753973b7a66295f3cb0.jpg: 640x640 1 Cavities, 2 Damages, 5.1ms\n",
      "image 416/613 F:\\Deep Learning\\pytorch\\Dental OPG Image dataset\\Object detection\\test\\images\\Damage_2491_jpg.rf.ecda61e70ef6a977e4ff22cca8556b2e.jpg: 640x640 2 Damages, 5.1ms\n",
      "image 417/613 F:\\Deep Learning\\pytorch\\Dental OPG Image dataset\\Object detection\\test\\images\\Damage_2497_jpg.rf.a3a4878ec0a387191ecf9ca3b70266db.jpg: 640x640 (no detections), 5.1ms\n",
      "image 418/613 F:\\Deep Learning\\pytorch\\Dental OPG Image dataset\\Object detection\\test\\images\\Damage_2499_jpg.rf.260ae7bf4e9de50251037bd5d70f5a39.jpg: 640x640 1 Cavities, 2 Damages, 5.1ms\n",
      "image 419/613 F:\\Deep Learning\\pytorch\\Dental OPG Image dataset\\Object detection\\test\\images\\Damage_2517_jpg.rf.39e1b12f854191ba2b777ee906a23386.jpg: 640x640 (no detections), 5.1ms\n",
      "image 420/613 F:\\Deep Learning\\pytorch\\Dental OPG Image dataset\\Object detection\\test\\images\\Damage_2535_jpg.rf.e2841a1555afb21f185296b753ecafcf.jpg: 640x640 1 Cavities, 1 Damage, 5.1ms\n",
      "image 421/613 F:\\Deep Learning\\pytorch\\Dental OPG Image dataset\\Object detection\\test\\images\\Damage_2536_jpg.rf.587a4977432a4060233b9bd1de4bdf36.jpg: 640x640 2 Damages, 5.1ms\n",
      "image 422/613 F:\\Deep Learning\\pytorch\\Dental OPG Image dataset\\Object detection\\test\\images\\Damage_2538_jpg.rf.be1d4212415effac1c9899e60b1df61f.jpg: 640x640 1 Damage, 5.1ms\n",
      "image 423/613 F:\\Deep Learning\\pytorch\\Dental OPG Image dataset\\Object detection\\test\\images\\Damage_2540_jpg.rf.36b2c90729cdeefad7a10f8d3f78e0d0.jpg: 640x640 1 Damage, 5.1ms\n",
      "image 424/613 F:\\Deep Learning\\pytorch\\Dental OPG Image dataset\\Object detection\\test\\images\\Damage_2549_jpg.rf.6b1dea58a2906aa12c7501fadf691988.jpg: 640x640 (no detections), 5.1ms\n",
      "image 425/613 F:\\Deep Learning\\pytorch\\Dental OPG Image dataset\\Object detection\\test\\images\\Damage_2561_jpg.rf.04aafe04695b92e6a84ec2147a8a239d.jpg: 640x640 1 Cavities, 3 Damages, 5.1ms\n",
      "image 426/613 F:\\Deep Learning\\pytorch\\Dental OPG Image dataset\\Object detection\\test\\images\\Damage_2562_jpg.rf.89ea23d01c2e6e8b0bb9c6ecda8e7f4f.jpg: 640x640 2 Cavitiess, 1 Wisdom, 5.1ms\n",
      "image 427/613 F:\\Deep Learning\\pytorch\\Dental OPG Image dataset\\Object detection\\test\\images\\Damage_2565_jpg.rf.262d54cf6a3af1059dc0e861664c8ced.jpg: 640x640 (no detections), 5.1ms\n",
      "image 428/613 F:\\Deep Learning\\pytorch\\Dental OPG Image dataset\\Object detection\\test\\images\\Damage_2576_jpg.rf.ecbaa242322d7d11c26540ba23438f0a.jpg: 640x640 5 Damages, 1 Infection, 5.1ms\n",
      "image 429/613 F:\\Deep Learning\\pytorch\\Dental OPG Image dataset\\Object detection\\test\\images\\Damage_2590_jpg.rf.1a3adcd66f76a7ecd0f7cb62dd0c6d59.jpg: 640x640 1 Damage, 2 Wisdoms, 5.1ms\n",
      "image 430/613 F:\\Deep Learning\\pytorch\\Dental OPG Image dataset\\Object detection\\test\\images\\Damage_2599_jpg.rf.4767ef349085bd74d2f2c3728c87a770.jpg: 640x640 6 Damages, 5.1ms\n",
      "image 431/613 F:\\Deep Learning\\pytorch\\Dental OPG Image dataset\\Object detection\\test\\images\\Damage_2613_jpg.rf.a6dd77757895d4d9efc54facafbc4804.jpg: 640x640 1 Cavities, 2 Damages, 5.1ms\n",
      "image 432/613 F:\\Deep Learning\\pytorch\\Dental OPG Image dataset\\Object detection\\test\\images\\Damage_2633_jpg.rf.86407862876cb2d02f522ce47a73146d.jpg: 640x640 1 Damage, 1 Infection, 5.1ms\n",
      "image 433/613 F:\\Deep Learning\\pytorch\\Dental OPG Image dataset\\Object detection\\test\\images\\Damage_2639_jpg.rf.47c124fb130060b8f870b82b19233333.jpg: 640x640 2 Damages, 5.1ms\n",
      "image 434/613 F:\\Deep Learning\\pytorch\\Dental OPG Image dataset\\Object detection\\test\\images\\Damage_2660_jpg.rf.a88984a9fbe0adc86075eb4efe1b62f5.jpg: 640x640 3 Damages, 5.1ms\n",
      "image 435/613 F:\\Deep Learning\\pytorch\\Dental OPG Image dataset\\Object detection\\test\\images\\Damage_2666_jpg.rf.26df4b94f544bc00fcd0a6c609cf3254.jpg: 640x640 1 Cavities, 5.1ms\n",
      "image 436/613 F:\\Deep Learning\\pytorch\\Dental OPG Image dataset\\Object detection\\test\\images\\Damage_266_jpg.rf.0a36c8687b8d416552135354351db5b1.jpg: 640x640 (no detections), 5.1ms\n",
      "image 437/613 F:\\Deep Learning\\pytorch\\Dental OPG Image dataset\\Object detection\\test\\images\\Damage_2670_jpg.rf.4d69402d71f800054e83966175e012c5.jpg: 640x640 3 Damages, 1 Infection, 5.1ms\n",
      "image 438/613 F:\\Deep Learning\\pytorch\\Dental OPG Image dataset\\Object detection\\test\\images\\Damage_2673_jpg.rf.99a66cc83a72e98e87acba7940b0aa39.jpg: 640x640 1 Damage, 5.1ms\n",
      "image 439/613 F:\\Deep Learning\\pytorch\\Dental OPG Image dataset\\Object detection\\test\\images\\Damage_2680_jpg.rf.5c04d88cdef512771aae6ecacc56ded7.jpg: 640x640 1 Cavities, 2 Damages, 5.1ms\n",
      "image 440/613 F:\\Deep Learning\\pytorch\\Dental OPG Image dataset\\Object detection\\test\\images\\Damage_268_jpg.rf.239410891a249e276c8b68a6927ad373.jpg: 640x640 3 Damages, 5.1ms\n",
      "image 441/613 F:\\Deep Learning\\pytorch\\Dental OPG Image dataset\\Object detection\\test\\images\\Damage_2695_jpg.rf.836fd965724ecc4e2081aa8fa2191b99.jpg: 640x640 1 Cavities, 1 Damage, 1 Infection, 5.1ms\n",
      "image 442/613 F:\\Deep Learning\\pytorch\\Dental OPG Image dataset\\Object detection\\test\\images\\Damage_269_jpg.rf.c275dc176803ce5e4d07bc7060d3a2b0.jpg: 640x640 3 Damages, 5.1ms\n",
      "image 443/613 F:\\Deep Learning\\pytorch\\Dental OPG Image dataset\\Object detection\\test\\images\\Damage_2700_jpg.rf.801897d344ca75141d66a89697fd2f59.jpg: 640x640 (no detections), 5.1ms\n",
      "image 444/613 F:\\Deep Learning\\pytorch\\Dental OPG Image dataset\\Object detection\\test\\images\\Damage_2701_jpg.rf.cc1116f4a0f0d212b20f29f0280dfa62.jpg: 640x640 1 Infection, 5.1ms\n",
      "image 445/613 F:\\Deep Learning\\pytorch\\Dental OPG Image dataset\\Object detection\\test\\images\\Damage_2719_jpg.rf.9e17fd423e6a964ce42ac2658b88d318.jpg: 640x640 2 Infections, 5.1ms\n",
      "image 446/613 F:\\Deep Learning\\pytorch\\Dental OPG Image dataset\\Object detection\\test\\images\\Damage_2730_jpg.rf.7b54a2e943bcd9b2553028a2c439bfb9.jpg: 640x640 2 Damages, 1 Wisdom, 5.1ms\n",
      "image 447/613 F:\\Deep Learning\\pytorch\\Dental OPG Image dataset\\Object detection\\test\\images\\Damage_2739_jpg.rf.f7aa7c8ed888e1b9ca56107708a0d70a.jpg: 640x640 2 Damages, 1 Infection, 5.1ms\n",
      "image 448/613 F:\\Deep Learning\\pytorch\\Dental OPG Image dataset\\Object detection\\test\\images\\Damage_2753_jpg.rf.9ab2d45a94cb1fffa672b08edbdfd113.jpg: 640x640 1 Cavities, 5.1ms\n",
      "image 449/613 F:\\Deep Learning\\pytorch\\Dental OPG Image dataset\\Object detection\\test\\images\\Damage_2755_jpg.rf.3e91e37e6d3cd0826581781118d55ca8.jpg: 640x640 (no detections), 5.3ms\n",
      "image 450/613 F:\\Deep Learning\\pytorch\\Dental OPG Image dataset\\Object detection\\test\\images\\Damage_2761_jpg.rf.2a1714d6140a736581780cb78002d654.jpg: 640x640 1 Damage, 1 Infection, 5.3ms\n",
      "image 451/613 F:\\Deep Learning\\pytorch\\Dental OPG Image dataset\\Object detection\\test\\images\\Damage_2762_jpg.rf.2e474fc45ba1a7bc7b010907f7b23521.jpg: 640x640 1 Damage, 5.3ms\n",
      "image 452/613 F:\\Deep Learning\\pytorch\\Dental OPG Image dataset\\Object detection\\test\\images\\Damage_2766_jpg.rf.4552d58a7a4531c7c4693529f56c3a6d.jpg: 640x640 1 Cavities, 1 Damage, 5.3ms\n",
      "image 453/613 F:\\Deep Learning\\pytorch\\Dental OPG Image dataset\\Object detection\\test\\images\\Damage_2795_jpg.rf.89c7e80aedd3af4906d0c78cb633c5c3.jpg: 640x640 2 Cavitiess, 1 Damage, 5.3ms\n",
      "image 454/613 F:\\Deep Learning\\pytorch\\Dental OPG Image dataset\\Object detection\\test\\images\\Damage_280_jpg.rf.5b45d5bd9f4d5a60465d3a54c4e6fd2c.jpg: 640x640 2 Damages, 5.3ms\n",
      "image 455/613 F:\\Deep Learning\\pytorch\\Dental OPG Image dataset\\Object detection\\test\\images\\Damage_281_jpg.rf.736e7aa257b46a7bec95249c195d6bef.jpg: 640x640 2 Cavitiess, 1 Damage, 5.3ms\n",
      "image 456/613 F:\\Deep Learning\\pytorch\\Dental OPG Image dataset\\Object detection\\test\\images\\Damage_2829_jpg.rf.cae6cb87e61428d16ebb14c3999d85d5.jpg: 640x640 1 Infection, 5.3ms\n",
      "image 457/613 F:\\Deep Learning\\pytorch\\Dental OPG Image dataset\\Object detection\\test\\images\\Damage_2832_jpg.rf.992e517dbd37e07f23c027f588d3f0a7.jpg: 640x640 1 Damage, 5.3ms\n",
      "image 458/613 F:\\Deep Learning\\pytorch\\Dental OPG Image dataset\\Object detection\\test\\images\\Damage_2857_jpg.rf.7614b850ad915df315ce7004d3b05299.jpg: 640x640 6 Damages, 5.3ms\n",
      "image 459/613 F:\\Deep Learning\\pytorch\\Dental OPG Image dataset\\Object detection\\test\\images\\Damage_2864_jpg.rf.4f5708c0b7faac87b667c63a29033abc.jpg: 640x640 4 Infections, 5.3ms\n",
      "image 460/613 F:\\Deep Learning\\pytorch\\Dental OPG Image dataset\\Object detection\\test\\images\\Damage_2868_jpg.rf.5e0a743f208bc7051828d558ee1b26a1.jpg: 640x640 1 Cavities, 1 Damage, 1 Infection, 5.3ms\n",
      "image 461/613 F:\\Deep Learning\\pytorch\\Dental OPG Image dataset\\Object detection\\test\\images\\Damage_2875_jpg.rf.f0834d21c4a8e34742a87fe6bdc9e24c.jpg: 640x640 (no detections), 5.3ms\n",
      "image 462/613 F:\\Deep Learning\\pytorch\\Dental OPG Image dataset\\Object detection\\test\\images\\Damage_287_jpg.rf.ce1e87c14d4040471b2b9c659dfe2b97.jpg: 640x640 1 Cavities, 2 Damages, 5.3ms\n",
      "image 463/613 F:\\Deep Learning\\pytorch\\Dental OPG Image dataset\\Object detection\\test\\images\\Damage_2914_jpg.rf.fdf4b23b8a8b832a3330fa13a080cc51.jpg: 640x640 2 Infections, 5.3ms\n",
      "image 464/613 F:\\Deep Learning\\pytorch\\Dental OPG Image dataset\\Object detection\\test\\images\\Damage_2924_jpg.rf.e22051aab8b3c0c8389e2ef54aae49f5.jpg: 640x640 3 Cavitiess, 5.3ms\n",
      "image 465/613 F:\\Deep Learning\\pytorch\\Dental OPG Image dataset\\Object detection\\test\\images\\Damage_2925_jpg.rf.2d79e51fb28ca284fe336b76c108d331.jpg: 640x640 2 Cavitiess, 1 Damage, 5.3ms\n",
      "image 466/613 F:\\Deep Learning\\pytorch\\Dental OPG Image dataset\\Object detection\\test\\images\\Damage_2934_jpg.rf.187397758fb3f7a125745091e34d4e1b.jpg: 640x640 2 Damages, 5.3ms\n",
      "image 467/613 F:\\Deep Learning\\pytorch\\Dental OPG Image dataset\\Object detection\\test\\images\\Damage_2936_jpg.rf.1570fbb4d007cf8f1ac2f0fdf0b6669c.jpg: 640x640 (no detections), 5.3ms\n",
      "image 468/613 F:\\Deep Learning\\pytorch\\Dental OPG Image dataset\\Object detection\\test\\images\\Damage_2948_jpg.rf.fe10a8f06ddac209becc53bc5ab72a8a.jpg: 640x640 1 Cavities, 5.3ms\n",
      "image 469/613 F:\\Deep Learning\\pytorch\\Dental OPG Image dataset\\Object detection\\test\\images\\Damage_2959_jpg.rf.e207c34e85585f40d883b1dbe135ecab.jpg: 640x640 1 Cavities, 1 Damage, 5.3ms\n",
      "image 470/613 F:\\Deep Learning\\pytorch\\Dental OPG Image dataset\\Object detection\\test\\images\\Damage_2960_jpg.rf.f013a2adbb97959f2a9a0adb3dfe3e38.jpg: 640x640 1 Cavities, 2 Damages, 1 Infection, 5.3ms\n",
      "image 471/613 F:\\Deep Learning\\pytorch\\Dental OPG Image dataset\\Object detection\\test\\images\\Damage_2963_jpg.rf.26b25a53753fb851c7657f7e534a8897.jpg: 640x640 1 Infection, 5.3ms\n",
      "image 472/613 F:\\Deep Learning\\pytorch\\Dental OPG Image dataset\\Object detection\\test\\images\\Damage_2979_jpg.rf.f4ad3dcc76a870cdb9f61d08d02ddc31.jpg: 640x640 (no detections), 5.3ms\n",
      "image 473/613 F:\\Deep Learning\\pytorch\\Dental OPG Image dataset\\Object detection\\test\\images\\Damage_298_jpg.rf.4b9d07cccee511e6a1fbc3c030798441.jpg: 640x640 1 Cavities, 5.3ms\n",
      "image 474/613 F:\\Deep Learning\\pytorch\\Dental OPG Image dataset\\Object detection\\test\\images\\Damage_3003_jpg.rf.990e0dfa781a35f70a26d9daff3f7d05.jpg: 640x640 1 Infection, 5.3ms\n",
      "image 475/613 F:\\Deep Learning\\pytorch\\Dental OPG Image dataset\\Object detection\\test\\images\\Damage_3022_jpg.rf.8411ebe4e02d233fb29c4f6b561a5042.jpg: 640x640 1 Damage, 5.3ms\n",
      "image 476/613 F:\\Deep Learning\\pytorch\\Dental OPG Image dataset\\Object detection\\test\\images\\Damage_3026_jpg.rf.c95619649b7df383af571c92bc85fb2b.jpg: 640x640 2 Cavitiess, 4 Damages, 1 Infection, 5.3ms\n",
      "image 477/613 F:\\Deep Learning\\pytorch\\Dental OPG Image dataset\\Object detection\\test\\images\\Damage_3030_jpg.rf.00996f3566572e7c9119bc36c7d3a8f5.jpg: 640x640 (no detections), 5.3ms\n",
      "image 478/613 F:\\Deep Learning\\pytorch\\Dental OPG Image dataset\\Object detection\\test\\images\\Damage_3083_jpg.rf.f873efe82bbdd1ad42e1bea578d23b2d.jpg: 640x640 (no detections), 5.3ms\n",
      "image 479/613 F:\\Deep Learning\\pytorch\\Dental OPG Image dataset\\Object detection\\test\\images\\Damage_3089_jpg.rf.a870c4899ca9622ae946d125cc2bea34.jpg: 640x640 2 Damages, 5.3ms\n",
      "image 480/613 F:\\Deep Learning\\pytorch\\Dental OPG Image dataset\\Object detection\\test\\images\\Damage_322_jpg.rf.f3985e027e187631e9e998690096513e.jpg: 640x640 2 Cavitiess, 5.3ms\n",
      "image 481/613 F:\\Deep Learning\\pytorch\\Dental OPG Image dataset\\Object detection\\test\\images\\Damage_323_jpg.rf.31485831b6ecb2a4668110be1de9fc2a.jpg: 640x640 2 Cavitiess, 5.1ms\n",
      "image 482/613 F:\\Deep Learning\\pytorch\\Dental OPG Image dataset\\Object detection\\test\\images\\Damage_330_jpg.rf.8630190e33612f1f834bebfde1a63b7d.jpg: 640x640 1 Damage, 5.1ms\n",
      "image 483/613 F:\\Deep Learning\\pytorch\\Dental OPG Image dataset\\Object detection\\test\\images\\Damage_331_jpg.rf.03258a8558773a9d2a0d8aba78cda2db.jpg: 640x640 1 Damage, 5.1ms\n",
      "image 484/613 F:\\Deep Learning\\pytorch\\Dental OPG Image dataset\\Object detection\\test\\images\\Damage_335_jpg.rf.c65a09e7b35f8f5cbbf5ed04194977c2.jpg: 640x640 2 Damages, 5.1ms\n",
      "image 485/613 F:\\Deep Learning\\pytorch\\Dental OPG Image dataset\\Object detection\\test\\images\\Damage_341_jpg.rf.20242179b5aac241f47c6de2bf86c62c.jpg: 640x640 (no detections), 5.1ms\n",
      "image 486/613 F:\\Deep Learning\\pytorch\\Dental OPG Image dataset\\Object detection\\test\\images\\Damage_343_jpg.rf.d96e47ef44996f07d6eb75c0aaec8a40.jpg: 640x640 1 Cavities, 5.1ms\n",
      "image 487/613 F:\\Deep Learning\\pytorch\\Dental OPG Image dataset\\Object detection\\test\\images\\Damage_345_jpg.rf.c1ce941ce07d472ca6454cee47335ee8.jpg: 640x640 1 Damage, 5.1ms\n",
      "image 488/613 F:\\Deep Learning\\pytorch\\Dental OPG Image dataset\\Object detection\\test\\images\\Damage_354_jpg.rf.2fd84eba40a963d03fa60f7e4d202a19.jpg: 640x640 (no detections), 5.1ms\n",
      "image 489/613 F:\\Deep Learning\\pytorch\\Dental OPG Image dataset\\Object detection\\test\\images\\Damage_357_jpg.rf.aa1b05da5b3de8bcf44a9c74bbaf1020.jpg: 640x640 1 Damage, 5.1ms\n",
      "image 490/613 F:\\Deep Learning\\pytorch\\Dental OPG Image dataset\\Object detection\\test\\images\\Damage_369_jpg.rf.01d779b17627d188a2c761fc170ee7f1.jpg: 640x640 4 Cavitiess, 2 Damages, 5.1ms\n",
      "image 491/613 F:\\Deep Learning\\pytorch\\Dental OPG Image dataset\\Object detection\\test\\images\\Damage_372_jpg.rf.7ac7d7183439d5a801fc92f7ac892405.jpg: 640x640 2 Cavitiess, 1 Damage, 5.1ms\n",
      "image 492/613 F:\\Deep Learning\\pytorch\\Dental OPG Image dataset\\Object detection\\test\\images\\Damage_373_jpg.rf.2cc7ab1555789b39b4ac570673531806.jpg: 640x640 2 Cavitiess, 2 Damages, 5.1ms\n",
      "image 493/613 F:\\Deep Learning\\pytorch\\Dental OPG Image dataset\\Object detection\\test\\images\\Damage_391_jpg.rf.9496f2e1fbbffc09085f4f74883e74a2.jpg: 640x640 2 Damages, 5.1ms\n",
      "image 494/613 F:\\Deep Learning\\pytorch\\Dental OPG Image dataset\\Object detection\\test\\images\\Damage_392_jpg.rf.b1ad91ccaf5e451e66e58bd44d65fc7f.jpg: 640x640 1 Cavities, 5.1ms\n",
      "image 495/613 F:\\Deep Learning\\pytorch\\Dental OPG Image dataset\\Object detection\\test\\images\\Damage_394_jpg.rf.91f74bad5aaf6eeebdd944ede5cff996.jpg: 640x640 1 Cavities, 5.1ms\n",
      "image 496/613 F:\\Deep Learning\\pytorch\\Dental OPG Image dataset\\Object detection\\test\\images\\Damage_395_jpg.rf.f28449ba84de5e9604ee7b6c470a1b83.jpg: 640x640 (no detections), 5.1ms\n",
      "image 497/613 F:\\Deep Learning\\pytorch\\Dental OPG Image dataset\\Object detection\\test\\images\\Damage_414_jpg.rf.b603bafda3b60986b611c3a294526ca3.jpg: 640x640 4 Damages, 5.1ms\n",
      "image 498/613 F:\\Deep Learning\\pytorch\\Dental OPG Image dataset\\Object detection\\test\\images\\Damage_416_jpg.rf.2c327214e7493d0af7391d501f1e8b73.jpg: 640x640 (no detections), 5.1ms\n",
      "image 499/613 F:\\Deep Learning\\pytorch\\Dental OPG Image dataset\\Object detection\\test\\images\\Damage_425_jpg.rf.41b2276c532f3b1a9e58aedbbb89250e.jpg: 640x640 (no detections), 5.1ms\n",
      "image 500/613 F:\\Deep Learning\\pytorch\\Dental OPG Image dataset\\Object detection\\test\\images\\Damage_426_jpg.rf.7091219e02a10ed85babe3f914f8ea02.jpg: 640x640 1 Wisdom, 5.1ms\n",
      "image 501/613 F:\\Deep Learning\\pytorch\\Dental OPG Image dataset\\Object detection\\test\\images\\Damage_429_jpg.rf.c8063fc4a3bc8ecb6ad2b122a92650de.jpg: 640x640 (no detections), 5.1ms\n",
      "image 502/613 F:\\Deep Learning\\pytorch\\Dental OPG Image dataset\\Object detection\\test\\images\\Damage_455_jpg.rf.d2e2b429c4f15600f7d5bb63910fafd6.jpg: 640x640 2 Damages, 5.1ms\n",
      "image 503/613 F:\\Deep Learning\\pytorch\\Dental OPG Image dataset\\Object detection\\test\\images\\Damage_459_jpg.rf.1613aa1bbed4cfbfb332335c5a8caf8d.jpg: 640x640 2 Damages, 5.1ms\n",
      "image 504/613 F:\\Deep Learning\\pytorch\\Dental OPG Image dataset\\Object detection\\test\\images\\Damage_464_jpg.rf.efb780c96b41819322e75a5eaea1d8aa.jpg: 640x640 (no detections), 5.1ms\n",
      "image 505/613 F:\\Deep Learning\\pytorch\\Dental OPG Image dataset\\Object detection\\test\\images\\Damage_467_jpg.rf.b3acce78be466290756201784d20f601.jpg: 640x640 3 Damages, 5.1ms\n",
      "image 506/613 F:\\Deep Learning\\pytorch\\Dental OPG Image dataset\\Object detection\\test\\images\\Damage_470_jpg.rf.27f3acde5852a21f4165bc10ea94221c.jpg: 640x640 1 Infection, 5.1ms\n",
      "image 507/613 F:\\Deep Learning\\pytorch\\Dental OPG Image dataset\\Object detection\\test\\images\\Damage_477_jpg.rf.dab6c441a9d9ffa5d7aa2c30fbab2a9b.jpg: 640x640 1 Damage, 5.1ms\n",
      "image 508/613 F:\\Deep Learning\\pytorch\\Dental OPG Image dataset\\Object detection\\test\\images\\Damage_482_jpg.rf.6f650c29bf390291769fbb555642c150.jpg: 640x640 1 Damage, 5.1ms\n",
      "image 509/613 F:\\Deep Learning\\pytorch\\Dental OPG Image dataset\\Object detection\\test\\images\\Damage_504_jpg.rf.a53025a3f47ed32e11d270089b720dea.jpg: 640x640 (no detections), 5.1ms\n",
      "image 510/613 F:\\Deep Learning\\pytorch\\Dental OPG Image dataset\\Object detection\\test\\images\\Damage_506_jpg.rf.b7b2c0a1970af92659cf82eeec87d87d.jpg: 640x640 (no detections), 5.1ms\n",
      "image 511/613 F:\\Deep Learning\\pytorch\\Dental OPG Image dataset\\Object detection\\test\\images\\Damage_521_jpg.rf.c96080fd2a2373980267b36892f807a7.jpg: 640x640 1 Infection, 5.1ms\n",
      "image 512/613 F:\\Deep Learning\\pytorch\\Dental OPG Image dataset\\Object detection\\test\\images\\Damage_528_jpg.rf.d89f6e9ff0de0fb6ad42dd530759cefc.jpg: 640x640 (no detections), 5.1ms\n",
      "image 513/613 F:\\Deep Learning\\pytorch\\Dental OPG Image dataset\\Object detection\\test\\images\\Damage_54_jpg.rf.84d51afaac6fb22b4cd5f325fbf42915.jpg: 640x640 2 Damages, 5.1ms\n",
      "image 514/613 F:\\Deep Learning\\pytorch\\Dental OPG Image dataset\\Object detection\\test\\images\\Damage_553_jpg.rf.a9ffa9e6377d41af823528953d31a236.jpg: 640x640 1 Damage, 5.1ms\n",
      "image 515/613 F:\\Deep Learning\\pytorch\\Dental OPG Image dataset\\Object detection\\test\\images\\Damage_557_jpg.rf.5ac292bce6b15e87614c5151de265721.jpg: 640x640 1 Damage, 1 Infection, 5.1ms\n",
      "image 516/613 F:\\Deep Learning\\pytorch\\Dental OPG Image dataset\\Object detection\\test\\images\\Damage_573_jpg.rf.f7bb0bafd3430fe4c0bb4b8a15483e24.jpg: 640x640 1 Damage, 1 Infection, 5.1ms\n",
      "image 517/613 F:\\Deep Learning\\pytorch\\Dental OPG Image dataset\\Object detection\\test\\images\\Damage_58_jpg.rf.277c628115ec092ab8438dcd3c8f3b9a.jpg: 640x640 2 Cavitiess, 2 Damages, 5.1ms\n",
      "image 518/613 F:\\Deep Learning\\pytorch\\Dental OPG Image dataset\\Object detection\\test\\images\\Damage_600_jpg.rf.7284d23cb9d7fb2a4d470656e9431b09.jpg: 640x640 (no detections), 5.1ms\n",
      "image 519/613 F:\\Deep Learning\\pytorch\\Dental OPG Image dataset\\Object detection\\test\\images\\Damage_607_jpg.rf.1668c68c959cf8da26af69f9c5c9b1be.jpg: 640x640 2 Damages, 5.1ms\n",
      "image 520/613 F:\\Deep Learning\\pytorch\\Dental OPG Image dataset\\Object detection\\test\\images\\Damage_609_jpg.rf.8c53101438549042b5922051af453167.jpg: 640x640 (no detections), 5.1ms\n",
      "image 521/613 F:\\Deep Learning\\pytorch\\Dental OPG Image dataset\\Object detection\\test\\images\\Damage_610_jpg.rf.65baf9fbdbcf267ce4446d6b4aaae11a.jpg: 640x640 1 Damage, 5.1ms\n",
      "image 522/613 F:\\Deep Learning\\pytorch\\Dental OPG Image dataset\\Object detection\\test\\images\\Damage_619_jpg.rf.12f67407e738ffdd3f07d5ab37aaaa5b.jpg: 640x640 (no detections), 5.1ms\n",
      "image 523/613 F:\\Deep Learning\\pytorch\\Dental OPG Image dataset\\Object detection\\test\\images\\Damage_620_jpg.rf.0cbe65ce622595d6054f3b1f8fceac12.jpg: 640x640 1 Infection, 5.1ms\n",
      "image 524/613 F:\\Deep Learning\\pytorch\\Dental OPG Image dataset\\Object detection\\test\\images\\Damage_62_jpg.rf.6833886a55c6c72ccd13f0f4d92e0f44.jpg: 640x640 (no detections), 5.1ms\n",
      "image 525/613 F:\\Deep Learning\\pytorch\\Dental OPG Image dataset\\Object detection\\test\\images\\Damage_634_jpg.rf.e60bded3f07981d21c1a24796af5a846.jpg: 640x640 1 Infection, 5.1ms\n",
      "image 526/613 F:\\Deep Learning\\pytorch\\Dental OPG Image dataset\\Object detection\\test\\images\\Damage_639_jpg.rf.3fbc33c66647de1057ee0da53cbbb5fe.jpg: 640x640 1 Damage, 5.1ms\n",
      "image 527/613 F:\\Deep Learning\\pytorch\\Dental OPG Image dataset\\Object detection\\test\\images\\Damage_644_jpg.rf.38b167de85f7d25738cca162ebdb0d95.jpg: 640x640 1 Wisdom, 5.1ms\n",
      "image 528/613 F:\\Deep Learning\\pytorch\\Dental OPG Image dataset\\Object detection\\test\\images\\Damage_650_jpg.rf.e60c229f9e4cd6b505e7ccb1d5b28e4e.jpg: 640x640 1 Damage, 5.1ms\n",
      "image 529/613 F:\\Deep Learning\\pytorch\\Dental OPG Image dataset\\Object detection\\test\\images\\Damage_661_jpg.rf.7530110eb2d36c311690719640d44309.jpg: 640x640 (no detections), 5.1ms\n",
      "image 530/613 F:\\Deep Learning\\pytorch\\Dental OPG Image dataset\\Object detection\\test\\images\\Damage_676_jpg.rf.b47ed6c85554dc8ca24dd7747ceb6ce6.jpg: 640x640 (no detections), 5.1ms\n",
      "image 531/613 F:\\Deep Learning\\pytorch\\Dental OPG Image dataset\\Object detection\\test\\images\\Damage_678_jpg.rf.3e54d41af7a5b1cffed1b7c1ca7eda9f.jpg: 640x640 1 Infection, 5.1ms\n",
      "image 532/613 F:\\Deep Learning\\pytorch\\Dental OPG Image dataset\\Object detection\\test\\images\\Damage_700_jpg.rf.4f5b75a145598b94a6bbf31c146055b6.jpg: 640x640 2 Damages, 5.1ms\n",
      "image 533/613 F:\\Deep Learning\\pytorch\\Dental OPG Image dataset\\Object detection\\test\\images\\Damage_705_jpg.rf.3589c3f7dd19f69a96529616258f85b4.jpg: 640x640 2 Infections, 5.1ms\n",
      "image 534/613 F:\\Deep Learning\\pytorch\\Dental OPG Image dataset\\Object detection\\test\\images\\Damage_707_jpg.rf.f5819a3ee0967d209b3237792c6039d6.jpg: 640x640 2 Infections, 5.1ms\n",
      "image 535/613 F:\\Deep Learning\\pytorch\\Dental OPG Image dataset\\Object detection\\test\\images\\Damage_722_jpg.rf.5abbc36f25aed6d6e422ad2472d2df90.jpg: 640x640 1 Damage, 5.1ms\n",
      "image 536/613 F:\\Deep Learning\\pytorch\\Dental OPG Image dataset\\Object detection\\test\\images\\Damage_733_jpg.rf.02b9f4815c9d002e0378fae1a33f6422.jpg: 640x640 3 Damages, 5.1ms\n",
      "image 537/613 F:\\Deep Learning\\pytorch\\Dental OPG Image dataset\\Object detection\\test\\images\\Damage_740_jpg.rf.32f7a8e468d6c0e3f90e488d4d637975.jpg: 640x640 1 Cavities, 5.1ms\n",
      "image 538/613 F:\\Deep Learning\\pytorch\\Dental OPG Image dataset\\Object detection\\test\\images\\Damage_754_jpg.rf.6435e9d3bbeda56a01e03d9e69d025b7.jpg: 640x640 1 Damage, 5.1ms\n",
      "image 539/613 F:\\Deep Learning\\pytorch\\Dental OPG Image dataset\\Object detection\\test\\images\\Damage_759_jpg.rf.abcbcac236af1cc62780f71747a671b8.jpg: 640x640 1 Infection, 5.1ms\n",
      "image 540/613 F:\\Deep Learning\\pytorch\\Dental OPG Image dataset\\Object detection\\test\\images\\Damage_761_jpg.rf.b4275d5b66a6d6024e6036f58d1035cb.jpg: 640x640 (no detections), 5.1ms\n",
      "image 541/613 F:\\Deep Learning\\pytorch\\Dental OPG Image dataset\\Object detection\\test\\images\\Damage_764_jpg.rf.14d72da99559dec75e8567e2284106d3.jpg: 640x640 3 Damages, 5.1ms\n",
      "image 542/613 F:\\Deep Learning\\pytorch\\Dental OPG Image dataset\\Object detection\\test\\images\\Damage_76_jpg.rf.89e068538ce1c63f2274413c910cb974.jpg: 640x640 2 Damages, 5.1ms\n",
      "image 543/613 F:\\Deep Learning\\pytorch\\Dental OPG Image dataset\\Object detection\\test\\images\\Damage_77_jpg.rf.f7de29d46fbc9bb70e5b8b73867b1134.jpg: 640x640 1 Cavities, 1 Damage, 5.1ms\n",
      "image 544/613 F:\\Deep Learning\\pytorch\\Dental OPG Image dataset\\Object detection\\test\\images\\Damage_786_jpg.rf.48011c6a63f8e301881ae64c0feecc6d.jpg: 640x640 1 Infection, 5.1ms\n",
      "image 545/613 F:\\Deep Learning\\pytorch\\Dental OPG Image dataset\\Object detection\\test\\images\\Damage_809_jpg.rf.e65a30a81f7c711c7402fdb3401cbe07.jpg: 640x640 2 Wisdoms, 5.1ms\n",
      "image 546/613 F:\\Deep Learning\\pytorch\\Dental OPG Image dataset\\Object detection\\test\\images\\Damage_826_jpg.rf.de45e66d97db21540ca3d59d3981ca07.jpg: 640x640 1 Damage, 5.1ms\n",
      "image 547/613 F:\\Deep Learning\\pytorch\\Dental OPG Image dataset\\Object detection\\test\\images\\Damage_832_jpg.rf.a4b36ebbd96fcc7e4fa2a31302e7895a.jpg: 640x640 1 Damage, 5.1ms\n",
      "image 548/613 F:\\Deep Learning\\pytorch\\Dental OPG Image dataset\\Object detection\\test\\images\\Damage_846_jpg.rf.e6bc8229fa797278b5d876c2fca05bca.jpg: 640x640 1 Cavities, 4 Damages, 5.1ms\n",
      "image 549/613 F:\\Deep Learning\\pytorch\\Dental OPG Image dataset\\Object detection\\test\\images\\Damage_856_jpg.rf.8b374577ef59eea1766405a3554b8348.jpg: 640x640 1 Cavities, 1 Wisdom, 5.1ms\n",
      "image 550/613 F:\\Deep Learning\\pytorch\\Dental OPG Image dataset\\Object detection\\test\\images\\Damage_876_jpg.rf.c803b1eeab187aba9a55c09455fc0175.jpg: 640x640 (no detections), 5.1ms\n",
      "image 551/613 F:\\Deep Learning\\pytorch\\Dental OPG Image dataset\\Object detection\\test\\images\\Damage_892_jpg.rf.dedcf4cd56e892b47fe1671f0c252cbd.jpg: 640x640 2 Damages, 5.1ms\n",
      "image 552/613 F:\\Deep Learning\\pytorch\\Dental OPG Image dataset\\Object detection\\test\\images\\Damage_905_jpg.rf.275a467ebb98120ed058bb11f5654d92.jpg: 640x640 3 Damages, 5.1ms\n",
      "image 553/613 F:\\Deep Learning\\pytorch\\Dental OPG Image dataset\\Object detection\\test\\images\\Damage_906_jpg.rf.a047d630004fdb03c454bbc28762aa69.jpg: 640x640 3 Damages, 5.1ms\n",
      "image 554/613 F:\\Deep Learning\\pytorch\\Dental OPG Image dataset\\Object detection\\test\\images\\Damage_908_jpg.rf.8f0f81561761aa65f2e9526f617c415b.jpg: 640x640 3 Damages, 5.1ms\n",
      "image 555/613 F:\\Deep Learning\\pytorch\\Dental OPG Image dataset\\Object detection\\test\\images\\Damage_931_jpg.rf.aa907c54a6bb99884425d074b7b05d41.jpg: 640x640 4 Damages, 5.1ms\n",
      "image 556/613 F:\\Deep Learning\\pytorch\\Dental OPG Image dataset\\Object detection\\test\\images\\Damage_934_jpg.rf.43992801740f18104e57469010c00bd3.jpg: 640x640 1 Damage, 5.1ms\n",
      "image 557/613 F:\\Deep Learning\\pytorch\\Dental OPG Image dataset\\Object detection\\test\\images\\Infection_104_jpg.rf.993cd3731b5be53c20c9fabf6ba6c570.jpg: 640x640 1 Cavities, 1 Damage, 1 Infection, 5.1ms\n",
      "image 558/613 F:\\Deep Learning\\pytorch\\Dental OPG Image dataset\\Object detection\\test\\images\\Infection_109_jpg.rf.eac118b59997ae518ba4c59613670259.jpg: 640x640 2 Infections, 5.1ms\n",
      "image 559/613 F:\\Deep Learning\\pytorch\\Dental OPG Image dataset\\Object detection\\test\\images\\Infection_119_jpg.rf.ea2d33adbd5d2653fed0f9d0ce41a722.jpg: 640x640 1 Infection, 5.1ms\n",
      "image 560/613 F:\\Deep Learning\\pytorch\\Dental OPG Image dataset\\Object detection\\test\\images\\Infection_132_jpg.rf.ceaeb13cf2f44a978ad563f601369116.jpg: 640x640 1 Damage, 5.1ms\n",
      "image 561/613 F:\\Deep Learning\\pytorch\\Dental OPG Image dataset\\Object detection\\test\\images\\Infection_148_jpg.rf.3126c5f55dddb45f14ff8ea98558ddcb.jpg: 640x640 1 Damage, 2 Infections, 5.1ms\n",
      "image 562/613 F:\\Deep Learning\\pytorch\\Dental OPG Image dataset\\Object detection\\test\\images\\Infection_170_jpg.rf.901a04e2a743ac63ad4afc2c15a70204.jpg: 640x640 (no detections), 5.1ms\n",
      "image 563/613 F:\\Deep Learning\\pytorch\\Dental OPG Image dataset\\Object detection\\test\\images\\Infection_174_jpg.rf.1012b79f3ae4465acc5189a1b6b24861.jpg: 640x640 1 Cavities, 1 Damage, 5.1ms\n",
      "image 564/613 F:\\Deep Learning\\pytorch\\Dental OPG Image dataset\\Object detection\\test\\images\\Infection_179_jpg.rf.e98423158e826efcc1faa2ecae2cc91a.jpg: 640x640 2 Infections, 5.1ms\n",
      "image 565/613 F:\\Deep Learning\\pytorch\\Dental OPG Image dataset\\Object detection\\test\\images\\Infection_183_jpg.rf.d2dc6b822e15cda55cb6e8ac035944e4.jpg: 640x640 1 Infection, 5.1ms\n",
      "image 566/613 F:\\Deep Learning\\pytorch\\Dental OPG Image dataset\\Object detection\\test\\images\\Infection_202_jpg.rf.20e2c7d90cdd80217475bb75901f748d.jpg: 640x640 1 Damage, 5.1ms\n",
      "image 567/613 F:\\Deep Learning\\pytorch\\Dental OPG Image dataset\\Object detection\\test\\images\\Infection_220_jpg.rf.af6dac93b935660b9dca1b4366db439c.jpg: 640x640 1 Infection, 5.1ms\n",
      "image 568/613 F:\\Deep Learning\\pytorch\\Dental OPG Image dataset\\Object detection\\test\\images\\Infection_232_jpg.rf.d1cb31b98b6a77c163030e7712fd500e.jpg: 640x640 (no detections), 5.1ms\n",
      "image 569/613 F:\\Deep Learning\\pytorch\\Dental OPG Image dataset\\Object detection\\test\\images\\Infection_234_jpg.rf.ca8e5bf637da5b2a2cdcaee31844a324.jpg: 640x640 (no detections), 5.1ms\n",
      "image 570/613 F:\\Deep Learning\\pytorch\\Dental OPG Image dataset\\Object detection\\test\\images\\Infection_242_jpg.rf.e085165e26897c70ce8aa0e490f35b8a.jpg: 640x640 (no detections), 5.1ms\n",
      "image 571/613 F:\\Deep Learning\\pytorch\\Dental OPG Image dataset\\Object detection\\test\\images\\Infection_269_jpg.rf.1e55a21aa8b47316f0fda1ebc4485ffb.jpg: 640x640 1 Infection, 5.1ms\n",
      "image 572/613 F:\\Deep Learning\\pytorch\\Dental OPG Image dataset\\Object detection\\test\\images\\Infection_271_jpg.rf.d93e87bd7ca7aead582638b4022358c7.jpg: 640x640 1 Damage, 5.1ms\n",
      "image 573/613 F:\\Deep Learning\\pytorch\\Dental OPG Image dataset\\Object detection\\test\\images\\Infection_272_jpg.rf.6927328f5662ecd8f70f9b511e1ea244.jpg: 640x640 1 Damage, 5.1ms\n",
      "image 574/613 F:\\Deep Learning\\pytorch\\Dental OPG Image dataset\\Object detection\\test\\images\\Infection_288_jpg.rf.10361bb5b09b99e36fbe64c8b8a633f4.jpg: 640x640 (no detections), 5.1ms\n",
      "image 575/613 F:\\Deep Learning\\pytorch\\Dental OPG Image dataset\\Object detection\\test\\images\\Infection_292_jpg.rf.76623aa2319d84737abc0ba4f0d77e27.jpg: 640x640 (no detections), 5.1ms\n",
      "image 576/613 F:\\Deep Learning\\pytorch\\Dental OPG Image dataset\\Object detection\\test\\images\\Infection_306_jpg.rf.5e3ab8b57d794a78a71f42e8c31a3b4f.jpg: 640x640 2 Cavitiess, 5.1ms\n",
      "image 577/613 F:\\Deep Learning\\pytorch\\Dental OPG Image dataset\\Object detection\\test\\images\\Infection_317_jpg.rf.503aa162548c4957a458d3a2fa5a01be.jpg: 640x640 (no detections), 5.1ms\n",
      "image 578/613 F:\\Deep Learning\\pytorch\\Dental OPG Image dataset\\Object detection\\test\\images\\Infection_327_jpg.rf.7f1bf7f078f285afeb41c19e18208714.jpg: 640x640 2 Cavitiess, 5.1ms\n",
      "image 579/613 F:\\Deep Learning\\pytorch\\Dental OPG Image dataset\\Object detection\\test\\images\\Infection_330_jpg.rf.24e01d1919e7d40ab154dc98461cc7f2.jpg: 640x640 2 Cavitiess, 1 Infection, 5.1ms\n",
      "image 580/613 F:\\Deep Learning\\pytorch\\Dental OPG Image dataset\\Object detection\\test\\images\\Infection_348_jpg.rf.7aa79b2ede5a5dfebf89f25822b43465.jpg: 640x640 (no detections), 5.1ms\n",
      "image 581/613 F:\\Deep Learning\\pytorch\\Dental OPG Image dataset\\Object detection\\test\\images\\Infection_354_jpg.rf.979368c89e4c027c84fe6a083325d07c.jpg: 640x640 1 Infection, 5.1ms\n",
      "image 582/613 F:\\Deep Learning\\pytorch\\Dental OPG Image dataset\\Object detection\\test\\images\\Infection_369_jpg.rf.dd04f3d50e27d8d20776b62a96d91e77.jpg: 640x640 1 Cavities, 1 Infection, 5.1ms\n",
      "image 583/613 F:\\Deep Learning\\pytorch\\Dental OPG Image dataset\\Object detection\\test\\images\\Infection_384_jpg.rf.8833e6e9bfca425832c61ff1c54be898.jpg: 640x640 2 Damages, 1 Infection, 5.1ms\n",
      "image 584/613 F:\\Deep Learning\\pytorch\\Dental OPG Image dataset\\Object detection\\test\\images\\Infection_385_jpg.rf.7b760a1277f50c57b60c68ce640ebddd.jpg: 640x640 2 Damages, 5.1ms\n",
      "image 585/613 F:\\Deep Learning\\pytorch\\Dental OPG Image dataset\\Object detection\\test\\images\\Infection_390_jpg.rf.7f15ee664241fa6fb43194ee0081ede0.jpg: 640x640 (no detections), 5.1ms\n",
      "image 586/613 F:\\Deep Learning\\pytorch\\Dental OPG Image dataset\\Object detection\\test\\images\\Infection_399_jpg.rf.a5b12f63676cf4706b4d1a7053859f4b.jpg: 640x640 1 Infection, 5.1ms\n",
      "image 587/613 F:\\Deep Learning\\pytorch\\Dental OPG Image dataset\\Object detection\\test\\images\\Infection_403_jpg.rf.6813ca1b53cf6bc256055be0a5bd8926.jpg: 640x640 1 Cavities, 5.1ms\n",
      "image 588/613 F:\\Deep Learning\\pytorch\\Dental OPG Image dataset\\Object detection\\test\\images\\Infection_409_jpg.rf.2a0426dc69ba93c375f09cc688d34a3f.jpg: 640x640 1 Infection, 5.1ms\n",
      "image 589/613 F:\\Deep Learning\\pytorch\\Dental OPG Image dataset\\Object detection\\test\\images\\Infection_419_jpg.rf.cdd818a4e376a568fc7835e02a3b9348.jpg: 640x640 (no detections), 5.1ms\n",
      "image 590/613 F:\\Deep Learning\\pytorch\\Dental OPG Image dataset\\Object detection\\test\\images\\Infection_423_jpg.rf.03160a381c8e06847896f756ddbb1dc3.jpg: 640x640 (no detections), 5.1ms\n",
      "image 591/613 F:\\Deep Learning\\pytorch\\Dental OPG Image dataset\\Object detection\\test\\images\\Infection_433_jpg.rf.47d884a61ca1540ad49b210a1f282a0f.jpg: 640x640 (no detections), 5.1ms\n",
      "image 592/613 F:\\Deep Learning\\pytorch\\Dental OPG Image dataset\\Object detection\\test\\images\\Infection_438_jpg.rf.37c27d20003edf758776c2b8c019715c.jpg: 640x640 1 Infection, 5.1ms\n",
      "image 593/613 F:\\Deep Learning\\pytorch\\Dental OPG Image dataset\\Object detection\\test\\images\\Infection_444_jpg.rf.d11565ddac4b1792a492c34ecfa0e56a.jpg: 640x640 (no detections), 5.1ms\n",
      "image 594/613 F:\\Deep Learning\\pytorch\\Dental OPG Image dataset\\Object detection\\test\\images\\Infection_460_jpg.rf.f96b705bd9fc5d2ac9d6f327f5c7c143.jpg: 640x640 2 Infections, 5.1ms\n",
      "image 595/613 F:\\Deep Learning\\pytorch\\Dental OPG Image dataset\\Object detection\\test\\images\\Infection_467_jpg.rf.21b599156f89854a0a1fc16a56cb16e0.jpg: 640x640 (no detections), 5.1ms\n",
      "image 596/613 F:\\Deep Learning\\pytorch\\Dental OPG Image dataset\\Object detection\\test\\images\\Infection_486_jpg.rf.7c23df5a4e31d43d85901a3fece4b5f9.jpg: 640x640 (no detections), 5.1ms\n",
      "image 597/613 F:\\Deep Learning\\pytorch\\Dental OPG Image dataset\\Object detection\\test\\images\\Infection_508_jpg.rf.74c8d930aada480378fa3870f225ca55.jpg: 640x640 (no detections), 5.1ms\n",
      "image 598/613 F:\\Deep Learning\\pytorch\\Dental OPG Image dataset\\Object detection\\test\\images\\Infection_519_jpg.rf.101d988d4d68888864449bacfd356164.jpg: 640x640 (no detections), 5.1ms\n",
      "image 599/613 F:\\Deep Learning\\pytorch\\Dental OPG Image dataset\\Object detection\\test\\images\\Infection_552_jpg.rf.83fdefa5a7b6750c1295c4155378f23e.jpg: 640x640 1 Infection, 5.1ms\n",
      "image 600/613 F:\\Deep Learning\\pytorch\\Dental OPG Image dataset\\Object detection\\test\\images\\Infection_553_jpg.rf.2ad811e75a664b4a364d9c448d0cc398.jpg: 640x640 1 Infection, 5.1ms\n",
      "image 601/613 F:\\Deep Learning\\pytorch\\Dental OPG Image dataset\\Object detection\\test\\images\\Infection_562_jpg.rf.8a74a6ffb5c25b5814b56b923a30f876.jpg: 640x640 1 Infection, 5.1ms\n",
      "image 602/613 F:\\Deep Learning\\pytorch\\Dental OPG Image dataset\\Object detection\\test\\images\\Infection_564_jpg.rf.ceca004687c292384e47cd7b0c2261b7.jpg: 640x640 (no detections), 5.1ms\n",
      "image 603/613 F:\\Deep Learning\\pytorch\\Dental OPG Image dataset\\Object detection\\test\\images\\Infection_565_jpg.rf.985adac5ef41888fef55bd17b34142d4.jpg: 640x640 (no detections), 5.1ms\n",
      "image 604/613 F:\\Deep Learning\\pytorch\\Dental OPG Image dataset\\Object detection\\test\\images\\Infection_56_jpg.rf.c61fe737ac3644af844b19e44cb8abcf.jpg: 640x640 2 Damages, 5.1ms\n",
      "image 605/613 F:\\Deep Learning\\pytorch\\Dental OPG Image dataset\\Object detection\\test\\images\\Infection_577_jpg.rf.1e7f5bfcdcb6a5ececec50a3741be179.jpg: 640x640 1 Infection, 5.1ms\n",
      "image 606/613 F:\\Deep Learning\\pytorch\\Dental OPG Image dataset\\Object detection\\test\\images\\Infection_588_jpg.rf.c27bc294f2c3308870f722def099fabf.jpg: 640x640 1 Infection, 5.1ms\n",
      "image 607/613 F:\\Deep Learning\\pytorch\\Dental OPG Image dataset\\Object detection\\test\\images\\Infection_593_jpg.rf.a276d8c775184a6da77902174fba3472.jpg: 640x640 (no detections), 5.1ms\n",
      "image 608/613 F:\\Deep Learning\\pytorch\\Dental OPG Image dataset\\Object detection\\test\\images\\Infection_643_jpg.rf.8e44dc4f716382d0c90910bfd747eac7.jpg: 640x640 2 Cavitiess, 1 Infection, 1 Wisdom, 5.1ms\n",
      "image 609/613 F:\\Deep Learning\\pytorch\\Dental OPG Image dataset\\Object detection\\test\\images\\Infection_658_jpg.rf.42390d72c7bfe468350f4b5cc4c7104f.jpg: 640x640 1 Infection, 1 Wisdom, 9.1ms\n",
      "image 610/613 F:\\Deep Learning\\pytorch\\Dental OPG Image dataset\\Object detection\\test\\images\\Infection_663_jpg.rf.0f7b05b825cb95cc77b8bd31911dc177.jpg: 640x640 1 Infection, 2 Wisdoms, 9.1ms\n",
      "image 611/613 F:\\Deep Learning\\pytorch\\Dental OPG Image dataset\\Object detection\\test\\images\\Infection_669_jpg.rf.80d01abd023997fdd15404fb71abf467.jpg: 640x640 1 Cavities, 9.1ms\n",
      "image 612/613 F:\\Deep Learning\\pytorch\\Dental OPG Image dataset\\Object detection\\test\\images\\Infection_688_jpg.rf.64ae1b6c173198f2dead4d4b2fa2f4ab.jpg: 640x640 1 Infection, 9.1ms\n",
      "image 613/613 F:\\Deep Learning\\pytorch\\Dental OPG Image dataset\\Object detection\\test\\images\\Infection_79_jpg.rf.3d8e7e95aab05e8a91e5b3cfed09eed8.jpg: 640x640 3 Cavitiess, 1 Infection, 9.1ms\n",
      "Speed: 1.4ms preprocess, 5.2ms inference, 1.1ms postprocess per image at shape (32, 3, 640, 640)\n",
      "Results saved to \u001B[1mruns\\detect\\predict\u001B[0m\n",
      "520 labels saved to runs\\detect\\predict\\labels\n"
     ]
    }
   ],
   "execution_count": 22
  },
  {
   "metadata": {
    "ExecuteTime": {
     "end_time": "2025-06-06T04:51:32.783840Z",
     "start_time": "2025-06-06T04:51:32.779104Z"
    }
   },
   "cell_type": "code",
   "source": [
    "'''\n",
    "for res in predict_results:\n",
    "    img = res.orig_img.copy()\n",
    "\n",
    "    for box in res.boxes:\n",
    "        x1, y1, x2, y2 = box.xyxy[0].cpu().numpy().astype(int)\n",
    "        conf = float(box.conf[0])\n",
    "        cls  = int(box.cls[0])\n",
    "        cv2.rectangle(img, (x1, y1), (x2, y2), color=(255, 0, 0), thickness=2)\n",
    "        label = f\"{cls}:{conf:.2f}\"\n",
    "        cv2.putText(img, label, (x1, y1 - 5),\n",
    "                    cv2.FONT_HERSHEY_SIMPLEX, 0.5, (255, 0, 0), 1)\n",
    "    img_rgb = cv2.cvtColor(img, cv2.COLOR_BGR2RGB)\n",
    "    plt.figure(figsize=(6, 6))\n",
    "    plt.imshow(img_rgb)\n",
    "    plt.axis(\"off\")\n",
    "\n",
    "plt.show()\n",
    "'''"
   ],
   "id": "2956d6fac1d30946",
   "outputs": [
    {
     "data": {
      "text/plain": [
       "'\\nfor res in predict_results:\\n    img = res.orig_img.copy()\\n\\n    for box in res.boxes:\\n        x1, y1, x2, y2 = box.xyxy[0].cpu().numpy().astype(int)\\n        conf = float(box.conf[0])\\n        cls  = int(box.cls[0])\\n        cv2.rectangle(img, (x1, y1), (x2, y2), color=(255, 0, 0), thickness=2)\\n        label = f\"{cls}:{conf:.2f}\"\\n        cv2.putText(img, label, (x1, y1 - 5),\\n                    cv2.FONT_HERSHEY_SIMPLEX, 0.5, (255, 0, 0), 1)\\n    img_rgb = cv2.cvtColor(img, cv2.COLOR_BGR2RGB)\\n    plt.figure(figsize=(6, 6))\\n    plt.imshow(img_rgb)\\n    plt.axis(\"off\")\\n\\nplt.show()\\n'"
      ]
     },
     "execution_count": 24,
     "metadata": {},
     "output_type": "execute_result"
    }
   ],
   "execution_count": 24
  },
  {
   "metadata": {
    "ExecuteTime": {
     "end_time": "2025-06-06T05:02:20.640707Z",
     "start_time": "2025-06-06T05:02:20.593896Z"
    }
   },
   "cell_type": "code",
   "source": [
    "import random\n",
    "image_dir = 'F:/Deep learning/pytorch/runs/detect/predict/'\n",
    "image_files = [ f for f in os.listdir(image_dir) if f.endswith('.jpg') or f.endswith('.jpeg') ]\n",
    "\n",
    "no_display = 4\n",
    "selected_images = random.sample(image_files, min(no_display, len(image_files)))\n",
    "\n",
    "for image_file in selected_images:\n",
    "    try:\n",
    "        # Read the image\n",
    "        image_path = os.path.join(image_dir, image_file)\n",
    "        image = cv2.imread(image_path)\n",
    "        if image is None:\n",
    "            print(f\"Error: Could not load image {image_path}\")\n",
    "            continue\n",
    "\n",
    "        image_rgb = cv2.cvtColor(image, cv2.COLOR_BGR2RGB)\n",
    "\n",
    "        # Display the image with predictions\n",
    "        plt.figure(figsize=(8, 8))\n",
    "        plt.imshow(image_rgb)\n",
    "        plt.axis('off')\n",
    "        plt.title(f'Predictions for {image_file}')\n",
    "        plt.show()\n",
    "\n",
    "    except Exception as e:\n",
    "        print(f\"Error processing {image_file}: {e}\")\n",
    "\n",
    "print(\"Done displaying random images with predictions.\")"
   ],
   "id": "ebce5bbf9be18df7",
   "outputs": [
    {
     "data": {
      "text/plain": [
       "<Figure size 800x800 with 1 Axes>"
      ]
     },
     "metadata": {},
     "output_type": "display_data"
    },
    {
     "data": {
      "text/plain": [
       "<Figure size 800x800 with 1 Axes>"
      ]
     },
     "metadata": {},
     "output_type": "display_data"
    },
    {
     "data": {
      "text/plain": [
       "<Figure size 800x800 with 1 Axes>"
      ]
     },
     "metadata": {},
     "output_type": "display_data"
    },
    {
     "data": {
      "text/plain": [
       "<Figure size 800x800 with 1 Axes>"
      ]
     },
     "metadata": {},
     "output_type": "display_data"
    },
    {
     "name": "stdout",
     "output_type": "stream",
     "text": [
      "Done displaying random images with predictions.\n"
     ]
    }
   ],
   "execution_count": 27
  }
 ],
 "metadata": {
  "kernelspec": {
   "display_name": "Python 3",
   "language": "python",
   "name": "python3"
  },
  "language_info": {
   "codemirror_mode": {
    "name": "ipython",
    "version": 2
   },
   "file_extension": ".py",
   "mimetype": "text/x-python",
   "name": "python",
   "nbconvert_exporter": "python",
   "pygments_lexer": "ipython2",
   "version": "2.7.6"
  }
 },
 "nbformat": 4,
 "nbformat_minor": 5
}
